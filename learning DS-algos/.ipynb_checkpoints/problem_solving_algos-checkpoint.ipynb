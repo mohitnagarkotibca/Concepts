{
 "cells": [
  {
   "cell_type": "code",
   "execution_count": 21,
   "id": "primary-cincinnati",
   "metadata": {},
   "outputs": [
    {
     "name": "stdout",
     "output_type": "stream",
     "text": [
      "1000 500.0 250.0 125.0 62.5 31.25 15.625 7.8125 3.90625 1.953125\n"
     ]
    }
   ],
   "source": [
    "li=[]\n",
    "def recur(n):\n",
    "    if n>1:\n",
    "        li.append(n)\n",
    "        recur(n/2)\n",
    "    else:\n",
    "        print(*li)\n",
    "        return\n",
    "recur(1000)"
   ]
  },
  {
   "attachments": {
    "7a37afa2-087d-409b-aa98-b7c93631c944.png": {
     "image/png": "[encoded data removed]"
    }
   },
   "cell_type": "markdown",
   "id": "crazy-emergency",
   "metadata": {},
   "source": [
    "![image.png](attachment:7a37afa2-087d-409b-aa98-b7c93631c944.png) "
   ]
  },
  {
   "cell_type": "code",
   "execution_count": 11,
   "id": "figured-bangladesh",
   "metadata": {},
   "outputs": [
    {
     "name": "stdout",
     "output_type": "stream",
     "text": [
      "           *\n",
      "          ***\n",
      "         *****\n",
      "        *******\n",
      "       *********\n",
      "      ***********\n",
      "     *************\n",
      "    ***************\n",
      "   *****************\n",
      "  *******************\n",
      " *********************\n",
      "  *******************\n",
      "   *****************\n",
      "    ***************\n",
      "     *************\n",
      "      ***********\n",
      "       *********\n",
      "        *******\n",
      "         *****\n",
      "          ***\n",
      "           *\n"
     ]
    }
   ],
   "source": [
    "def recur(n,j,i):\n",
    "    if n<1:\n",
    "        if i<0:\n",
    "            return\n",
    "        print(' '*j,'*'*i)\n",
    "        recur(n,j+1,i-2)\n",
    "    else:\n",
    "        print(' '*n,'*'*i)\n",
    "        j=n-1\n",
    "        recur(n-1,j,i+2)\n",
    "    \n",
    "recur(10,10,1)"
   ]
  },
  {
   "cell_type": "code",
   "execution_count": null,
   "id": "tamil-hunger",
   "metadata": {},
   "outputs": [],
   "source": []
  }
 ],
 "metadata": {
  "kernelspec": {
   "display_name": "Python 3",
   "language": "python",
   "name": "python3"
  },
  "language_info": {
   "codemirror_mode": {
    "name": "ipython",
    "version": 3
   },
   "file_extension": ".py",
   "mimetype": "text/x-python",
   "name": "python",
   "nbconvert_exporter": "python",
   "pygments_lexer": "ipython3",
   "version": "3.8.5"
  }
 },
 "nbformat": 4,
 "nbformat_minor": 5
}
