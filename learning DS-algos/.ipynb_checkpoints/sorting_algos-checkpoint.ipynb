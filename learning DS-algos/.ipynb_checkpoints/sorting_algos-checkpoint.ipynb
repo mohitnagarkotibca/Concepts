{
 "cells": [
  {
   "cell_type": "code",
   "execution_count": 1,
   "metadata": {},
   "outputs": [],
   "source": [
    "import numpy as np\n",
    "arr= np.random.randint(low=0,high=20, size=11)"
   ]
  },
  {
   "cell_type": "code",
   "execution_count": 2,
   "metadata": {},
   "outputs": [
    {
     "name": "stdout",
     "output_type": "stream",
     "text": [
      "8 3 3 16 18 18 17 15 3 11 13\n"
     ]
    }
   ],
   "source": [
    "print(*arr)"
   ]
  },
  {
   "cell_type": "markdown",
   "metadata": {},
   "source": [
    "## Idea:\n",
    "\n",
    "selection sort, Takes  Smallest number and place it in it's right position.<br>\n",
    "it will start by taking initial value and  will compare the entire array with it.<br> \n",
    "If any smaller value is found then it will swap it with the considered value<br>"
   ]
  },
  {
   "cell_type": "code",
   "execution_count": 5,
   "metadata": {},
   "outputs": [
    {
     "name": "stdout",
     "output_type": "stream",
     "text": [
      "Starting array : 10 10 14 7 9 19 10 0 2 18 11 \n",
      "\n",
      "\n",
      "0 10 14 7 9 19 10 10 2 18 11\n",
      "0 2 14 7 9 19 10 10 10 18 11\n",
      "0 2 7 14 9 19 10 10 10 18 11\n",
      "0 2 7 9 14 19 10 10 10 18 11\n",
      "0 2 7 9 10 19 14 10 10 18 11\n",
      "0 2 7 9 10 10 14 19 10 18 11\n",
      "0 2 7 9 10 10 10 19 14 18 11\n",
      "0 2 7 9 10 10 10 11 14 18 19\n",
      "0 2 7 9 10 10 10 11 14 18 19\n",
      "0 2 7 9 10 10 10 11 14 18 19\n",
      "0 2 7 9 10 10 10 11 14 18 19\n",
      "\n",
      "\n",
      "Final array: 0 2 7 9 10 10 10 11 14 18 19\n"
     ]
    }
   ],
   "source": [
    "def selection_sort(arr):\n",
    "    N= len(arr)\n",
    "    for i in range(N):\n",
    "        minimum= i\n",
    "        for j in range(i+1,N):\n",
    "            if arr[minimum] > arr[j]:\n",
    "                minimum = j\n",
    "        temp= arr[i]\n",
    "        arr[i]= arr[minimum]\n",
    "        arr[minimum]= temp\n",
    "        print(*arr)\n",
    "    return arr\n",
    "        \n",
    "print('Starting array :',*arr,'\\n\\n')\n",
    "a1= selection_sort(arr.copy())\n",
    "print('\\n\\nFinal array:',*a1)"
   ]
  },
  {
   "cell_type": "markdown",
   "metadata": {},
   "source": [
    "    Time complexity\n",
    "    +-------+----------+----------+\n",
    "    | Best  |  Average |  Worst   |\n",
    "    +-------+----------+----------+\n",
    "    | O(n²) |   O(n²)  |   O(n²)  |\n",
    "    +-------+----------+----------+"
   ]
  },
  {
   "cell_type": "markdown",
   "metadata": {},
   "source": [
    "## "
   ]
  },
  {
   "cell_type": "markdown",
   "metadata": {},
   "source": [
    "## "
   ]
  },
  {
   "cell_type": "markdown",
   "metadata": {},
   "source": [
    "## Bubble sort"
   ]
  },
  {
   "cell_type": "markdown",
   "metadata": {},
   "source": [
    "## Idea:\n",
    "Bubble sort came from idea of \" Bubbles \", where bigger bubble tends to come out first from water.\n",
    "This algo compares two elements at a time and sort the two elements by keeping smaller one at left and bigger one at right and thus repeating again and again."
   ]
  },
  {
   "cell_type": "code",
   "execution_count": 6,
   "metadata": {},
   "outputs": [
    {
     "data": {
      "text/plain": [
       "array([10, 10, 14,  7,  9, 19, 10,  0,  2, 18, 11])"
      ]
     },
     "execution_count": 6,
     "metadata": {},
     "output_type": "execute_result"
    }
   ],
   "source": [
    "arr"
   ]
  },
  {
   "cell_type": "code",
   "execution_count": 7,
   "metadata": {},
   "outputs": [
    {
     "name": "stdout",
     "output_type": "stream",
     "text": [
      "Starting array : 10 10 14 7 9 19 10 0 2 18 11 \n",
      "\n",
      "\n",
      "10 10 7 9 14 10 0 2 18 11 19\n",
      "10 7 9 10 10 0 2 14 11 18 19\n",
      "7 9 10 10 0 2 10 11 14 18 19\n",
      "7 9 10 0 2 10 10 11 14 18 19\n",
      "7 9 0 2 10 10 10 11 14 18 19\n",
      "7 0 2 9 10 10 10 11 14 18 19\n",
      "0 2 7 9 10 10 10 11 14 18 19\n",
      "0 2 7 9 10 10 10 11 14 18 19\n",
      "0 2 7 9 10 10 10 11 14 18 19\n",
      "0 2 7 9 10 10 10 11 14 18 19\n",
      "\n",
      "\n",
      "final array: 0 2 7 9 10 10 10 11 14 18 19\n"
     ]
    }
   ],
   "source": [
    "def bubble_sort(arr):\n",
    "    N= len(arr)\n",
    "    for j in range(N-1):\n",
    "        for i in range(N-1):\n",
    "            if arr[i] <= arr[i+1]:\n",
    "                continue\n",
    "            else:\n",
    "                temp= arr[i+1]\n",
    "                arr[i+1]= arr[i]\n",
    "                arr[i]= temp\n",
    "        print(*arr)\n",
    "    print('\\n\\nfinal array:',*arr)\n",
    "print(\"Starting array :\",*arr,'\\n\\n')\n",
    "bubble_sort(arr.copy())\n"
   ]
  },
  {
   "cell_type": "markdown",
   "metadata": {},
   "source": [
    "    Time complexity\n",
    "    +------+----------+----------+\n",
    "    | Best |  Average |  Worst   |\n",
    "    +------+----------+----------+\n",
    "    | O(n) |   O(n²)  |   O(n²)  |\n",
    "    +------+----------+----------+\n"
   ]
  },
  {
   "cell_type": "markdown",
   "metadata": {},
   "source": [
    " "
   ]
  },
  {
   "cell_type": "markdown",
   "metadata": {},
   "source": [
    " "
   ]
  },
  {
   "cell_type": "markdown",
   "metadata": {},
   "source": [
    " "
   ]
  },
  {
   "cell_type": "markdown",
   "metadata": {},
   "source": [
    "## Merge sort"
   ]
  },
  {
   "cell_type": "code",
   "execution_count": 25,
   "metadata": {},
   "outputs": [
    {
     "data": {
      "text/plain": [
       "[0, 1, 1, 7]"
      ]
     },
     "execution_count": 25,
     "metadata": {},
     "output_type": "execute_result"
    }
   ],
   "source": [
    "def merge(left,right):\n",
    "    i=0\n",
    "    j=0\n",
    "    li=[]\n",
    "    while True:\n",
    "        if left[i]<=right[j]:\n",
    "            li.append(left[i])\n",
    "            i+=1\n",
    "        else:\n",
    "            li.append(right[j])\n",
    "            j+=1\n",
    "        if i == len(left) or j== len(right):\n",
    "            break\n",
    "    if i <len(left):\n",
    "        for x in range(i,len(left)):\n",
    "            li.append(left[x])\n",
    "    if j < len(right):\n",
    "        for x in range(j, len(right)):\n",
    "            li.append(right[x])\n",
    "    return li\n",
    "merge([0,1],[1,7])"
   ]
  },
  {
   "cell_type": "code",
   "execution_count": 26,
   "metadata": {
    "scrolled": true
   },
   "outputs": [
    {
     "data": {
      "text/plain": [
       "[1, 3, 4, 4, 9, 9, 11, 11, 15, 16, 19]"
      ]
     },
     "execution_count": 26,
     "metadata": {},
     "output_type": "execute_result"
    }
   ],
   "source": [
    "def merge_sort(arr):\n",
    "    if len(arr)==1:\n",
    "        return arr\n",
    "    mid= len(arr)//2\n",
    "    left= arr[:mid]\n",
    "    right= arr[mid:]\n",
    "    a= merge_sort(left)\n",
    "    b= merge_sort(right)\n",
    "    return merge(a,b)\n",
    "merge_sort(arr)\n"
   ]
  },
  {
   "cell_type": "markdown",
   "metadata": {},
   "source": [
    "arr"
   ]
  },
  {
   "cell_type": "code",
   "execution_count": null,
   "metadata": {},
   "outputs": [],
   "source": []
  }
 ],
 "metadata": {
  "kernelspec": {
   "display_name": "Python 3",
   "language": "python",
   "name": "python3"
  },
  "language_info": {
   "codemirror_mode": {
    "name": "ipython",
    "version": 3
   },
   "file_extension": ".py",
   "mimetype": "text/x-python",
   "name": "python",
   "nbconvert_exporter": "python",
   "pygments_lexer": "ipython3",
   "version": "3.7.3"
  }
 },
 "nbformat": 4,
 "nbformat_minor": 5
}
