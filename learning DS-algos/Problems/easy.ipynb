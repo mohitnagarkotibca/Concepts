{
 "cells": [
  {
   "cell_type": "markdown",
   "metadata": {},
   "source": [
    "## 558 (people who successfuly submitted the problem in first go)\n",
    "Impressed by the power of this number, Karan has begun to look for occurrences of four anywhere. He has a list of T integers, for each of them he wants to calculate the number of occurrences of the digit 4 in the decimal representation. He is too busy now, so please help him.\n",
    "<br>\n",
    "Input:<br>\n",
    "5<br>\n",
    "447474<br>\n",
    "228<br>\n",
    "6664<br>\n",
    "40<br>\n",
    "81<br>\n",
    "\n",
    "Output:<br>\n",
    "4<br>\n",
    "0<br>\n",
    "1<br>\n",
    "1<br>\n",
    "0<br>\n"
   ]
  },
  {
   "cell_type": "code",
   "execution_count": 16,
   "metadata": {},
   "outputs": [
    {
     "name": "stdin",
     "output_type": "stream",
     "text": [
      " 4\n",
      " 447474\n",
      " 228\n",
      " 6664\n",
      " 40\n"
     ]
    },
    {
     "name": "stdout",
     "output_type": "stream",
     "text": [
      "4\n",
      "0\n",
      "1\n",
      "1\n"
     ]
    }
   ],
   "source": [
    "try:\n",
    "    input_= int(input())\n",
    "    li=[]\n",
    "    for _ in range(input_):\n",
    "        li.append([i for i in input()])\n",
    "    for x in range(len(li)):\n",
    "        print(li[x].count('4'))\n",
    "except:\n",
    "    pass"
   ]
  },
  {
   "cell_type": "markdown",
   "metadata": {},
   "source": [
    "## 79482\n",
    "Question 2: \n",
    "Given an integer N\n",
    "find and output any two integers A and B such that:\n",
    "\n",
    "    1≤A,B≤109\n",
    "and\n",
    "A∗B=N\n",
    "Input:\n",
    "The first line of input consists of a single integer T\n",
    "(1≤T≤105) -- the number of testcases.\n",
    "The next T lines will consist of one integer, N (1≤N≤109).\n",
    "Output:\n",
    "For each of the T testcases, output two space-separated integers A and B.\n",
    "Subtasks\n",
    "    Subtask 1 [100 points]: No additional constraints.\n"
   ]
  },
  {
   "cell_type": "code",
   "execution_count": 6,
   "metadata": {},
   "outputs": [
    {
     "name": "stdin",
     "output_type": "stream",
     "text": [
      " 3\n",
      " 23\n"
     ]
    },
    {
     "name": "stdout",
     "output_type": "stream",
     "text": [
      "1 23\n"
     ]
    },
    {
     "name": "stdin",
     "output_type": "stream",
     "text": [
      " 12\n"
     ]
    },
    {
     "name": "stdout",
     "output_type": "stream",
     "text": [
      "2 6\n"
     ]
    },
    {
     "name": "stdin",
     "output_type": "stream",
     "text": [
      " 4\n"
     ]
    },
    {
     "name": "stdout",
     "output_type": "stream",
     "text": [
      "2 2\n"
     ]
    }
   ],
   "source": [
    "try:\n",
    "    for _ in range(int(input())):\n",
    "        n= int(input())\n",
    "        if n%2==0:\n",
    "            a= n//2\n",
    "            print(2,a)\n",
    "        else:\n",
    "            print(1,n)\n",
    "except:\n",
    "    pass"
   ]
  },
  {
   "cell_type": "markdown",
   "metadata": {},
   "source": [
    "## 1568\n",
    "You are given an integer N. Find the largest integer between 1 and 10 (inclusive) which divides N.\n",
    "Input\n",
    "\n",
    "The first and only line of the input contains a single integer N.\n",
    "Output\n",
    "\n",
    "Print a single line containing one integer ― the largest divisor of N\n",
    "between 1 and 10.\n",
    "Constraints\n",
    "\n",
    "    2≤N≤1,000\n",
    "\n",
    "Subtasks\n",
    "\n",
    "Subtask #1 (100 points): original constraints\n",
    "Example Input 1\n",
    "\n",
    "24\n",
    "\n",
    "Example Output 1\n",
    "\n",
    "8\n"
   ]
  },
  {
   "cell_type": "code",
   "execution_count": 7,
   "metadata": {},
   "outputs": [
    {
     "name": "stdin",
     "output_type": "stream",
     "text": [
      " 91\n"
     ]
    },
    {
     "name": "stdout",
     "output_type": "stream",
     "text": [
      "7\n"
     ]
    }
   ],
   "source": [
    "try:\n",
    "    N= int(input())\n",
    "    for x in range(10,0,-1):\n",
    "        if N%x==0:\n",
    "            print(x)\n",
    "            break\n",
    "except:\n",
    "    pass"
   ]
  },
  {
   "cell_type": "markdown",
   "metadata": {},
   "source": [
    "## 1339\n",
    "Danish and problems: <br>\n",
    "https://www.codechef.com/problems/DIV03 <br>\n",
    "Test cases:\n",
    "```\n",
    "5 --> number of test cases\n",
    "\n",
    "1 10 1 5 3 2 4 9 0 100 --> problems in each difficulty\n",
    "100 --> number of difficult problems to remove\n",
    "\n",
    "2 0 1 0 0 0 0 0 0 10\n",
    "12\n",
    "\n",
    "2 0 1 0 0 0 0 10 0 0\n",
    "0\n",
    "\n",
    "2 0 1 0 0 0 0 0 0 10\n",
    "10\n",
    "\n",
    "1 10 1 5 3 2 4 9 0 100\n",
    "125\n",
    "```"
   ]
  },
  {
   "cell_type": "code",
   "execution_count": 59,
   "metadata": {},
   "outputs": [
    {
     "name": "stdin",
     "output_type": "stream",
     "text": [
      " 4\n",
      " 2 0 1 0 0 0 0 0 0 10\n",
      " 12\n"
     ]
    },
    {
     "name": "stdout",
     "output_type": "stream",
     "text": [
      "1\n"
     ]
    },
    {
     "name": "stdin",
     "output_type": "stream",
     "text": [
      " 2 0 1 0 0 0 0 10 0 0\n",
      " 0\n"
     ]
    },
    {
     "name": "stdout",
     "output_type": "stream",
     "text": [
      "8\n"
     ]
    },
    {
     "name": "stdin",
     "output_type": "stream",
     "text": [
      " 2 0 1 0 0 0 0 0 0 10\n",
      " 10\n"
     ]
    },
    {
     "name": "stdout",
     "output_type": "stream",
     "text": [
      "3\n"
     ]
    },
    {
     "name": "stdin",
     "output_type": "stream",
     "text": [
      " 1 10 1 5 3 2 4 9 0 100\n",
      " 125\n"
     ]
    },
    {
     "name": "stdout",
     "output_type": "stream",
     "text": [
      "2\n"
     ]
    }
   ],
   "source": [
    "try:\n",
    "    for _ in range(0,int(input())):\n",
    "        problems= list(map(int,input().split())) #problems_in_each_difficulty\n",
    "        reduce=int(input()) #number_to_reduce\n",
    "        i=-1\n",
    "        j=0\n",
    "        x= sum(problems[i:])\n",
    "        while True:\n",
    "            if x > reduce:\n",
    "                print(len(problems)-j)\n",
    "                break\n",
    "            else:\n",
    "                if x<= sum(problems):\n",
    "                    j+=1\n",
    "                    i=i-1\n",
    "                    x= sum(problems[i:])\n",
    "except:\n",
    "    pass\n"
   ]
  },
  {
   "cell_type": "markdown",
   "metadata": {},
   "source": [
    "## 1553\n",
    "Possible Victory<br>\n",
    "https://www.codechef.com/problems/T20MCH"
   ]
  },
  {
   "cell_type": "code",
   "execution_count": 13,
   "metadata": {},
   "outputs": [
    {
     "name": "stdin",
     "output_type": "stream",
     "text": [
      " 100 19 65\n"
     ]
    },
    {
     "name": "stdout",
     "output_type": "stream",
     "text": [
      "YES\n"
     ]
    }
   ],
   "source": [
    "try:\n",
    "    a,b,c= map(int,input().split())\n",
    "    runs= (20-b)*6*6\n",
    "    possible= runs + c\n",
    "    if possible > a:\n",
    "        print('YES')\n",
    "    else:\n",
    "        print('NO')\n",
    "except:\n",
    "    pass"
   ]
  },
  {
   "cell_type": "markdown",
   "metadata": {},
   "source": [
    "## 1396\n",
    "Body Mass Index <br>\n",
    "https://www.codechef.com/problems/BMI"
   ]
  },
  {
   "cell_type": "code",
   "execution_count": 15,
   "metadata": {},
   "outputs": [],
   "source": [
    "# Category 1: Underweight if BMI ≤18\n",
    "# Category 2: Normal weight if BMI ∈{19\n",
    "# , 20,…, 24}\n",
    "# Category 3: Overweight if BMI ∈{25\n",
    "# , 26,…, 29}\n",
    "# Category 4: Obesity if BMI ≥30"
   ]
  },
  {
   "cell_type": "code",
   "execution_count": 1,
   "metadata": {},
   "outputs": [
    {
     "name": "stdin",
     "output_type": "stream",
     "text": [
      " 3\n",
      " 72 2\n"
     ]
    },
    {
     "name": "stdout",
     "output_type": "stream",
     "text": [
      "1\n"
     ]
    },
    {
     "name": "stdin",
     "output_type": "stream",
     "text": [
      " 80 2\n"
     ]
    },
    {
     "name": "stdout",
     "output_type": "stream",
     "text": [
      "2\n"
     ]
    },
    {
     "name": "stdin",
     "output_type": "stream",
     "text": [
      " 120 2\n"
     ]
    },
    {
     "name": "stdout",
     "output_type": "stream",
     "text": [
      "4\n"
     ]
    }
   ],
   "source": [
    "try:\n",
    "    for _ in range(int(input())):\n",
    "        mass,height= map(int,input().split())\n",
    "        bmi= round(mass/ (height**2))\n",
    "        if bmi <=18:\n",
    "            print('1')\n",
    "        elif bmi in range(19,24):\n",
    "            print('2')\n",
    "        elif bmi in range(25,29):\n",
    "            print('3')\n",
    "        else:\n",
    "            print('4')\n",
    "except:\n",
    "    pass"
   ]
  },
  {
   "cell_type": "markdown",
   "metadata": {},
   "source": [
    "## 1272\n",
    "https://www.codechef.com/problems/IMDB <br>\n",
    "Motivation problem"
   ]
  },
  {
   "cell_type": "code",
   "execution_count": 5,
   "metadata": {},
   "outputs": [
    {
     "name": "stdin",
     "output_type": "stream",
     "text": [
      " 3\n",
      " 1 1\n",
      " 1 1\n"
     ]
    },
    {
     "name": "stdout",
     "output_type": "stream",
     "text": [
      "1\n"
     ]
    },
    {
     "name": "stdin",
     "output_type": "stream",
     "text": [
      " 2 2\n",
      " 1 50\n",
      " 2 100\n"
     ]
    },
    {
     "name": "stdout",
     "output_type": "stream",
     "text": [
      "100\n"
     ]
    },
    {
     "name": "stdin",
     "output_type": "stream",
     "text": [
      " 3 2\n",
      " 1 51\n",
      " 3 100\n",
      " 2 50\n"
     ]
    },
    {
     "name": "stdout",
     "output_type": "stream",
     "text": [
      "51\n"
     ]
    }
   ],
   "source": [
    "for _ in range(int(input())):\n",
    "    num,space= map(int,input().split())\n",
    "    highest=0\n",
    "    for _ in range(num):\n",
    "        mov_space,rating= map(int,input().split())\n",
    "        if mov_space<=space:\n",
    "            if highest<=rating:\n",
    "                highest= rating\n",
    "    print(highest)"
   ]
  },
  {
   "cell_type": "markdown",
   "metadata": {},
   "source": [
    "## 1397 <br>\n",
    "https://www.codechef.com/problems/CYBV <br>\n",
    "The Begining Era Of Cyberverse"
   ]
  },
  {
   "cell_type": "code",
   "execution_count": null,
   "metadata": {},
   "outputs": [],
   "source": [
    "for _ in range(int(input())):\n",
    "    num_kids,num_weapons= map(int, input().split())\n",
    "    print(num_weapons//num_kids)"
   ]
  },
  {
   "cell_type": "code",
   "execution_count": null,
   "metadata": {},
   "outputs": [],
   "source": []
  },
  {
   "cell_type": "code",
   "execution_count": null,
   "metadata": {},
   "outputs": [],
   "source": []
  },
  {
   "cell_type": "code",
   "execution_count": null,
   "metadata": {},
   "outputs": [],
   "source": []
  },
  {
   "cell_type": "code",
   "execution_count": null,
   "metadata": {},
   "outputs": [],
   "source": []
  }
 ],
 "metadata": {
  "kernelspec": {
   "display_name": "Python 3",
   "language": "python",
   "name": "python3"
  },
  "language_info": {
   "codemirror_mode": {
    "name": "ipython",
    "version": 3
   },
   "file_extension": ".py",
   "mimetype": "text/x-python",
   "name": "python",
   "nbconvert_exporter": "python",
   "pygments_lexer": "ipython3",
   "version": "3.7.3"
  }
 },
 "nbformat": 4,
 "nbformat_minor": 4
}
