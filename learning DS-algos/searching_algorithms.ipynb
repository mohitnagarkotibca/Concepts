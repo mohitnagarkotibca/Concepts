{
 "cells": [
  {
   "cell_type": "code",
   "execution_count": 1,
   "metadata": {},
   "outputs": [],
   "source": [
    "import numpy as np\n",
    "arr= np.random.randint(low=0, high=20,size=10)"
   ]
  },
  {
   "cell_type": "code",
   "execution_count": 2,
   "metadata": {},
   "outputs": [
    {
     "name": "stdout",
     "output_type": "stream",
     "text": [
      "18 17 5 15 11 17 12 9 0 19\n"
     ]
    }
   ],
   "source": [
    "print(*arr)"
   ]
  },
  {
   "cell_type": "code",
   "execution_count": 25,
   "metadata": {},
   "outputs": [
    {
     "name": "stdout",
     "output_type": "stream",
     "text": [
      "Input : [0, 5, 9, 11, 12, 15, 17, 17, 18, 19] , Element to find :9\n",
      "element 9 found at : 2 position\n"
     ]
    }
   ],
   "source": [
    "def binary_search(arr,target):\n",
    "    arr= sorted(arr)\n",
    "    low= 0\n",
    "    high= len(arr)\n",
    "    print('Input : {} , Element to find :{}'.format(arr,target))\n",
    "    while True:   \n",
    "        mid= (low+high)//2\n",
    "        if arr[mid]== target:\n",
    "            print('element {} found at : {} position'.format(target,mid))\n",
    "            break\n",
    "        if arr[mid]<target:\n",
    "            low= mid\n",
    "        if arr[mid]>target:\n",
    "            high= mid\n",
    "        if mid ==0:\n",
    "            print('No element found !')\n",
    "            break\n",
    "binary_search(arr.copy(),9)"
   ]
  },
  {
   "cell_type": "code",
   "execution_count": 29,
   "metadata": {},
   "outputs": [
    {
     "name": "stdout",
     "output_type": "stream",
     "text": [
      "element 9 found at 2\n"
     ]
    }
   ],
   "source": [
    "def recur_binary_search(arr,target,low,high):\n",
    "    mid= (low+high)//2\n",
    "    if arr[mid]==target:\n",
    "        print('element {} found at {}'.format(target,mid))\n",
    "        return\n",
    "    if arr[mid]<target:\n",
    "        low=mid\n",
    "        return recur_binary_search(arr,target,low,high)\n",
    "    else:\n",
    "        high= mid\n",
    "        return recur_binary_search(arr,target,low,high)\n",
    "recur_binary_search(sorted(arr.copy()),9,0,len(arr))"
   ]
  },
  {
   "cell_type": "markdown",
   "metadata": {},
   "source": [
    "'''\n",
    "Given an array of sorted integers. We need to find the closest value to the  given number.\n",
    "array may contain duplicated values and negative numbers\n",
    "```\n",
    "Input : arr[] = {1, 2, 4, 5, 6, 6, 8, 9}\n",
    "             Target number = 11\n",
    "Output : 9\n",
    "9 is closest to 11 in given array\n",
    "\n",
    "Input :arr[] = {2, 5, 6, 7, 8, 8, 9}; \n",
    "       Target number = 4\n",
    "Output : 5\n",
    "```\n",
    "'''"
   ]
  },
  {
   "cell_type": "code",
   "execution_count": 30,
   "metadata": {},
   "outputs": [],
   "source": [
    "# def closest_number(arr,target,s=None,low,high):\n",
    "#     mid= (low+high)//2\n",
    "#     if arr[mid]<target:\n",
    "#         low= mid\n",
    "#     else:\n",
    "#         high= mid\n",
    "#     if s!=None:\n",
    "#         temp= s\n",
    "#         s= target- arr[mid]\n",
    "#         if temp<s:\n",
    "            \n",
    "#     closest_number(arr,target,s,low,high)\n",
    "         \n",
    "        \n",
    "\n",
    "# arr=[2, 5, 6, 7, 8, 8, 9]\n",
    "# target=4"
   ]
  },
  {
   "cell_type": "code",
   "execution_count": null,
   "metadata": {},
   "outputs": [],
   "source": []
  },
  {
   "cell_type": "code",
   "execution_count": null,
   "metadata": {},
   "outputs": [],
   "source": []
  }
 ],
 "metadata": {
  "kernelspec": {
   "display_name": "Python 3",
   "language": "python",
   "name": "python3"
  },
  "language_info": {
   "codemirror_mode": {
    "name": "ipython",
    "version": 3
   },
   "file_extension": ".py",
   "mimetype": "text/x-python",
   "name": "python",
   "nbconvert_exporter": "python",
   "pygments_lexer": "ipython3",
   "version": "3.7.3"
  }
 },
 "nbformat": 4,
 "nbformat_minor": 4
}
