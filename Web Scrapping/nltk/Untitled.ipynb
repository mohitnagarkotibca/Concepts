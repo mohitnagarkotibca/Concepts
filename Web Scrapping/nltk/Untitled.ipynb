{
 "cells": [
  {
   "cell_type": "code",
   "execution_count": 1,
   "metadata": {},
   "outputs": [
    {
     "name": "stdout",
     "output_type": "stream",
     "text": [
      "imported\n"
     ]
    }
   ],
   "source": [
    "import nltk\n",
    "print('imported')"
   ]
  },
  {
   "cell_type": "code",
   "execution_count": 2,
   "metadata": {},
   "outputs": [],
   "source": [
    "from nltk.tokenize import sent_tokenize, word_tokenize"
   ]
  },
  {
   "cell_type": "code",
   "execution_count": 3,
   "metadata": {},
   "outputs": [],
   "source": [
    "text=\"By blowing up a joint liaison office on the border with South Korea and threatening to deploy troops along the demilitarised zone, North Korea is back to what it is best at — aggressive posturing with the threat of war. Troubles began in the peninsula early this year after a deadline the North dictated to the U.S. to achieve progress in the denuclearisation talks expired on December 31. North Korea has conducted missile tests this year, sending warning signals to Seoul and Washington. The latest crisis was triggered by anti-North defector groups that sent out propaganda leaflets via balloons across the border. Angered by the South’s refusal to crack down on them, Pyongyang has severed hotlines, demolished the liaison office, and is planning to deploy troops along the border. Tensions now risk rolling back whatever little was achieved through engagement over the past two years. South Korea’s Unification Minister Kim Yeon-chul resigned on Friday and Seoul has also moved to charge the defector groups. But these moves are unlikely to ease tensions as the real problem is the stall in the talks. Two years after U.S. President Trump and North Korean leader Kim Jong-un met in Singapore to discuss denuclearisation, little has been achieved in that direction. It is likely that the North is now trying to get back Mr. Trump’s attention.\""
   ]
  },
  {
   "cell_type": "code",
   "execution_count": 4,
   "metadata": {},
   "outputs": [
    {
     "data": {
      "text/plain": [
       "1346"
      ]
     },
     "execution_count": 4,
     "metadata": {},
     "output_type": "execute_result"
    }
   ],
   "source": [
    "len(text)"
   ]
  },
  {
   "cell_type": "code",
   "execution_count": 5,
   "metadata": {},
   "outputs": [
    {
     "data": {
      "text/plain": [
       "['By blowing up a joint liaison office on the border with South Korea and threatening to deploy troops along the demilitarised zone, North Korea is back to what it is best at — aggressive posturing with the threat of war.',\n",
       " 'Troubles began in the peninsula early this year after a deadline the North dictated to the U.S. to achieve progress in the denuclearisation talks expired on December 31.',\n",
       " 'North Korea has conducted missile tests this year, sending warning signals to Seoul and Washington.',\n",
       " 'The latest crisis was triggered by anti-North defector groups that sent out propaganda leaflets via balloons across the border.',\n",
       " 'Angered by the South’s refusal to crack down on them, Pyongyang has severed hotlines, demolished the liaison office, and is planning to deploy troops along the border.',\n",
       " 'Tensions now risk rolling back whatever little was achieved through engagement over the past two years.',\n",
       " 'South Korea’s Unification Minister Kim Yeon-chul resigned on Friday and Seoul has also moved to charge the defector groups.',\n",
       " 'But these moves are unlikely to ease tensions as the real problem is the stall in the talks.',\n",
       " 'Two years after U.S. President Trump and North Korean leader Kim Jong-un met in Singapore to discuss denuclearisation, little has been achieved in that direction.',\n",
       " 'It is likely that the North is now trying to get back Mr. Trump’s attention.']"
      ]
     },
     "execution_count": 5,
     "metadata": {},
     "output_type": "execute_result"
    }
   ],
   "source": [
    "sent_tokenize(text)"
   ]
  },
  {
   "cell_type": "code",
   "execution_count": 7,
   "metadata": {},
   "outputs": [],
   "source": [
    "from nltk.corpus import stopwords\n",
    "from nltk.tokenize import word_tokenize"
   ]
  },
  {
   "cell_type": "code",
   "execution_count": 8,
   "metadata": {},
   "outputs": [],
   "source": [
    "ex=\"By blowing up a joint liaison office on the border with South Korea and threatening to deploy troops along the demilitarised zone, North Korea is back to what it is best at — aggressive posturing with the threat of war. Troubles began in the peninsula early this year after a deadline the North dictated to the U.S. to achieve progress in the denuclearisation talks expired on December 31. North Korea has conducted missile tests this year, sending warning signals to Seoul and Washington. The latest crisis was triggered by anti-North defector groups that sent out propaganda leaflets via balloons across the border. Angered by the South’s refusal to crack down on them, Pyongyang has severed hotlines, demolished the liaison office, and is planning to deploy troops along the border. Tensions now risk rolling back whatever little was achieved through engagement over the past two years. South Korea’s Unification Minister Kim Yeon-chul resigned on Friday and Seoul has also moved to charge the defector groups. But these moves are unlikely to ease tensions as the real problem is the stall in the talks. Two years after U.S. President Trump and North Korean leader Kim Jong-un met in Singapore to discuss denuclearisation, little has been achieved in that direction. It is likely that the North is now trying to get back Mr. Trump’s attention.\""
   ]
  },
  {
   "cell_type": "code",
   "execution_count": 11,
   "metadata": {},
   "outputs": [
    {
     "data": {
      "text/plain": [
       "list"
      ]
     },
     "execution_count": 11,
     "metadata": {},
     "output_type": "execute_result"
    }
   ],
   "source": [
    "type(stopwords.words(\"english\"))"
   ]
  },
  {
   "cell_type": "code",
   "execution_count": 18,
   "metadata": {},
   "outputs": [],
   "source": [
    "stop_words=stopwords.words('english')"
   ]
  },
  {
   "cell_type": "code",
   "execution_count": 23,
   "metadata": {},
   "outputs": [
    {
     "data": {
      "text/plain": [
       "['By',\n",
       " 'blowing',\n",
       " 'joint',\n",
       " 'liaison',\n",
       " 'office',\n",
       " 'border',\n",
       " 'South',\n",
       " 'Korea',\n",
       " 'threatening',\n",
       " 'deploy',\n",
       " 'troops',\n",
       " 'along',\n",
       " 'demilitarised',\n",
       " 'zone',\n",
       " ',',\n",
       " 'North',\n",
       " 'Korea',\n",
       " 'back',\n",
       " 'best',\n",
       " '—',\n",
       " 'aggressive',\n",
       " 'posturing',\n",
       " 'threat',\n",
       " 'war',\n",
       " '.',\n",
       " 'Troubles',\n",
       " 'began',\n",
       " 'peninsula',\n",
       " 'early',\n",
       " 'year',\n",
       " 'deadline',\n",
       " 'North',\n",
       " 'dictated',\n",
       " 'U.S.',\n",
       " 'achieve',\n",
       " 'progress',\n",
       " 'denuclearisation',\n",
       " 'talks',\n",
       " 'expired',\n",
       " 'December',\n",
       " '31',\n",
       " '.',\n",
       " 'North',\n",
       " 'Korea',\n",
       " 'conducted',\n",
       " 'missile',\n",
       " 'tests',\n",
       " 'year',\n",
       " ',',\n",
       " 'sending',\n",
       " 'warning',\n",
       " 'signals',\n",
       " 'Seoul',\n",
       " 'Washington',\n",
       " '.',\n",
       " 'The',\n",
       " 'latest',\n",
       " 'crisis',\n",
       " 'triggered',\n",
       " 'anti-North',\n",
       " 'defector',\n",
       " 'groups',\n",
       " 'sent',\n",
       " 'propaganda',\n",
       " 'leaflets',\n",
       " 'via',\n",
       " 'balloons',\n",
       " 'across',\n",
       " 'border',\n",
       " '.',\n",
       " 'Angered',\n",
       " 'South',\n",
       " '’',\n",
       " 'refusal',\n",
       " 'crack',\n",
       " ',',\n",
       " 'Pyongyang',\n",
       " 'severed',\n",
       " 'hotlines',\n",
       " ',',\n",
       " 'demolished',\n",
       " 'liaison',\n",
       " 'office',\n",
       " ',',\n",
       " 'planning',\n",
       " 'deploy',\n",
       " 'troops',\n",
       " 'along',\n",
       " 'border',\n",
       " '.',\n",
       " 'Tensions',\n",
       " 'risk',\n",
       " 'rolling',\n",
       " 'back',\n",
       " 'whatever',\n",
       " 'little',\n",
       " 'achieved',\n",
       " 'engagement',\n",
       " 'past',\n",
       " 'two',\n",
       " 'years',\n",
       " '.',\n",
       " 'South',\n",
       " 'Korea',\n",
       " '’',\n",
       " 'Unification',\n",
       " 'Minister',\n",
       " 'Kim',\n",
       " 'Yeon-chul',\n",
       " 'resigned',\n",
       " 'Friday',\n",
       " 'Seoul',\n",
       " 'also',\n",
       " 'moved',\n",
       " 'charge',\n",
       " 'defector',\n",
       " 'groups',\n",
       " '.',\n",
       " 'But',\n",
       " 'moves',\n",
       " 'unlikely',\n",
       " 'ease',\n",
       " 'tensions',\n",
       " 'real',\n",
       " 'problem',\n",
       " 'stall',\n",
       " 'talks',\n",
       " '.',\n",
       " 'Two',\n",
       " 'years',\n",
       " 'U.S.',\n",
       " 'President',\n",
       " 'Trump',\n",
       " 'North',\n",
       " 'Korean',\n",
       " 'leader',\n",
       " 'Kim',\n",
       " 'Jong-un',\n",
       " 'met',\n",
       " 'Singapore',\n",
       " 'discuss',\n",
       " 'denuclearisation',\n",
       " ',',\n",
       " 'little',\n",
       " 'achieved',\n",
       " 'direction',\n",
       " '.',\n",
       " 'It',\n",
       " 'likely',\n",
       " 'North',\n",
       " 'trying',\n",
       " 'get',\n",
       " 'back',\n",
       " 'Mr.',\n",
       " 'Trump',\n",
       " '’',\n",
       " 'attention',\n",
       " '.']"
      ]
     },
     "execution_count": 23,
     "metadata": {},
     "output_type": "execute_result"
    }
   ],
   "source": [
    "words= word_tokenize(text)\n",
    "filtered_sent= []\n",
    "for word in words:\n",
    "    if word not in stop_words:\n",
    "        filtered_sent.append(word)\n",
    "filtered_sent"
   ]
  },
  {
   "cell_type": "code",
   "execution_count": 24,
   "metadata": {},
   "outputs": [],
   "source": [
    "from nltk.stem import PorterStemmer"
   ]
  },
  {
   "cell_type": "code",
   "execution_count": 26,
   "metadata": {},
   "outputs": [],
   "source": [
    "from nltk.tokenize import word_tokenize"
   ]
  },
  {
   "cell_type": "code",
   "execution_count": 27,
   "metadata": {},
   "outputs": [],
   "source": [
    "ps=PorterStemmer()"
   ]
  },
  {
   "cell_type": "code",
   "execution_count": 29,
   "metadata": {},
   "outputs": [
    {
     "name": "stdout",
     "output_type": "stream",
     "text": [
      "blow\n",
      "joint\n",
      "liaison\n",
      "offic\n",
      "border\n",
      "south\n",
      "korea\n",
      "threaten\n",
      "deploy\n",
      "troop\n",
      "along\n",
      "demilitaris\n"
     ]
    }
   ],
   "source": [
    "example_words=['blowing',\n",
    " 'joint',\n",
    " 'liaison',\n",
    " 'office',\n",
    " 'border',\n",
    " 'South',\n",
    " 'Korea',\n",
    " 'threatening',\n",
    " 'deploy',\n",
    " 'troops',\n",
    " 'along',\n",
    " 'demilitarised']\n",
    "for word in example_words:\n",
    "    print(ps.stem(word))"
   ]
  },
  {
   "cell_type": "code",
   "execution_count": 39,
   "metadata": {},
   "outputs": [
    {
     "data": {
      "text/plain": [
       "['By',\n",
       " 'blow',\n",
       " 'up',\n",
       " 'a',\n",
       " 'joint',\n",
       " 'liaison',\n",
       " 'offic',\n",
       " 'on',\n",
       " 'the',\n",
       " 'border',\n",
       " 'with',\n",
       " 'south',\n",
       " 'korea',\n",
       " 'and',\n",
       " 'threaten',\n",
       " 'to',\n",
       " 'deploy',\n",
       " 'troop',\n",
       " 'along',\n",
       " 'the',\n",
       " 'demilitaris',\n",
       " 'zone,',\n",
       " 'north',\n",
       " 'korea',\n",
       " 'is',\n",
       " 'back',\n",
       " 'to',\n",
       " 'what',\n",
       " 'it',\n",
       " 'is',\n",
       " 'best',\n",
       " 'at',\n",
       " '—',\n",
       " 'aggress',\n",
       " 'postur',\n",
       " 'with',\n",
       " 'the',\n",
       " 'threat',\n",
       " 'of',\n",
       " 'war.',\n",
       " 'troubl',\n",
       " 'began',\n",
       " 'in',\n",
       " 'the',\n",
       " 'peninsula',\n",
       " 'earli',\n",
       " 'thi',\n",
       " 'year',\n",
       " 'after',\n",
       " 'a',\n",
       " 'deadlin',\n",
       " 'the',\n",
       " 'north',\n",
       " 'dictat',\n",
       " 'to',\n",
       " 'the',\n",
       " 'u.s.',\n",
       " 'to',\n",
       " 'achiev',\n",
       " 'progress',\n",
       " 'in',\n",
       " 'the',\n",
       " 'denuclearis',\n",
       " 'talk',\n",
       " 'expir',\n",
       " 'on',\n",
       " 'decemb',\n",
       " '31.',\n",
       " 'north',\n",
       " 'korea',\n",
       " 'ha',\n",
       " 'conduct',\n",
       " 'missil',\n",
       " 'test',\n",
       " 'thi',\n",
       " 'year,',\n",
       " 'send',\n",
       " 'warn',\n",
       " 'signal',\n",
       " 'to',\n",
       " 'seoul',\n",
       " 'and',\n",
       " 'washington.',\n",
       " 'the',\n",
       " 'latest',\n",
       " 'crisi',\n",
       " 'wa',\n",
       " 'trigger',\n",
       " 'by',\n",
       " 'anti-north',\n",
       " 'defector',\n",
       " 'group',\n",
       " 'that',\n",
       " 'sent',\n",
       " 'out',\n",
       " 'propaganda',\n",
       " 'leaflet',\n",
       " 'via',\n",
       " 'balloon',\n",
       " 'across',\n",
       " 'the',\n",
       " 'border.',\n",
       " 'anger',\n",
       " 'by',\n",
       " 'the',\n",
       " 'south’',\n",
       " 'refus',\n",
       " 'to',\n",
       " 'crack',\n",
       " 'down',\n",
       " 'on',\n",
       " 'them,',\n",
       " 'pyongyang',\n",
       " 'ha',\n",
       " 'sever',\n",
       " 'hotlines,',\n",
       " 'demolish',\n",
       " 'the',\n",
       " 'liaison',\n",
       " 'office,',\n",
       " 'and',\n",
       " 'is',\n",
       " 'plan',\n",
       " 'to',\n",
       " 'deploy',\n",
       " 'troop',\n",
       " 'along',\n",
       " 'the',\n",
       " 'border.',\n",
       " 'tension',\n",
       " 'now',\n",
       " 'risk',\n",
       " 'roll',\n",
       " 'back',\n",
       " 'whatev',\n",
       " 'littl',\n",
       " 'wa',\n",
       " 'achiev',\n",
       " 'through',\n",
       " 'engag',\n",
       " 'over',\n",
       " 'the',\n",
       " 'past',\n",
       " 'two',\n",
       " 'years.',\n",
       " 'south',\n",
       " 'korea’',\n",
       " 'unif',\n",
       " 'minist',\n",
       " 'kim',\n",
       " 'yeon-chul',\n",
       " 'resign',\n",
       " 'on',\n",
       " 'friday',\n",
       " 'and',\n",
       " 'seoul',\n",
       " 'ha',\n",
       " 'also',\n",
       " 'move',\n",
       " 'to',\n",
       " 'charg',\n",
       " 'the',\n",
       " 'defector',\n",
       " 'groups.',\n",
       " 'but',\n",
       " 'these',\n",
       " 'move',\n",
       " 'are',\n",
       " 'unlik',\n",
       " 'to',\n",
       " 'eas',\n",
       " 'tension',\n",
       " 'as',\n",
       " 'the',\n",
       " 'real',\n",
       " 'problem',\n",
       " 'is',\n",
       " 'the',\n",
       " 'stall',\n",
       " 'in',\n",
       " 'the',\n",
       " 'talks.',\n",
       " 'two',\n",
       " 'year',\n",
       " 'after',\n",
       " 'u.s.',\n",
       " 'presid',\n",
       " 'trump',\n",
       " 'and',\n",
       " 'north',\n",
       " 'korean',\n",
       " 'leader',\n",
       " 'kim',\n",
       " 'jong-un',\n",
       " 'met',\n",
       " 'in',\n",
       " 'singapor',\n",
       " 'to',\n",
       " 'discuss',\n",
       " 'denuclearisation,',\n",
       " 'littl',\n",
       " 'ha',\n",
       " 'been',\n",
       " 'achiev',\n",
       " 'in',\n",
       " 'that',\n",
       " 'direction.',\n",
       " 'It',\n",
       " 'is',\n",
       " 'like',\n",
       " 'that',\n",
       " 'the',\n",
       " 'north',\n",
       " 'is',\n",
       " 'now',\n",
       " 'tri',\n",
       " 'to',\n",
       " 'get',\n",
       " 'back',\n",
       " 'mr.',\n",
       " 'trump’',\n",
       " 'attention.']"
      ]
     },
     "execution_count": 39,
     "metadata": {},
     "output_type": "execute_result"
    }
   ],
   "source": [
    "[ps.stem(word) for word in text.split()]"
   ]
  },
  {
   "cell_type": "code",
   "execution_count": null,
   "metadata": {},
   "outputs": [],
   "source": []
  },
  {
   "cell_type": "code",
   "execution_count": null,
   "metadata": {},
   "outputs": [],
   "source": []
  },
  {
   "cell_type": "code",
   "execution_count": null,
   "metadata": {},
   "outputs": [],
   "source": []
  },
  {
   "cell_type": "code",
   "execution_count": null,
   "metadata": {},
   "outputs": [],
   "source": []
  },
  {
   "cell_type": "code",
   "execution_count": null,
   "metadata": {},
   "outputs": [],
   "source": []
  },
  {
   "cell_type": "code",
   "execution_count": null,
   "metadata": {},
   "outputs": [],
   "source": []
  },
  {
   "cell_type": "code",
   "execution_count": null,
   "metadata": {},
   "outputs": [],
   "source": []
  },
  {
   "cell_type": "code",
   "execution_count": null,
   "metadata": {},
   "outputs": [],
   "source": []
  },
  {
   "cell_type": "code",
   "execution_count": null,
   "metadata": {},
   "outputs": [],
   "source": []
  },
  {
   "cell_type": "code",
   "execution_count": null,
   "metadata": {},
   "outputs": [],
   "source": []
  },
  {
   "cell_type": "code",
   "execution_count": null,
   "metadata": {},
   "outputs": [],
   "source": []
  },
  {
   "cell_type": "code",
   "execution_count": null,
   "metadata": {},
   "outputs": [],
   "source": []
  },
  {
   "cell_type": "code",
   "execution_count": null,
   "metadata": {},
   "outputs": [],
   "source": []
  },
  {
   "cell_type": "code",
   "execution_count": null,
   "metadata": {},
   "outputs": [],
   "source": []
  },
  {
   "cell_type": "code",
   "execution_count": null,
   "metadata": {},
   "outputs": [],
   "source": []
  },
  {
   "cell_type": "code",
   "execution_count": null,
   "metadata": {},
   "outputs": [],
   "source": []
  },
  {
   "cell_type": "code",
   "execution_count": null,
   "metadata": {},
   "outputs": [],
   "source": []
  },
  {
   "cell_type": "code",
   "execution_count": null,
   "metadata": {},
   "outputs": [],
   "source": []
  },
  {
   "cell_type": "code",
   "execution_count": null,
   "metadata": {},
   "outputs": [],
   "source": []
  },
  {
   "cell_type": "code",
   "execution_count": null,
   "metadata": {},
   "outputs": [],
   "source": []
  },
  {
   "cell_type": "code",
   "execution_count": null,
   "metadata": {},
   "outputs": [],
   "source": []
  },
  {
   "cell_type": "code",
   "execution_count": null,
   "metadata": {},
   "outputs": [],
   "source": []
  },
  {
   "cell_type": "code",
   "execution_count": null,
   "metadata": {},
   "outputs": [],
   "source": []
  },
  {
   "cell_type": "code",
   "execution_count": null,
   "metadata": {},
   "outputs": [],
   "source": []
  },
  {
   "cell_type": "code",
   "execution_count": null,
   "metadata": {},
   "outputs": [],
   "source": []
  },
  {
   "cell_type": "code",
   "execution_count": null,
   "metadata": {},
   "outputs": [],
   "source": []
  },
  {
   "cell_type": "code",
   "execution_count": null,
   "metadata": {},
   "outputs": [],
   "source": []
  },
  {
   "cell_type": "code",
   "execution_count": null,
   "metadata": {},
   "outputs": [],
   "source": []
  },
  {
   "cell_type": "code",
   "execution_count": null,
   "metadata": {},
   "outputs": [],
   "source": []
  },
  {
   "cell_type": "code",
   "execution_count": null,
   "metadata": {},
   "outputs": [],
   "source": []
  }
 ],
 "metadata": {
  "kernelspec": {
   "display_name": "Python 3",
   "language": "python",
   "name": "python3"
  },
  "language_info": {
   "codemirror_mode": {
    "name": "ipython",
    "version": 3
   },
   "file_extension": ".py",
   "mimetype": "text/x-python",
   "name": "python",
   "nbconvert_exporter": "python",
   "pygments_lexer": "ipython3",
   "version": "3.7.3"
  }
 },
 "nbformat": 4,
 "nbformat_minor": 2
}
