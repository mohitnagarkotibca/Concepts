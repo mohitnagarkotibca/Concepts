{
 "cells": [
  {
   "cell_type": "code",
   "execution_count": 2,
   "metadata": {},
   "outputs": [],
   "source": [
    "import nltk\n",
    "text='Esther, my sister with dark hair, sang a song. The cake with nuts fell onto the floor. I like swimming in lakes and Throwing rocks across the water, my friend smiled.'"
   ]
  },
  {
   "cell_type": "code",
   "execution_count": 3,
   "metadata": {},
   "outputs": [],
   "source": [
    "from nltk.tokenize import word_tokenize,sent_tokenize\n",
    "# nltk.help.upenn_tagset()"
   ]
  },
  {
   "cell_type": "code",
   "execution_count": 4,
   "metadata": {},
   "outputs": [
    {
     "name": "stdout",
     "output_type": "stream",
     "text": [
      "['Esther, my sister with dark hair, sang a song.', 'The cake with nuts fell onto the floor.', 'I like swimming in lakes and Throwing rocks across the water, my friend smiled.']\n"
     ]
    }
   ],
   "source": [
    "tokenized= sent_tokenize(text)\n",
    "print(tokenized)"
   ]
  },
  {
   "cell_type": "code",
   "execution_count": 5,
   "metadata": {},
   "outputs": [
    {
     "name": "stdout",
     "output_type": "stream",
     "text": [
      "['Esther', ',', 'my', 'sister', 'with', 'dark', 'hair', ',', 'sang', 'a', 'song', '.']\n",
      "----------------------------------------\n",
      "[('Esther', 'RB'), (',', ','), ('my', 'PRP$'), ('sister', 'NN'), ('with', 'IN'), ('dark', 'JJ'), ('hair', 'NN'), (',', ','), ('sang', 'VBD'), ('a', 'DT'), ('song', 'NN'), ('.', '.')]\n",
      "----------------------------------------\n",
      "(S\n",
      "  (myChunk Esther/RB)\n",
      "  ,/,\n",
      "  my/PRP$\n",
      "  (myChunk sister/NN)\n",
      "  with/IN\n",
      "  (myChunk dark/JJ hair/NN)\n",
      "  ,/,\n",
      "  sang/VBD\n",
      "  a/DT\n",
      "  (myChunk song/NN)\n",
      "  ./.)\n"
     ]
    }
   ],
   "source": [
    "#for finding the number 123. and words. with full stop at end\n",
    "#([0-9]+.)|(\\w+\\.)\n",
    "\n",
    "for token in tokenized:\n",
    "    words= word_tokenize(token)\n",
    "    print(words)\n",
    "    print('-'*40)\n",
    "    tagged= nltk.pos_tag(words)\n",
    "    print(tagged)\n",
    "    \n",
    "    pattern=r\"\"\"myChunk: {<RB>?<NN.?>*(<JJ><NN>)?}\"\"\"\n",
    "    break\n",
    "print('-'*40)\n",
    "\n",
    "parser= nltk.RegexpParser(pattern)\n",
    "output=parser.parse(tagged)\n",
    "print(output)"
   ]
  },
  {
   "cell_type": "code",
   "execution_count": 1,
   "metadata": {},
   "outputs": [
    {
     "data": {
      "text/plain": [
       "'Army Chief General Manoj Mukund Naravane on Wednesday awarded commendation cards to the soldiers, who fought with the Chinese troops in face-offs in the Eastern Ladakh sector, Army sources said. Earlier in the day, the Army Chief visited the forward locations in the Eastern Ladakh area as he is on a two-day visit to Ladakh to review the on-ground situation and the progress in talks with the Chinese military following the Galwan valley clash, which claimed lives of 20 Indian Army personnel.'"
      ]
     },
     "execution_count": 1,
     "metadata": {},
     "output_type": "execute_result"
    }
   ],
   "source": [
    "text='Army Chief General Manoj Mukund Naravane on Wednesday awarded commendation cards to the soldiers, who fought with the Chinese troops in face-offs in the Eastern Ladakh sector, Army sources said. Earlier in the day, the Army Chief visited the forward locations in the Eastern Ladakh area as he is on a two-day visit to Ladakh to review the on-ground situation and the progress in talks with the Chinese military following the Galwan valley clash, which claimed lives of 20 Indian Army personnel.'\n",
    "text"
   ]
  },
  {
   "cell_type": "code",
   "execution_count": 2,
   "metadata": {},
   "outputs": [],
   "source": [
    "import nltk \n",
    "from nltk import word_tokenize,sent_tokenize"
   ]
  },
  {
   "cell_type": "code",
   "execution_count": 121,
   "metadata": {},
   "outputs": [],
   "source": [
    "tokenized= sent_tokenize(text)\n",
    "words=[]\n",
    "for token in tokenized:\n",
    "    [words.append(word) for word in word_tokenize(token)]\n",
    "    \n",
    "tagged=nltk.pos_tag(words)\n",
    "pattern=\"\"\"myChunk: {<NN.?>*<VB.?>*}  \"\"\"\n",
    "parser= nltk.RegexpParser(pattern)\n",
    "parser.parse(tagged).draw()"
   ]
  },
  {
   "cell_type": "code",
   "execution_count": 124,
   "metadata": {},
   "outputs": [],
   "source": [
    "nltk.ne_chunk(tagged).draw()"
   ]
  },
  {
   "cell_type": "code",
   "execution_count": 9,
   "metadata": {},
   "outputs": [],
   "source": [
    "import matplotlib.pyplot as plt\n",
    "import numpy as np"
   ]
  },
  {
   "cell_type": "code",
   "execution_count": 10,
   "metadata": {},
   "outputs": [
    {
     "ename": "ModuleNotFoundError",
     "evalue": "No module named 'wordcloud'",
     "output_type": "error",
     "traceback": [
      "\u001b[1;31m---------------------------------------------------------------------------\u001b[0m",
      "\u001b[1;31mModuleNotFoundError\u001b[0m                       Traceback (most recent call last)",
      "\u001b[1;32m<ipython-input-10-dc1828f2a80e>\u001b[0m in \u001b[0;36m<module>\u001b[1;34m\u001b[0m\n\u001b[1;32m----> 1\u001b[1;33m \u001b[1;32mimport\u001b[0m \u001b[0mwordcloud\u001b[0m\u001b[1;33m\u001b[0m\u001b[1;33m\u001b[0m\u001b[0m\n\u001b[0m        \u001b[1;36mglobal\u001b[0m \u001b[0;36mwordcloud\u001b[0m \u001b[1;34m= \u001b[1;36mundefined\u001b[0m\u001b[0m\n",
      "\u001b[1;31mModuleNotFoundError\u001b[0m: No module named 'wordcloud'"
     ]
    }
   ],
   "source": [
    "import wordcloud"
   ]
  },
  {
   "cell_type": "code",
   "execution_count": null,
   "metadata": {},
   "outputs": [],
   "source": []
  },
  {
   "cell_type": "code",
   "execution_count": null,
   "metadata": {},
   "outputs": [],
   "source": []
  },
  {
   "cell_type": "code",
   "execution_count": null,
   "metadata": {},
   "outputs": [],
   "source": []
  },
  {
   "cell_type": "code",
   "execution_count": null,
   "metadata": {},
   "outputs": [],
   "source": []
  },
  {
   "cell_type": "code",
   "execution_count": null,
   "metadata": {},
   "outputs": [],
   "source": []
  },
  {
   "cell_type": "code",
   "execution_count": null,
   "metadata": {},
   "outputs": [],
   "source": []
  },
  {
   "cell_type": "code",
   "execution_count": null,
   "metadata": {},
   "outputs": [],
   "source": []
  },
  {
   "cell_type": "code",
   "execution_count": null,
   "metadata": {},
   "outputs": [],
   "source": []
  },
  {
   "cell_type": "code",
   "execution_count": null,
   "metadata": {},
   "outputs": [],
   "source": []
  },
  {
   "cell_type": "code",
   "execution_count": null,
   "metadata": {},
   "outputs": [],
   "source": []
  },
  {
   "cell_type": "code",
   "execution_count": null,
   "metadata": {},
   "outputs": [],
   "source": []
  },
  {
   "cell_type": "code",
   "execution_count": null,
   "metadata": {},
   "outputs": [],
   "source": []
  }
 ],
 "metadata": {
  "kernelspec": {
   "display_name": "Python 3",
   "language": "python",
   "name": "python3"
  },
  "language_info": {
   "codemirror_mode": {
    "name": "ipython",
    "version": 3
   },
   "file_extension": ".py",
   "mimetype": "text/x-python",
   "name": "python",
   "nbconvert_exporter": "python",
   "pygments_lexer": "ipython3",
   "version": "3.7.3"
  }
 },
 "nbformat": 4,
 "nbformat_minor": 2
}
