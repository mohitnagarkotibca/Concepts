{
 "cells": [
  {
   "cell_type": "code",
   "execution_count": 3,
   "id": "adjacent-raise",
   "metadata": {},
   "outputs": [],
   "source": [
    "from selenium import webdriver\n",
    "import time\n",
    "from selenium.webdriver.support.ui import Select"
   ]
  },
  {
   "cell_type": "code",
   "execution_count": 2,
   "id": "occasional-canberra",
   "metadata": {},
   "outputs": [],
   "source": [
    "path=\"D:\\programs\\webdriver\\geckodriver.exe\""
   ]
  },
  {
   "cell_type": "code",
   "execution_count": null,
   "id": "overall-grace",
   "metadata": {
    "scrolled": true
   },
   "outputs": [],
   "source": [
    "driver= webdriver.Firefox(executable_path= path)\n",
    "driver.get(\"https://comtrade.un.org/data\")\n",
    "print(driver.title)\n",
    "\n",
    "#Radio button\n",
    "# search= driver.find_element_by_id('type-s')\n",
    "# search.click()\n",
    "\n",
    "\n",
    "time.sleep(5)\n",
    "driver.quit()"
   ]
  },
  {
   "cell_type": "code",
   "execution_count": null,
   "id": "demanding-definition",
   "metadata": {},
   "outputs": [],
   "source": []
  },
  {
   "cell_type": "code",
   "execution_count": null,
   "id": "recreational-switzerland",
   "metadata": {},
   "outputs": [],
   "source": []
  }
 ],
 "metadata": {
  "kernelspec": {
   "display_name": "Python 3",
   "language": "python",
   "name": "python3"
  },
  "language_info": {
   "codemirror_mode": {
    "name": "ipython",
    "version": 3
   },
   "file_extension": ".py",
   "mimetype": "text/x-python",
   "name": "python",
   "nbconvert_exporter": "python",
   "pygments_lexer": "ipython3",
   "version": "3.8.5"
  }
 },
 "nbformat": 4,
 "nbformat_minor": 5
}
