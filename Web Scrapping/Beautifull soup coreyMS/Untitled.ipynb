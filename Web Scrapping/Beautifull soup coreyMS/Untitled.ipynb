{
 "cells": [
  {
   "cell_type": "code",
   "execution_count": 3,
   "metadata": {},
   "outputs": [],
   "source": [
    "from bs4 import BeautifulSoup\n",
    "import requests\n",
    "# handle = input('Input your account name on Twitter: ')\n",
    "handle = 'WIONews'\n",
    "# ctr = int(input('Input number of tweets to scrape: '))\n",
    "ctr= 6\n",
    "res=requests.get('https://twitter.com/'+ handle)\n",
    "bs=BeautifulSoup(res.content,'lxml')\n",
    "all_tweets = bs.find_all('div',{'class':'tweet'})\n",
    "# if all_tweets:\n",
    "#   for tweet in all_tweets[:ctr]:\n",
    "#     context = tweet.find('div',{'class':'context'}).text.replace(\"\\n\",\" \").strip()\n",
    "#     content = tweet.find('div',{'class':'content'})\n",
    "#     header = content.find('div',{'class':'stream-item-header'})\n",
    "#     user = header.find('a',{'class':'account-group js-account-group js-action-profile js-user-profile-link js-nav'}).text.replace(\"\\n\",\" \").strip()\n",
    "#     time = header.find('a',{'class':'tweet-timestamp js-permalink js-nav js-tooltip'}).find('span').text.replace(\"\\n\",\" \").strip()\n",
    "#     message = content.find('div',{'class':'js-tweet-text-container'}).text.replace(\"\\n\",\" \").strip()\n",
    "#     footer = content.find('div',{'class':'stream-item-footer'})\n",
    "#     stat = footer.find('div',{'class':'ProfileTweet-actionCountList u-hiddenVisually'}).text.replace(\"\\n\",\" \").strip()\n",
    "#     if context:\n",
    "#       print(context)\n",
    "#     print(user,time)\n",
    "#     print(message)\n",
    "#     print(stat)\n",
    "#     print()\n",
    "# else:\n",
    "#     print(\"List is empty/account name not found.\")\n",
    "  "
   ]
  },
  {
   "cell_type": "code",
   "execution_count": 13,
   "metadata": {},
   "outputs": [],
   "source": [
    "from bs4 import BeautifulSoup as soup\n",
    "import time\n",
    "from urllib.request import urlopen as uReq\n",
    "handle = 'WIONews'\n",
    "page_url = 'https://twitter.com/'+handle\n",
    "uClient = uReq(page_url)\n",
    "time.sleep(10)\n",
    "page_soup = soup(uClient.read(), \"html.parser\")\n",
    "uClient.close()\n"
   ]
  },
  {
   "cell_type": "code",
   "execution_count": 25,
   "metadata": {},
   "outputs": [
    {
     "name": "stdout",
     "output_type": "stream",
     "text": [
      "None\n"
     ]
    }
   ],
   "source": [
    "# import re\n",
    "# containers= page_soup.findAll('div',{'class':r'css-901oao [A-Za-b0-9-]+'})\n",
    "page_soup.find('div',{'class':'content'})\n",
    "      \n"
   ]
  },
  {
   "cell_type": "code",
   "execution_count": 2,
   "metadata": {},
   "outputs": [],
   "source": [
    "# import twint\n",
    "# import nest_asyncio\n",
    "# nest_asyncio.apply()\n",
    "# c = twint.Config()\n",
    "\n",
    "# c.Username = \"WIONews\"\n",
    "# c.Custom[\"user\"] = [\"tweet\"]\n",
    "# c.Limit = 100\n",
    "# c.Output = \"none.txt\"\n",
    "\n",
    "# twint.run.Search(c)"
   ]
  },
  {
   "cell_type": "code",
   "execution_count": null,
   "metadata": {},
   "outputs": [],
   "source": []
  },
  {
   "cell_type": "code",
   "execution_count": null,
   "metadata": {},
   "outputs": [],
   "source": []
  },
  {
   "cell_type": "code",
   "execution_count": null,
   "metadata": {},
   "outputs": [],
   "source": []
  },
  {
   "cell_type": "code",
   "execution_count": null,
   "metadata": {},
   "outputs": [],
   "source": []
  },
  {
   "cell_type": "code",
   "execution_count": null,
   "metadata": {},
   "outputs": [],
   "source": []
  },
  {
   "cell_type": "code",
   "execution_count": null,
   "metadata": {},
   "outputs": [],
   "source": []
  },
  {
   "cell_type": "code",
   "execution_count": null,
   "metadata": {},
   "outputs": [],
   "source": []
  },
  {
   "cell_type": "code",
   "execution_count": null,
   "metadata": {},
   "outputs": [],
   "source": []
  }
 ],
 "metadata": {
  "kernelspec": {
   "display_name": "Python 3",
   "language": "python",
   "name": "python3"
  },
  "language_info": {
   "codemirror_mode": {
    "name": "ipython",
    "version": 3
   },
   "file_extension": ".py",
   "mimetype": "text/x-python",
   "name": "python",
   "nbconvert_exporter": "python",
   "pygments_lexer": "ipython3",
   "version": "3.7.3"
  }
 },
 "nbformat": 4,
 "nbformat_minor": 4
}
