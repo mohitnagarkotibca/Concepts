{
 "cells": [
  {
   "cell_type": "code",
   "execution_count": 130,
   "metadata": {},
   "outputs": [],
   "source": [
    "from numpy import linalg as LA\n",
    "import numpy as np\n",
    "import pandas as pd\n",
    "import seaborn as sns\n",
    "import matplotlib.pyplot as plt\n",
    "from numpy.linalg import eig"
   ]
  },
  {
   "cell_type": "code",
   "execution_count": 131,
   "metadata": {},
   "outputs": [],
   "source": [
    "\n",
    "m= np.random.randint(10,size=(4,4))\n"
   ]
  },
  {
   "cell_type": "code",
   "execution_count": 132,
   "metadata": {},
   "outputs": [],
   "source": [
    "a,e= LA.eig(m)"
   ]
  },
  {
   "cell_type": "code",
   "execution_count": 133,
   "metadata": {},
   "outputs": [
    {
     "data": {
      "text/plain": [
       "(4,)"
      ]
     },
     "execution_count": 133,
     "metadata": {},
     "output_type": "execute_result"
    }
   ],
   "source": [
    "a.shape"
   ]
  },
  {
   "cell_type": "code",
   "execution_count": 134,
   "metadata": {},
   "outputs": [
    {
     "data": {
      "text/plain": [
       "(4, 4)"
      ]
     },
     "execution_count": 134,
     "metadata": {},
     "output_type": "execute_result"
    }
   ],
   "source": [
    "e.shape"
   ]
  },
  {
   "cell_type": "code",
   "execution_count": 135,
   "metadata": {},
   "outputs": [],
   "source": [
    "reduce= e[:,1:3]"
   ]
  },
  {
   "cell_type": "code",
   "execution_count": 136,
   "metadata": {},
   "outputs": [
    {
     "data": {
      "text/plain": [
       "array([[  1.75227009,   1.91806188,  -1.77561025,   5.42435617],\n",
       "       [ -6.67375859,  -7.96879528,  -3.50813573, -11.74485614]])"
      ]
     },
     "execution_count": 136,
     "metadata": {},
     "output_type": "execute_result"
    }
   ],
   "source": [
    "np.dot(reduce.T , m)"
   ]
  },
  {
   "cell_type": "code",
   "execution_count": 137,
   "metadata": {},
   "outputs": [
    {
     "data": {
      "text/plain": [
       "(4, 4)"
      ]
     },
     "execution_count": 137,
     "metadata": {},
     "output_type": "execute_result"
    }
   ],
   "source": [
    "m.shape"
   ]
  },
  {
   "cell_type": "code",
   "execution_count": 138,
   "metadata": {},
   "outputs": [
    {
     "data": {
      "text/plain": [
       "(4, 2)"
      ]
     },
     "execution_count": 138,
     "metadata": {},
     "output_type": "execute_result"
    }
   ],
   "source": [
    "reduce.shape"
   ]
  },
  {
   "cell_type": "code",
   "execution_count": 139,
   "metadata": {},
   "outputs": [
    {
     "data": {
      "text/html": [
       "<div>\n",
       "<style scoped>\n",
       "    .dataframe tbody tr th:only-of-type {\n",
       "        vertical-align: middle;\n",
       "    }\n",
       "\n",
       "    .dataframe tbody tr th {\n",
       "        vertical-align: top;\n",
       "    }\n",
       "\n",
       "    .dataframe thead th {\n",
       "        text-align: right;\n",
       "    }\n",
       "</style>\n",
       "<table border=\"1\" class=\"dataframe\">\n",
       "  <thead>\n",
       "    <tr style=\"text-align: right;\">\n",
       "      <th></th>\n",
       "      <th>Overall rank</th>\n",
       "      <th>Country or region</th>\n",
       "      <th>Score</th>\n",
       "      <th>GDP per capita</th>\n",
       "      <th>Social support</th>\n",
       "      <th>Healthy life expectancy</th>\n",
       "      <th>Freedom to make life choices</th>\n",
       "      <th>Generosity</th>\n",
       "      <th>Perceptions of corruption</th>\n",
       "    </tr>\n",
       "  </thead>\n",
       "  <tbody>\n",
       "    <tr>\n",
       "      <th>0</th>\n",
       "      <td>1</td>\n",
       "      <td>Finland</td>\n",
       "      <td>7.769</td>\n",
       "      <td>1.340</td>\n",
       "      <td>1.587</td>\n",
       "      <td>0.986</td>\n",
       "      <td>0.596</td>\n",
       "      <td>0.153</td>\n",
       "      <td>0.393</td>\n",
       "    </tr>\n",
       "    <tr>\n",
       "      <th>1</th>\n",
       "      <td>2</td>\n",
       "      <td>Denmark</td>\n",
       "      <td>7.600</td>\n",
       "      <td>1.383</td>\n",
       "      <td>1.573</td>\n",
       "      <td>0.996</td>\n",
       "      <td>0.592</td>\n",
       "      <td>0.252</td>\n",
       "      <td>0.410</td>\n",
       "    </tr>\n",
       "    <tr>\n",
       "      <th>2</th>\n",
       "      <td>3</td>\n",
       "      <td>Norway</td>\n",
       "      <td>7.554</td>\n",
       "      <td>1.488</td>\n",
       "      <td>1.582</td>\n",
       "      <td>1.028</td>\n",
       "      <td>0.603</td>\n",
       "      <td>0.271</td>\n",
       "      <td>0.341</td>\n",
       "    </tr>\n",
       "    <tr>\n",
       "      <th>3</th>\n",
       "      <td>4</td>\n",
       "      <td>Iceland</td>\n",
       "      <td>7.494</td>\n",
       "      <td>1.380</td>\n",
       "      <td>1.624</td>\n",
       "      <td>1.026</td>\n",
       "      <td>0.591</td>\n",
       "      <td>0.354</td>\n",
       "      <td>0.118</td>\n",
       "    </tr>\n",
       "    <tr>\n",
       "      <th>4</th>\n",
       "      <td>5</td>\n",
       "      <td>Netherlands</td>\n",
       "      <td>7.488</td>\n",
       "      <td>1.396</td>\n",
       "      <td>1.522</td>\n",
       "      <td>0.999</td>\n",
       "      <td>0.557</td>\n",
       "      <td>0.322</td>\n",
       "      <td>0.298</td>\n",
       "    </tr>\n",
       "    <tr>\n",
       "      <th>...</th>\n",
       "      <td>...</td>\n",
       "      <td>...</td>\n",
       "      <td>...</td>\n",
       "      <td>...</td>\n",
       "      <td>...</td>\n",
       "      <td>...</td>\n",
       "      <td>...</td>\n",
       "      <td>...</td>\n",
       "      <td>...</td>\n",
       "    </tr>\n",
       "    <tr>\n",
       "      <th>151</th>\n",
       "      <td>152</td>\n",
       "      <td>Rwanda</td>\n",
       "      <td>3.334</td>\n",
       "      <td>0.359</td>\n",
       "      <td>0.711</td>\n",
       "      <td>0.614</td>\n",
       "      <td>0.555</td>\n",
       "      <td>0.217</td>\n",
       "      <td>0.411</td>\n",
       "    </tr>\n",
       "    <tr>\n",
       "      <th>152</th>\n",
       "      <td>153</td>\n",
       "      <td>Tanzania</td>\n",
       "      <td>3.231</td>\n",
       "      <td>0.476</td>\n",
       "      <td>0.885</td>\n",
       "      <td>0.499</td>\n",
       "      <td>0.417</td>\n",
       "      <td>0.276</td>\n",
       "      <td>0.147</td>\n",
       "    </tr>\n",
       "    <tr>\n",
       "      <th>153</th>\n",
       "      <td>154</td>\n",
       "      <td>Afghanistan</td>\n",
       "      <td>3.203</td>\n",
       "      <td>0.350</td>\n",
       "      <td>0.517</td>\n",
       "      <td>0.361</td>\n",
       "      <td>0.000</td>\n",
       "      <td>0.158</td>\n",
       "      <td>0.025</td>\n",
       "    </tr>\n",
       "    <tr>\n",
       "      <th>154</th>\n",
       "      <td>155</td>\n",
       "      <td>Central African Republic</td>\n",
       "      <td>3.083</td>\n",
       "      <td>0.026</td>\n",
       "      <td>0.000</td>\n",
       "      <td>0.105</td>\n",
       "      <td>0.225</td>\n",
       "      <td>0.235</td>\n",
       "      <td>0.035</td>\n",
       "    </tr>\n",
       "    <tr>\n",
       "      <th>155</th>\n",
       "      <td>156</td>\n",
       "      <td>South Sudan</td>\n",
       "      <td>2.853</td>\n",
       "      <td>0.306</td>\n",
       "      <td>0.575</td>\n",
       "      <td>0.295</td>\n",
       "      <td>0.010</td>\n",
       "      <td>0.202</td>\n",
       "      <td>0.091</td>\n",
       "    </tr>\n",
       "  </tbody>\n",
       "</table>\n",
       "<p>156 rows × 9 columns</p>\n",
       "</div>"
      ],
      "text/plain": [
       "     Overall rank         Country or region  Score  GDP per capita  \\\n",
       "0               1                   Finland  7.769           1.340   \n",
       "1               2                   Denmark  7.600           1.383   \n",
       "2               3                    Norway  7.554           1.488   \n",
       "3               4                   Iceland  7.494           1.380   \n",
       "4               5               Netherlands  7.488           1.396   \n",
       "..            ...                       ...    ...             ...   \n",
       "151           152                    Rwanda  3.334           0.359   \n",
       "152           153                  Tanzania  3.231           0.476   \n",
       "153           154               Afghanistan  3.203           0.350   \n",
       "154           155  Central African Republic  3.083           0.026   \n",
       "155           156               South Sudan  2.853           0.306   \n",
       "\n",
       "     Social support  Healthy life expectancy  Freedom to make life choices  \\\n",
       "0             1.587                    0.986                         0.596   \n",
       "1             1.573                    0.996                         0.592   \n",
       "2             1.582                    1.028                         0.603   \n",
       "3             1.624                    1.026                         0.591   \n",
       "4             1.522                    0.999                         0.557   \n",
       "..              ...                      ...                           ...   \n",
       "151           0.711                    0.614                         0.555   \n",
       "152           0.885                    0.499                         0.417   \n",
       "153           0.517                    0.361                         0.000   \n",
       "154           0.000                    0.105                         0.225   \n",
       "155           0.575                    0.295                         0.010   \n",
       "\n",
       "     Generosity  Perceptions of corruption  \n",
       "0         0.153                      0.393  \n",
       "1         0.252                      0.410  \n",
       "2         0.271                      0.341  \n",
       "3         0.354                      0.118  \n",
       "4         0.322                      0.298  \n",
       "..          ...                        ...  \n",
       "151       0.217                      0.411  \n",
       "152       0.276                      0.147  \n",
       "153       0.158                      0.025  \n",
       "154       0.235                      0.035  \n",
       "155       0.202                      0.091  \n",
       "\n",
       "[156 rows x 9 columns]"
      ]
     },
     "execution_count": 139,
     "metadata": {},
     "output_type": "execute_result"
    }
   ],
   "source": [
    "data= pd.read_csv('data/whreport.csv')\n",
    "data"
   ]
  },
  {
   "cell_type": "code",
   "execution_count": 140,
   "metadata": {},
   "outputs": [],
   "source": [
    "data= data.select_dtypes(exclude='object').drop('Overall rank',axis=1)"
   ]
  },
  {
   "cell_type": "code",
   "execution_count": 141,
   "metadata": {},
   "outputs": [],
   "source": [
    "for col in data.columns:\n",
    "    data[col]= (data[col]- np.mean(data[col])) / len(data)-1"
   ]
  },
  {
   "cell_type": "code",
   "execution_count": 142,
   "metadata": {},
   "outputs": [
    {
     "data": {
      "text/html": [
       "<div>\n",
       "<style scoped>\n",
       "    .dataframe tbody tr th:only-of-type {\n",
       "        vertical-align: middle;\n",
       "    }\n",
       "\n",
       "    .dataframe tbody tr th {\n",
       "        vertical-align: top;\n",
       "    }\n",
       "\n",
       "    .dataframe thead th {\n",
       "        text-align: right;\n",
       "    }\n",
       "</style>\n",
       "<table border=\"1\" class=\"dataframe\">\n",
       "  <thead>\n",
       "    <tr style=\"text-align: right;\">\n",
       "      <th></th>\n",
       "      <th>Score</th>\n",
       "      <th>GDP per capita</th>\n",
       "      <th>Social support</th>\n",
       "      <th>Healthy life expectancy</th>\n",
       "      <th>Freedom to make life choices</th>\n",
       "      <th>Generosity</th>\n",
       "      <th>Perceptions of corruption</th>\n",
       "    </tr>\n",
       "  </thead>\n",
       "  <tbody>\n",
       "    <tr>\n",
       "      <th>0</th>\n",
       "      <td>-0.984860</td>\n",
       "      <td>-0.997212</td>\n",
       "      <td>-0.997576</td>\n",
       "      <td>-0.998328</td>\n",
       "      <td>-0.998696</td>\n",
       "      <td>-1.000204</td>\n",
       "      <td>-0.998190</td>\n",
       "    </tr>\n",
       "    <tr>\n",
       "      <th>1</th>\n",
       "      <td>-0.985943</td>\n",
       "      <td>-0.996937</td>\n",
       "      <td>-0.997665</td>\n",
       "      <td>-0.998264</td>\n",
       "      <td>-0.998722</td>\n",
       "      <td>-0.999570</td>\n",
       "      <td>-0.998081</td>\n",
       "    </tr>\n",
       "    <tr>\n",
       "      <th>2</th>\n",
       "      <td>-0.986238</td>\n",
       "      <td>-0.996264</td>\n",
       "      <td>-0.997608</td>\n",
       "      <td>-0.998059</td>\n",
       "      <td>-0.998651</td>\n",
       "      <td>-0.999448</td>\n",
       "      <td>-0.998523</td>\n",
       "    </tr>\n",
       "    <tr>\n",
       "      <th>3</th>\n",
       "      <td>-0.986622</td>\n",
       "      <td>-0.996956</td>\n",
       "      <td>-0.997339</td>\n",
       "      <td>-0.998072</td>\n",
       "      <td>-0.998728</td>\n",
       "      <td>-0.998916</td>\n",
       "      <td>-0.999953</td>\n",
       "    </tr>\n",
       "    <tr>\n",
       "      <th>4</th>\n",
       "      <td>-0.986661</td>\n",
       "      <td>-0.996854</td>\n",
       "      <td>-0.997992</td>\n",
       "      <td>-0.998245</td>\n",
       "      <td>-0.998946</td>\n",
       "      <td>-0.999121</td>\n",
       "      <td>-0.998799</td>\n",
       "    </tr>\n",
       "    <tr>\n",
       "      <th>...</th>\n",
       "      <td>...</td>\n",
       "      <td>...</td>\n",
       "      <td>...</td>\n",
       "      <td>...</td>\n",
       "      <td>...</td>\n",
       "      <td>...</td>\n",
       "      <td>...</td>\n",
       "    </tr>\n",
       "    <tr>\n",
       "      <th>151</th>\n",
       "      <td>-1.013289</td>\n",
       "      <td>-1.003501</td>\n",
       "      <td>-1.003191</td>\n",
       "      <td>-1.000713</td>\n",
       "      <td>-0.998959</td>\n",
       "      <td>-0.999794</td>\n",
       "      <td>-0.998074</td>\n",
       "    </tr>\n",
       "    <tr>\n",
       "      <th>152</th>\n",
       "      <td>-1.013949</td>\n",
       "      <td>-1.002751</td>\n",
       "      <td>-1.002076</td>\n",
       "      <td>-1.001450</td>\n",
       "      <td>-0.999843</td>\n",
       "      <td>-0.999416</td>\n",
       "      <td>-0.999767</td>\n",
       "    </tr>\n",
       "    <tr>\n",
       "      <th>153</th>\n",
       "      <td>-1.014129</td>\n",
       "      <td>-1.003559</td>\n",
       "      <td>-1.004435</td>\n",
       "      <td>-1.002335</td>\n",
       "      <td>-1.002516</td>\n",
       "      <td>-1.000172</td>\n",
       "      <td>-1.000549</td>\n",
       "    </tr>\n",
       "    <tr>\n",
       "      <th>154</th>\n",
       "      <td>-1.014898</td>\n",
       "      <td>-1.005636</td>\n",
       "      <td>-1.007749</td>\n",
       "      <td>-1.003976</td>\n",
       "      <td>-1.001074</td>\n",
       "      <td>-0.999679</td>\n",
       "      <td>-1.000485</td>\n",
       "    </tr>\n",
       "    <tr>\n",
       "      <th>155</th>\n",
       "      <td>-1.016372</td>\n",
       "      <td>-1.003841</td>\n",
       "      <td>-1.004063</td>\n",
       "      <td>-1.002758</td>\n",
       "      <td>-1.002452</td>\n",
       "      <td>-0.999890</td>\n",
       "      <td>-1.000126</td>\n",
       "    </tr>\n",
       "  </tbody>\n",
       "</table>\n",
       "<p>156 rows × 7 columns</p>\n",
       "</div>"
      ],
      "text/plain": [
       "        Score  GDP per capita  Social support  Healthy life expectancy  \\\n",
       "0   -0.984860       -0.997212       -0.997576                -0.998328   \n",
       "1   -0.985943       -0.996937       -0.997665                -0.998264   \n",
       "2   -0.986238       -0.996264       -0.997608                -0.998059   \n",
       "3   -0.986622       -0.996956       -0.997339                -0.998072   \n",
       "4   -0.986661       -0.996854       -0.997992                -0.998245   \n",
       "..        ...             ...             ...                      ...   \n",
       "151 -1.013289       -1.003501       -1.003191                -1.000713   \n",
       "152 -1.013949       -1.002751       -1.002076                -1.001450   \n",
       "153 -1.014129       -1.003559       -1.004435                -1.002335   \n",
       "154 -1.014898       -1.005636       -1.007749                -1.003976   \n",
       "155 -1.016372       -1.003841       -1.004063                -1.002758   \n",
       "\n",
       "     Freedom to make life choices  Generosity  Perceptions of corruption  \n",
       "0                       -0.998696   -1.000204                  -0.998190  \n",
       "1                       -0.998722   -0.999570                  -0.998081  \n",
       "2                       -0.998651   -0.999448                  -0.998523  \n",
       "3                       -0.998728   -0.998916                  -0.999953  \n",
       "4                       -0.998946   -0.999121                  -0.998799  \n",
       "..                            ...         ...                        ...  \n",
       "151                     -0.998959   -0.999794                  -0.998074  \n",
       "152                     -0.999843   -0.999416                  -0.999767  \n",
       "153                     -1.002516   -1.000172                  -1.000549  \n",
       "154                     -1.001074   -0.999679                  -1.000485  \n",
       "155                     -1.002452   -0.999890                  -1.000126  \n",
       "\n",
       "[156 rows x 7 columns]"
      ]
     },
     "execution_count": 142,
     "metadata": {},
     "output_type": "execute_result"
    }
   ],
   "source": [
    "data"
   ]
  },
  {
   "cell_type": "code",
   "execution_count": 143,
   "metadata": {},
   "outputs": [
    {
     "data": {
      "text/plain": [
       "<matplotlib.collections.PathCollection at 0x160d7e2048>"
      ]
     },
     "execution_count": 143,
     "metadata": {},
     "output_type": "execute_result"
    },
    {
     "data": {
      "image/png": "[encoded data removed]",
      "text/plain": [
       "<Figure size 432x288 with 1 Axes>"
      ]
     },
     "metadata": {
      "needs_background": "light"
     },
     "output_type": "display_data"
    }
   ],
   "source": [
    "plt.scatter(y=data['Score'],x=data['GDP per capita'],edgecolors='black',marker='x')"
   ]
  },
  {
   "cell_type": "code",
   "execution_count": 144,
   "metadata": {},
   "outputs": [
    {
     "data": {
      "text/html": [
       "<div>\n",
       "<style scoped>\n",
       "    .dataframe tbody tr th:only-of-type {\n",
       "        vertical-align: middle;\n",
       "    }\n",
       "\n",
       "    .dataframe tbody tr th {\n",
       "        vertical-align: top;\n",
       "    }\n",
       "\n",
       "    .dataframe thead th {\n",
       "        text-align: right;\n",
       "    }\n",
       "</style>\n",
       "<table border=\"1\" class=\"dataframe\">\n",
       "  <thead>\n",
       "    <tr style=\"text-align: right;\">\n",
       "      <th></th>\n",
       "      <th>Score</th>\n",
       "      <th>GDP per capita</th>\n",
       "      <th>Social support</th>\n",
       "      <th>Healthy life expectancy</th>\n",
       "      <th>Freedom to make life choices</th>\n",
       "      <th>Generosity</th>\n",
       "      <th>Perceptions of corruption</th>\n",
       "    </tr>\n",
       "  </thead>\n",
       "  <tbody>\n",
       "    <tr>\n",
       "      <th>Score</th>\n",
       "      <td>5.091370e-05</td>\n",
       "      <td>1.446628e-05</td>\n",
       "      <td>1.063396e-05</td>\n",
       "      <td>8.636944e-06</td>\n",
       "      <td>3.714431e-06</td>\n",
       "      <td>3.303565e-07</td>\n",
       "      <td>1.667440e-06</td>\n",
       "    </tr>\n",
       "    <tr>\n",
       "      <th>GDP per capita</th>\n",
       "      <td>1.446628e-05</td>\n",
       "      <td>6.521785e-06</td>\n",
       "      <td>3.697434e-06</td>\n",
       "      <td>3.311488e-06</td>\n",
       "      <td>8.892067e-07</td>\n",
       "      <td>-1.242215e-07</td>\n",
       "      <td>4.626143e-07</td>\n",
       "    </tr>\n",
       "    <tr>\n",
       "      <th>Social support</th>\n",
       "      <td>1.063396e-05</td>\n",
       "      <td>3.697434e-06</td>\n",
       "      <td>3.678316e-06</td>\n",
       "      <td>2.140289e-06</td>\n",
       "      <td>7.880346e-07</td>\n",
       "      <td>-5.635974e-08</td>\n",
       "      <td>2.114156e-07</td>\n",
       "    </tr>\n",
       "    <tr>\n",
       "      <th>Healthy life expectancy</th>\n",
       "      <td>8.636944e-06</td>\n",
       "      <td>3.311488e-06</td>\n",
       "      <td>2.140289e-06</td>\n",
       "      <td>2.408943e-06</td>\n",
       "      <td>5.565535e-07</td>\n",
       "      <td>-2.796763e-08</td>\n",
       "      <td>2.777362e-07</td>\n",
       "    </tr>\n",
       "    <tr>\n",
       "      <th>Freedom to make life choices</th>\n",
       "      <td>3.714431e-06</td>\n",
       "      <td>8.892067e-07</td>\n",
       "      <td>7.880346e-07</td>\n",
       "      <td>5.565535e-07</td>\n",
       "      <td>8.436831e-07</td>\n",
       "      <td>1.512859e-07</td>\n",
       "      <td>2.442757e-07</td>\n",
       "    </tr>\n",
       "    <tr>\n",
       "      <th>Generosity</th>\n",
       "      <td>3.303565e-07</td>\n",
       "      <td>-1.242215e-07</td>\n",
       "      <td>-5.635974e-08</td>\n",
       "      <td>-2.796763e-08</td>\n",
       "      <td>1.512859e-07</td>\n",
       "      <td>3.728389e-07</td>\n",
       "      <td>1.208300e-07</td>\n",
       "    </tr>\n",
       "    <tr>\n",
       "      <th>Perceptions of corruption</th>\n",
       "      <td>1.667440e-06</td>\n",
       "      <td>4.626143e-07</td>\n",
       "      <td>2.114156e-07</td>\n",
       "      <td>2.777362e-07</td>\n",
       "      <td>2.442757e-07</td>\n",
       "      <td>1.208300e-07</td>\n",
       "      <td>3.672503e-07</td>\n",
       "    </tr>\n",
       "  </tbody>\n",
       "</table>\n",
       "</div>"
      ],
      "text/plain": [
       "                                     Score  GDP per capita  Social support  \\\n",
       "Score                         5.091370e-05    1.446628e-05    1.063396e-05   \n",
       "GDP per capita                1.446628e-05    6.521785e-06    3.697434e-06   \n",
       "Social support                1.063396e-05    3.697434e-06    3.678316e-06   \n",
       "Healthy life expectancy       8.636944e-06    3.311488e-06    2.140289e-06   \n",
       "Freedom to make life choices  3.714431e-06    8.892067e-07    7.880346e-07   \n",
       "Generosity                    3.303565e-07   -1.242215e-07   -5.635974e-08   \n",
       "Perceptions of corruption     1.667440e-06    4.626143e-07    2.114156e-07   \n",
       "\n",
       "                              Healthy life expectancy  \\\n",
       "Score                                    8.636944e-06   \n",
       "GDP per capita                           3.311488e-06   \n",
       "Social support                           2.140289e-06   \n",
       "Healthy life expectancy                  2.408943e-06   \n",
       "Freedom to make life choices             5.565535e-07   \n",
       "Generosity                              -2.796763e-08   \n",
       "Perceptions of corruption                2.777362e-07   \n",
       "\n",
       "                              Freedom to make life choices    Generosity  \\\n",
       "Score                                         3.714431e-06  3.303565e-07   \n",
       "GDP per capita                                8.892067e-07 -1.242215e-07   \n",
       "Social support                                7.880346e-07 -5.635974e-08   \n",
       "Healthy life expectancy                       5.565535e-07 -2.796763e-08   \n",
       "Freedom to make life choices                  8.436831e-07  1.512859e-07   \n",
       "Generosity                                    1.512859e-07  3.728389e-07   \n",
       "Perceptions of corruption                     2.442757e-07  1.208300e-07   \n",
       "\n",
       "                              Perceptions of corruption  \n",
       "Score                                      1.667440e-06  \n",
       "GDP per capita                             4.626143e-07  \n",
       "Social support                             2.114156e-07  \n",
       "Healthy life expectancy                    2.777362e-07  \n",
       "Freedom to make life choices               2.442757e-07  \n",
       "Generosity                                 1.208300e-07  \n",
       "Perceptions of corruption                  3.672503e-07  "
      ]
     },
     "execution_count": 144,
     "metadata": {},
     "output_type": "execute_result"
    }
   ],
   "source": [
    "# plt.figure(figsize=(22,15))\n",
    "data.cov()            "
   ]
  },
  {
   "cell_type": "code",
   "execution_count": 145,
   "metadata": {},
   "outputs": [
    {
     "data": {
      "text/plain": [
       "<matplotlib.collections.PathCollection at 0x160d839e10>"
      ]
     },
     "execution_count": 145,
     "metadata": {},
     "output_type": "execute_result"
    },
    {
     "data": {
      "image/png": "[encoded data removed]",
      "text/plain": [
       "<Figure size 432x288 with 1 Axes>"
      ]
     },
     "metadata": {
      "needs_background": "light"
     },
     "output_type": "display_data"
    }
   ],
   "source": [
    "y=data['Generosity']\n",
    "# x=data['GDP per capita']\n",
    "x=data['Social support']\n",
    "plt.scatter(x,y,edgecolors='black',marker='x',)"
   ]
  },
  {
   "cell_type": "code",
   "execution_count": 146,
   "metadata": {},
   "outputs": [
    {
     "data": {
      "text/html": [
       "<div>\n",
       "<style scoped>\n",
       "    .dataframe tbody tr th:only-of-type {\n",
       "        vertical-align: middle;\n",
       "    }\n",
       "\n",
       "    .dataframe tbody tr th {\n",
       "        vertical-align: top;\n",
       "    }\n",
       "\n",
       "    .dataframe thead th {\n",
       "        text-align: right;\n",
       "    }\n",
       "</style>\n",
       "<table border=\"1\" class=\"dataframe\">\n",
       "  <thead>\n",
       "    <tr style=\"text-align: right;\">\n",
       "      <th></th>\n",
       "      <th>Generosity</th>\n",
       "      <th>Social support</th>\n",
       "    </tr>\n",
       "  </thead>\n",
       "  <tbody>\n",
       "    <tr>\n",
       "      <th>Generosity</th>\n",
       "      <td>3.728389e-07</td>\n",
       "      <td>-5.635974e-08</td>\n",
       "    </tr>\n",
       "    <tr>\n",
       "      <th>Social support</th>\n",
       "      <td>-5.635974e-08</td>\n",
       "      <td>3.678316e-06</td>\n",
       "    </tr>\n",
       "  </tbody>\n",
       "</table>\n",
       "</div>"
      ],
      "text/plain": [
       "                  Generosity  Social support\n",
       "Generosity      3.728389e-07   -5.635974e-08\n",
       "Social support -5.635974e-08    3.678316e-06"
      ]
     },
     "execution_count": 146,
     "metadata": {},
     "output_type": "execute_result"
    }
   ],
   "source": [
    "data[['Generosity','Social support']].cov()"
   ]
  },
  {
   "cell_type": "code",
   "execution_count": 147,
   "metadata": {},
   "outputs": [
    {
     "data": {
      "text/html": [
       "<div>\n",
       "<style scoped>\n",
       "    .dataframe tbody tr th:only-of-type {\n",
       "        vertical-align: middle;\n",
       "    }\n",
       "\n",
       "    .dataframe tbody tr th {\n",
       "        vertical-align: top;\n",
       "    }\n",
       "\n",
       "    .dataframe thead th {\n",
       "        text-align: right;\n",
       "    }\n",
       "</style>\n",
       "<table border=\"1\" class=\"dataframe\">\n",
       "  <thead>\n",
       "    <tr style=\"text-align: right;\">\n",
       "      <th></th>\n",
       "      <th>Generosity</th>\n",
       "      <th>Social support</th>\n",
       "    </tr>\n",
       "  </thead>\n",
       "  <tbody>\n",
       "    <tr>\n",
       "      <th>Generosity</th>\n",
       "      <td>1.000000</td>\n",
       "      <td>-0.048126</td>\n",
       "    </tr>\n",
       "    <tr>\n",
       "      <th>Social support</th>\n",
       "      <td>-0.048126</td>\n",
       "      <td>1.000000</td>\n",
       "    </tr>\n",
       "  </tbody>\n",
       "</table>\n",
       "</div>"
      ],
      "text/plain": [
       "                Generosity  Social support\n",
       "Generosity        1.000000       -0.048126\n",
       "Social support   -0.048126        1.000000"
      ]
     },
     "execution_count": 147,
     "metadata": {},
     "output_type": "execute_result"
    }
   ],
   "source": [
    "data[['Generosity','Social support']].corr()"
   ]
  },
  {
   "cell_type": "code",
   "execution_count": 169,
   "metadata": {},
   "outputs": [
    {
     "name": "stdout",
     "output_type": "stream",
     "text": [
      "3.047046357675643e-29\n"
     ]
    },
    {
     "data": {
      "text/plain": [
       "3.728389397076179e-07"
      ]
     },
     "execution_count": 169,
     "metadata": {},
     "output_type": "execute_result"
    }
   ],
   "source": [
    "print((np.sum(data['Generosity']- data['Generosity'].mean())**2 )/len(data))\n",
    "data['Generosity'].var()"
   ]
  },
  {
   "cell_type": "code",
   "execution_count": 148,
   "metadata": {},
   "outputs": [],
   "source": [
    "a,U= eig(data.cov())"
   ]
  },
  {
   "cell_type": "code",
   "execution_count": 149,
   "metadata": {},
   "outputs": [
    {
     "name": "stdout",
     "output_type": "stream",
     "text": [
      "(7,)\n"
     ]
    },
    {
     "data": {
      "text/plain": [
       "array([5.94577262e-05, 2.77742783e-06, 1.14166523e-06, 6.61003068e-07,\n",
       "       5.48147927e-07, 2.11148452e-07, 3.09399016e-07])"
      ]
     },
     "execution_count": 149,
     "metadata": {},
     "output_type": "execute_result"
    }
   ],
   "source": [
    "print(a.shape)\n",
    "a"
   ]
  },
  {
   "cell_type": "code",
   "execution_count": 150,
   "metadata": {},
   "outputs": [
    {
     "name": "stdout",
     "output_type": "stream",
     "text": [
      "(7, 7)\n"
     ]
    }
   ],
   "source": [
    "print(U.shape)"
   ]
  },
  {
   "cell_type": "code",
   "execution_count": 151,
   "metadata": {},
   "outputs": [
    {
     "data": {
      "text/html": [
       "<div>\n",
       "<style scoped>\n",
       "    .dataframe tbody tr th:only-of-type {\n",
       "        vertical-align: middle;\n",
       "    }\n",
       "\n",
       "    .dataframe tbody tr th {\n",
       "        vertical-align: top;\n",
       "    }\n",
       "\n",
       "    .dataframe thead th {\n",
       "        text-align: right;\n",
       "    }\n",
       "</style>\n",
       "<table border=\"1\" class=\"dataframe\">\n",
       "  <thead>\n",
       "    <tr style=\"text-align: right;\">\n",
       "      <th></th>\n",
       "      <th>0</th>\n",
       "      <th>1</th>\n",
       "      <th>2</th>\n",
       "      <th>3</th>\n",
       "      <th>4</th>\n",
       "      <th>5</th>\n",
       "      <th>6</th>\n",
       "    </tr>\n",
       "  </thead>\n",
       "  <tbody>\n",
       "    <tr>\n",
       "      <th>0</th>\n",
       "      <td>-0.921937</td>\n",
       "      <td>0.360717</td>\n",
       "      <td>-0.065392</td>\n",
       "      <td>0.121933</td>\n",
       "      <td>-0.026808</td>\n",
       "      <td>-0.007186</td>\n",
       "      <td>-0.000930</td>\n",
       "    </tr>\n",
       "    <tr>\n",
       "      <th>1</th>\n",
       "      <td>-0.277662</td>\n",
       "      <td>-0.779255</td>\n",
       "      <td>-0.366080</td>\n",
       "      <td>-0.085063</td>\n",
       "      <td>-0.409964</td>\n",
       "      <td>-0.078120</td>\n",
       "      <td>0.015551</td>\n",
       "    </tr>\n",
       "    <tr>\n",
       "      <th>2</th>\n",
       "      <td>-0.201517</td>\n",
       "      <td>-0.342612</td>\n",
       "      <td>0.902357</td>\n",
       "      <td>-0.025303</td>\n",
       "      <td>-0.024828</td>\n",
       "      <td>0.090127</td>\n",
       "      <td>0.135574</td>\n",
       "    </tr>\n",
       "    <tr>\n",
       "      <th>3</th>\n",
       "      <td>-0.164053</td>\n",
       "      <td>-0.344210</td>\n",
       "      <td>-0.135560</td>\n",
       "      <td>-0.096643</td>\n",
       "      <td>0.907684</td>\n",
       "      <td>-0.016689</td>\n",
       "      <td>-0.052157</td>\n",
       "    </tr>\n",
       "    <tr>\n",
       "      <th>4</th>\n",
       "      <td>-0.067040</td>\n",
       "      <td>0.110503</td>\n",
       "      <td>0.097750</td>\n",
       "      <td>-0.810891</td>\n",
       "      <td>-0.075544</td>\n",
       "      <td>-0.149521</td>\n",
       "      <td>-0.536780</td>\n",
       "    </tr>\n",
       "    <tr>\n",
       "      <th>5</th>\n",
       "      <td>-0.004534</td>\n",
       "      <td>0.111164</td>\n",
       "      <td>-0.032300</td>\n",
       "      <td>-0.398276</td>\n",
       "      <td>0.028257</td>\n",
       "      <td>-0.505501</td>\n",
       "      <td>0.756059</td>\n",
       "    </tr>\n",
       "    <tr>\n",
       "      <th>6</th>\n",
       "      <td>-0.029968</td>\n",
       "      <td>0.047038</td>\n",
       "      <td>-0.135965</td>\n",
       "      <td>-0.389550</td>\n",
       "      <td>-0.014081</td>\n",
       "      <td>0.841164</td>\n",
       "      <td>0.344817</td>\n",
       "    </tr>\n",
       "  </tbody>\n",
       "</table>\n",
       "</div>"
      ],
      "text/plain": [
       "          0         1         2         3         4         5         6\n",
       "0 -0.921937  0.360717 -0.065392  0.121933 -0.026808 -0.007186 -0.000930\n",
       "1 -0.277662 -0.779255 -0.366080 -0.085063 -0.409964 -0.078120  0.015551\n",
       "2 -0.201517 -0.342612  0.902357 -0.025303 -0.024828  0.090127  0.135574\n",
       "3 -0.164053 -0.344210 -0.135560 -0.096643  0.907684 -0.016689 -0.052157\n",
       "4 -0.067040  0.110503  0.097750 -0.810891 -0.075544 -0.149521 -0.536780\n",
       "5 -0.004534  0.111164 -0.032300 -0.398276  0.028257 -0.505501  0.756059\n",
       "6 -0.029968  0.047038 -0.135965 -0.389550 -0.014081  0.841164  0.344817"
      ]
     },
     "execution_count": 151,
     "metadata": {},
     "output_type": "execute_result"
    }
   ],
   "source": [
    "pd.DataFrame(U)"
   ]
  },
  {
   "cell_type": "code",
   "execution_count": 152,
   "metadata": {},
   "outputs": [
    {
     "data": {
      "text/plain": [
       "(7, 2)"
      ]
     },
     "execution_count": 152,
     "metadata": {},
     "output_type": "execute_result"
    }
   ],
   "source": [
    "reduce= U[:,:2]\n",
    "reduce.shape"
   ]
  },
  {
   "cell_type": "code",
   "execution_count": 153,
   "metadata": {},
   "outputs": [
    {
     "data": {
      "text/plain": [
       "(156, 7)"
      ]
     },
     "execution_count": 153,
     "metadata": {},
     "output_type": "execute_result"
    }
   ],
   "source": [
    "data.shape"
   ]
  },
  {
   "cell_type": "code",
   "execution_count": 154,
   "metadata": {},
   "outputs": [
    {
     "data": {
      "text/plain": [
       "(7, 2)"
      ]
     },
     "execution_count": 154,
     "metadata": {},
     "output_type": "execute_result"
    }
   ],
   "source": [
    "reduce.shape"
   ]
  },
  {
   "cell_type": "code",
   "execution_count": 155,
   "metadata": {},
   "outputs": [],
   "source": [
    "x1= np.dot(data,reduce)"
   ]
  },
  {
   "cell_type": "code",
   "execution_count": 156,
   "metadata": {},
   "outputs": [
    {
     "data": {
      "text/plain": [
       "<matplotlib.collections.PathCollection at 0x160d8ab0f0>"
      ]
     },
     "execution_count": 156,
     "metadata": {},
     "output_type": "execute_result"
    },
    {
     "data": {
      "image/png": "[encoded data removed]",
      "text/plain": [
       "<Figure size 432x288 with 1 Axes>"
      ]
     },
     "metadata": {
      "needs_background": "light"
     },
     "output_type": "display_data"
    }
   ],
   "source": [
    "x= x1[:,1]\n",
    "y=x1[:,0]\n",
    "plt.scatter(x,y)"
   ]
  },
  {
   "cell_type": "code",
   "execution_count": 157,
   "metadata": {},
   "outputs": [],
   "source": [
    "eig_val,eig_vec= eig(data.cov())"
   ]
  },
  {
   "cell_type": "code",
   "execution_count": 158,
   "metadata": {},
   "outputs": [],
   "source": [
    "eig_pairs = [ (np.abs(eig_val[i]),eig_vec[:,i]) for i in range(len(eig_val))]"
   ]
  },
  {
   "cell_type": "code",
   "execution_count": 159,
   "metadata": {},
   "outputs": [],
   "source": [
    "eig_pairs.sort(key = lambda x: x[0], reverse= True)"
   ]
  },
  {
   "cell_type": "code",
   "execution_count": 160,
   "metadata": {},
   "outputs": [
    {
     "data": {
      "text/plain": [
       "[(5.94577262170869e-05,\n",
       "  array([-0.92193739, -0.27766158, -0.20151726, -0.16405271, -0.06703998,\n",
       "         -0.00453405, -0.02996788])),\n",
       " (2.7774278262527036e-06,\n",
       "  array([ 0.36071683, -0.77925519, -0.34261222, -0.3442102 ,  0.11050318,\n",
       "          0.11116367,  0.04703841])),\n",
       " (1.1416652268023112e-06,\n",
       "  array([-0.0653919 , -0.36607994,  0.90235682, -0.1355603 ,  0.09775024,\n",
       "         -0.03230036, -0.13596513])),\n",
       " (6.610030679170589e-07,\n",
       "  array([ 0.12193257, -0.08506307, -0.02530306, -0.09664305, -0.81089056,\n",
       "         -0.39827601, -0.38955016])),\n",
       " (5.481479272750146e-07,\n",
       "  array([-0.02680776, -0.40996418, -0.02482846,  0.90768424, -0.0755438 ,\n",
       "          0.02825673, -0.01408109])),\n",
       " (3.093990156947551e-07,\n",
       "  array([-0.00093025,  0.01555108,  0.13557391, -0.05215715, -0.53677981,\n",
       "          0.75605927,  0.34481657])),\n",
       " (2.1114845196112003e-07,\n",
       "  array([-0.00718641, -0.07811968,  0.09012678, -0.01668899, -0.14952142,\n",
       "         -0.50550067,  0.84116391]))]"
      ]
     },
     "execution_count": 160,
     "metadata": {},
     "output_type": "execute_result"
    }
   ],
   "source": [
    "eig_pairs"
   ]
  },
  {
   "cell_type": "code",
   "execution_count": 161,
   "metadata": {},
   "outputs": [],
   "source": [
    "from numpy import linalg as LA\n",
    "import numpy as np\n",
    "import pandas as pd\n",
    "import seaborn as sns\n",
    "import matplotlib.pyplot as plt\n",
    "from numpy.linalg import eig"
   ]
  },
  {
   "cell_type": "code",
   "execution_count": 170,
   "metadata": {},
   "outputs": [],
   "source": [
    "data=pd.read_csv('data/iris.csv').drop(['Id'],axis=1)"
   ]
  },
  {
   "cell_type": "code",
   "execution_count": 171,
   "metadata": {},
   "outputs": [],
   "source": [
    "Y= data['Species']\n",
    "X= data.drop('Species',axis=1)"
   ]
  },
  {
   "cell_type": "code",
   "execution_count": 172,
   "metadata": {},
   "outputs": [
    {
     "data": {
      "text/plain": [
       "array([[ 0.68569351, -0.03926846,  1.27368233,  0.5169038 ],\n",
       "       [-0.03926846,  0.18800403, -0.32171275, -0.11798121],\n",
       "       [ 1.27368233, -0.32171275,  3.11317942,  1.29638747],\n",
       "       [ 0.5169038 , -0.11798121,  1.29638747,  0.58241432]])"
      ]
     },
     "metadata": {},
     "output_type": "display_data"
    }
   ],
   "source": [
    "x_cov= X.cov().to_numpy()\n",
    "display(x_cov)"
   ]
  },
  {
   "cell_type": "code",
   "execution_count": 173,
   "metadata": {},
   "outputs": [
    {
     "data": {
      "text/plain": [
       "array([[ 0.36158968, -0.65653988, -0.58099728,  0.31725455],\n",
       "       [-0.08226889, -0.72971237,  0.59641809, -0.32409435],\n",
       "       [ 0.85657211,  0.1757674 ,  0.07252408, -0.47971899],\n",
       "       [ 0.35884393,  0.07470647,  0.54906091,  0.75112056]])"
      ]
     },
     "metadata": {},
     "output_type": "display_data"
    },
    {
     "data": {
      "text/plain": [
       "array([4.22484077, 0.24224357, 0.07852391, 0.02368303])"
      ]
     },
     "metadata": {},
     "output_type": "display_data"
    }
   ],
   "source": [
    "eig_val,eig_vec= eig(x_cov)\n",
    "display(eig_vec)\n",
    "display(eig_val)"
   ]
  },
  {
   "cell_type": "code",
   "execution_count": 174,
   "metadata": {},
   "outputs": [
    {
     "data": {
      "text/plain": [
       "[(4.22484076832011,\n",
       "  array([ 0.36158968, -0.08226889,  0.85657211,  0.35884393])),\n",
       " (0.2422435716275154,\n",
       "  array([-0.65653988, -0.72971237,  0.1757674 ,  0.07470647])),\n",
       " (0.07852390809415459,\n",
       "  array([-0.58099728,  0.59641809,  0.07252408,  0.54906091])),\n",
       " (0.023683027126002384,\n",
       "  array([ 0.31725455, -0.32409435, -0.47971899,  0.75112056]))]"
      ]
     },
     "execution_count": 174,
     "metadata": {},
     "output_type": "execute_result"
    }
   ],
   "source": [
    "eig_pairs=[(eig_val[i],eig_vec[:,i]) for i in range(len(eig_val))]\n",
    "eig_pairs.sort(key=lambda x: x[0],reverse=True)\n",
    "eig_pairs"
   ]
  },
  {
   "cell_type": "code",
   "execution_count": 175,
   "metadata": {},
   "outputs": [
    {
     "data": {
      "text/plain": [
       "[92.46162071742683, 5.3015567850535055, 1.7185139525006803, 0.5183085450190031]"
      ]
     },
     "execution_count": 175,
     "metadata": {},
     "output_type": "execute_result"
    }
   ],
   "source": [
    "tot= sum(eig_val)\n",
    "percent_contribution= [(i/tot) *100 for i in eig_val]\n",
    "percent_contribution"
   ]
  },
  {
   "cell_type": "code",
   "execution_count": 176,
   "metadata": {},
   "outputs": [
    {
     "data": {
      "text/plain": [
       "array([ 92.46162072,  97.7631775 ,  99.48169145, 100.        ])"
      ]
     },
     "execution_count": 176,
     "metadata": {},
     "output_type": "execute_result"
    }
   ],
   "source": [
    "cum_var_exp = np.cumsum(percent_contribution)\n",
    "cum_var_exp"
   ]
  },
  {
   "cell_type": "code",
   "execution_count": 177,
   "metadata": {},
   "outputs": [
    {
     "data": {
      "image/png": "[encoded data removed]",
      "text/plain": [
       "<Figure size 432x288 with 1 Axes>"
      ]
     },
     "metadata": {},
     "output_type": "display_data"
    }
   ],
   "source": [
    "with plt.style.context('seaborn-whitegrid'):\n",
    "    plt.figure(figsize=(6, 4))\n",
    "\n",
    "    plt.bar(range(4), percent_contribution, alpha=0.5, align='center',\n",
    "            label='individual explained variance')\n",
    "    plt.step(range(4), cum_var_exp, where='mid',\n",
    "             label='cumulative explained variance')\n",
    "    plt.ylabel('Explained variance ratio')\n",
    "    plt.xlabel('Principal components')\n",
    "    plt.legend(loc='best')\n",
    "    plt.tight_layout()\n"
   ]
  },
  {
   "cell_type": "code",
   "execution_count": 178,
   "metadata": {},
   "outputs": [],
   "source": [
    "mat= np.hstack((eig_pairs[0][1].reshape(4,1),eig_pairs[0][1].reshape(4,1)))"
   ]
  },
  {
   "cell_type": "code",
   "execution_count": 180,
   "metadata": {},
   "outputs": [
    {
     "data": {
      "text/plain": [
       "(150, 4)"
      ]
     },
     "execution_count": 180,
     "metadata": {},
     "output_type": "execute_result"
    }
   ],
   "source": [
    "X.shape"
   ]
  },
  {
   "cell_type": "code",
   "execution_count": 179,
   "metadata": {},
   "outputs": [
    {
     "data": {
      "text/plain": [
       "(4, 2)"
      ]
     },
     "execution_count": 179,
     "metadata": {},
     "output_type": "execute_result"
    }
   ],
   "source": [
    "mat.shape"
   ]
  },
  {
   "cell_type": "code",
   "execution_count": 181,
   "metadata": {},
   "outputs": [],
   "source": [
    "z=np.dot(X,mat)"
   ]
  },
  {
   "cell_type": "code",
   "execution_count": 185,
   "metadata": {},
   "outputs": [],
   "source": [
    "# print(X.shape)\n",
    "# print(z.shape)\n",
    "# z"
   ]
  },
  {
   "cell_type": "code",
   "execution_count": 184,
   "metadata": {},
   "outputs": [],
   "source": [
    "# from sklearn.decomposition import PCA as sklearnPCA\n",
    "# sklearn_pca = sklearnPCA(n_components=2)\n",
    "# Y_sklearn = sklearn_pca.fit_transform(X)\n",
    "# Y_sklearn\n"
   ]
  },
  {
   "cell_type": "code",
   "execution_count": null,
   "metadata": {},
   "outputs": [],
   "source": []
  }
 ],
 "metadata": {
  "kernelspec": {
   "display_name": "Python 3",
   "language": "python",
   "name": "python3"
  },
  "language_info": {
   "codemirror_mode": {
    "name": "ipython",
    "version": 3
   },
   "file_extension": ".py",
   "mimetype": "text/x-python",
   "name": "python",
   "nbconvert_exporter": "python",
   "pygments_lexer": "ipython3",
   "version": "3.7.3"
  }
 },
 "nbformat": 4,
 "nbformat_minor": 4
}
