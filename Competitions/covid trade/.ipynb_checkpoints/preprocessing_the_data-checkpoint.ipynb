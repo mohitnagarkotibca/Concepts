{
 "cells": [
  {
   "cell_type": "code",
   "execution_count": 1,
   "id": "junior-junction",
   "metadata": {},
   "outputs": [],
   "source": [
    "import json\n",
    "import re\n",
    "import os\n",
    "import pandas as pd\n",
    "pd.set_option('display.max_rows', 500)\n",
    "pd.set_option('display.max_columns', 500)"
   ]
  },
  {
   "cell_type": "code",
   "execution_count": 2,
   "id": "adjusted-receipt",
   "metadata": {},
   "outputs": [],
   "source": [
    "files= os.listdir('data/json_files')"
   ]
  },
  {
   "cell_type": "code",
   "execution_count": 3,
   "id": "proud-wellington",
   "metadata": {
    "scrolled": true
   },
   "outputs": [],
   "source": [
    "li=[]\n",
    "for sample in files:\n",
    "    with open(f'data/json_files/{sample}','r') as file:\n",
    "        json_obj= json.load(file)\n",
    "        Nill= {li.append(d) for d in json_obj['dataset']}"
   ]
  },
  {
   "cell_type": "code",
   "execution_count": 4,
   "id": "attractive-dollar",
   "metadata": {},
   "outputs": [],
   "source": [
    "df= pd.DataFrame(li)"
   ]
  },
  {
   "cell_type": "code",
   "execution_count": 5,
   "id": "engaged-discount",
   "metadata": {},
   "outputs": [
    {
     "data": {
      "text/plain": [
       "Index(['pfCode', 'yr', 'period', 'periodDesc', 'aggrLevel', 'IsLeaf', 'rgCode',\n",
       "       'rgDesc', 'rtCode', 'rtTitle', 'rt3ISO', 'ptCode', 'ptTitle', 'pt3ISO',\n",
       "       'ptCode2', 'ptTitle2', 'pt3ISO2', 'cstCode', 'cstDesc', 'motCode',\n",
       "       'motDesc', 'cmdCode', 'cmdDescE', 'qtCode', 'qtDesc', 'qtAltCode',\n",
       "       'qtAltDesc', 'TradeQuantity', 'AltQuantity', 'NetWeight', 'GrossWeight',\n",
       "       'TradeValue', 'CIFValue', 'FOBValue', 'estCode'],\n",
       "      dtype='object')"
      ]
     },
     "execution_count": 5,
     "metadata": {},
     "output_type": "execute_result"
    }
   ],
   "source": [
    "df.columns"
   ]
  },
  {
   "cell_type": "code",
   "execution_count": 6,
   "id": "architectural-rebel",
   "metadata": {
    "scrolled": true
   },
   "outputs": [
    {
     "name": "stdout",
     "output_type": "stream",
     "text": [
      "pfCode : ['H5']\n",
      "yr : [2019 2020 2021]\n",
      "period : [201901 201902 201903 201904 201905 201906 201907 201908 201909 201910\n",
      " 201911 201912 202001 202002 202003 202004 202005 202006 202007 202008\n",
      " 202009 202010 202011 202012 202101]\n",
      "periodDesc : ['201901' '201902' '201903' '201904' '201905' '201906' '201907' '201908'\n",
      " '201909' '201910' '201911' '201912' '202001' '202002' '202003' '202004'\n",
      " '202005' '202006' '202007' '202008' '202009' '202010' '202011' '202012'\n",
      " '202101']\n",
      "aggrLevel : [5]\n",
      "IsLeaf : [0]\n",
      "rgCode : [0]\n",
      "rgDesc : ['M' 'X']\n",
      "rtCode : [699]\n",
      "rtTitle : ['India']\n",
      "rt3ISO : ['IND']\n",
      "ptCode : [104 124 144 156 170 251 276 300 344 360 364 368  36 376 380 392  40 446\n",
      " 458 462   4  50 524 554 586 634 643  64 682 702 704 706 710 724 760  76\n",
      " 784 818 826 842 862]\n",
      "ptTitle : ['Myanmar' 'Canada' 'Sri Lanka' 'China' 'Colombia' 'France' 'Germany'\n",
      " 'Greece' 'China, Hong Kong SAR' 'Indonesia' 'Iran' 'Iraq' 'Australia'\n",
      " 'Israel' 'Italy' 'Japan' 'Austria' 'China, Macao SAR' 'Malaysia'\n",
      " 'Maldives' 'Afghanistan' 'Bangladesh' 'Nepal' 'New Zealand' 'Pakistan'\n",
      " 'Qatar' 'Russian Federation' 'Bhutan' 'Saudi Arabia' 'Singapore'\n",
      " 'Viet Nam' 'Somalia' 'South Africa' 'Spain' 'Syria' 'Brazil'\n",
      " 'United Arab Emirates' 'Egypt' 'United Kingdom' 'USA' 'Venezuela']\n",
      "pt3ISO : ['MMR' 'CAN' 'LKA' 'CHN' 'COL' 'FRA' 'DEU' 'GRC' 'HKG' 'IDN' 'IRN' 'IRQ'\n",
      " 'AUS' 'ISR' 'ITA' 'JPN' 'AUT' 'MAC' 'MYS' 'MDV' 'AFG' 'BGD' 'NPL' 'NZL'\n",
      " 'PAK' 'QAT' 'RUS' 'BTN' 'SAU' 'SGP' 'VNM' 'SOM' 'ZAF' 'ESP' 'SYR' 'BRA'\n",
      " 'ARE' 'EGY' 'GBR' 'USA' 'VEN']\n",
      "ptCode2 : [0]\n",
      "ptTitle2 : ['World']\n",
      "pt3ISO2 : ['W00']\n",
      "cstCode : ['C00']\n",
      "cstDesc : ['All CPCs']\n",
      "motCode : ['0']\n",
      "motDesc : ['All MOTs']\n",
      "cmdCode : ['TOTAL']\n",
      "cmdDescE : ['All Commodities']\n",
      "qtCode : [-1]\n",
      "qtDesc : ['N/A']\n",
      "qtAltCode : [-1]\n",
      "qtAltDesc : ['N/A']\n",
      "TradeQuantity : [0]\n",
      "AltQuantity : [0.]\n",
      "NetWeight : [nan  0.]\n",
      "GrossWeight : [nan  0.]\n",
      "TradeValue : [47039674 99121436 18979044 ...  5425111  6190582  9350647]\n",
      "CIFValue : [4.70396740e+07            nan 1.89790445e+07 ... 1.62596431e+08\n",
      " 5.42511142e+06 9.35064716e+06]\n",
      "FOBValue : [         nan 99121436.03  67096024.257 ...  6953451.28  13118469.48\n",
      "  6190582.717]\n",
      "estCode : [0 4]\n"
     ]
    }
   ],
   "source": [
    "for col in df.columns:\n",
    "    print(col,':',df[col].unique())"
   ]
  },
  {
   "cell_type": "code",
   "execution_count": 7,
   "id": "alpha-frontier",
   "metadata": {},
   "outputs": [],
   "source": [
    "column=['period','rgDesc','ptTitle','TradeValue','CIFValue','FOBValue']"
   ]
  },
  {
   "cell_type": "code",
   "execution_count": 8,
   "id": "brazilian-privacy",
   "metadata": {},
   "outputs": [],
   "source": [
    "data= df[column].copy()"
   ]
  },
  {
   "cell_type": "code",
   "execution_count": 9,
   "id": "automated-automation",
   "metadata": {},
   "outputs": [],
   "source": [
    "#building the logic\n",
    "year= data['period'][0]//100\n",
    "month= str(data['period'][0]/100)[-2:]"
   ]
  },
  {
   "cell_type": "code",
   "execution_count": 10,
   "id": "arctic-pizza",
   "metadata": {},
   "outputs": [],
   "source": [
    "#applying the logic\n",
    "data['year']=[ str(d//100) for d in data ['period']]\n",
    "data['month']=[str((m/100))[-2:] for m in data['period']]"
   ]
  },
  {
   "cell_type": "code",
   "execution_count": 11,
   "id": "green-passion",
   "metadata": {},
   "outputs": [
    {
     "data": {
      "text/plain": [
       "array(['01', '02', '03', '04', '05', '06', '07', '08', '09', '.1', '11',\n",
       "       '12'], dtype=object)"
      ]
     },
     "execution_count": 11,
     "metadata": {},
     "output_type": "execute_result"
    }
   ],
   "source": [
    "#checking if months are correct or not\n",
    "data['month'].unique()"
   ]
  },
  {
   "cell_type": "code",
   "execution_count": 12,
   "id": "boxed-sterling",
   "metadata": {},
   "outputs": [],
   "source": [
    "#found error and solved it\n",
    "data['month']= data['month'].apply(lambda x: 10 if x=='.1' else x)"
   ]
  },
  {
   "cell_type": "code",
   "execution_count": 13,
   "id": "patient-aircraft",
   "metadata": {},
   "outputs": [
    {
     "data": {
      "text/plain": [
       "array(['2019', '2020', '2021'], dtype=object)"
      ]
     },
     "execution_count": 13,
     "metadata": {},
     "output_type": "execute_result"
    }
   ],
   "source": [
    "#correct\n",
    "data['year'].unique()"
   ]
  },
  {
   "cell_type": "code",
   "execution_count": 14,
   "id": "complimentary-barrel",
   "metadata": {},
   "outputs": [
    {
     "name": "stdout",
     "output_type": "stream",
     "text": [
      "['period']\n"
     ]
    }
   ],
   "source": [
    "# make a list of preprocessed columns whom i want to drop\n",
    "drop_cols=[]\n",
    "drop_cols.append('period')\n",
    "print(drop_cols)"
   ]
  },
  {
   "cell_type": "code",
   "execution_count": 15,
   "id": "objective-powder",
   "metadata": {},
   "outputs": [],
   "source": [
    "#moving to next columns\n",
    "#rgDesc: M stands for import and X stands for Export\n",
    "data['type of export']= data['rgDesc'].map(lambda x: 'Import' if x=='M' else 'Export')"
   ]
  },
  {
   "cell_type": "code",
   "execution_count": 16,
   "id": "foreign-transport",
   "metadata": {},
   "outputs": [
    {
     "name": "stdout",
     "output_type": "stream",
     "text": [
      "['period', 'rgDesc']\n"
     ]
    }
   ],
   "source": [
    "drop_cols.append('rgDesc')\n",
    "print(drop_cols)"
   ]
  },
  {
   "cell_type": "code",
   "execution_count": 17,
   "id": "champion-telescope",
   "metadata": {},
   "outputs": [
    {
     "data": {
      "text/html": [
       "<div>\n",
       "<style scoped>\n",
       "    .dataframe tbody tr th:only-of-type {\n",
       "        vertical-align: middle;\n",
       "    }\n",
       "\n",
       "    .dataframe tbody tr th {\n",
       "        vertical-align: top;\n",
       "    }\n",
       "\n",
       "    .dataframe thead th {\n",
       "        text-align: right;\n",
       "    }\n",
       "</style>\n",
       "<table border=\"1\" class=\"dataframe\">\n",
       "  <thead>\n",
       "    <tr style=\"text-align: right;\">\n",
       "      <th></th>\n",
       "      <th>period</th>\n",
       "      <th>rgDesc</th>\n",
       "      <th>ptTitle</th>\n",
       "      <th>TradeValue</th>\n",
       "      <th>CIFValue</th>\n",
       "      <th>FOBValue</th>\n",
       "      <th>year</th>\n",
       "      <th>month</th>\n",
       "      <th>type of export</th>\n",
       "    </tr>\n",
       "  </thead>\n",
       "  <tbody>\n",
       "    <tr>\n",
       "      <th>0</th>\n",
       "      <td>201901</td>\n",
       "      <td>M</td>\n",
       "      <td>Myanmar</td>\n",
       "      <td>47039674</td>\n",
       "      <td>4.703967e+07</td>\n",
       "      <td>NaN</td>\n",
       "      <td>2019</td>\n",
       "      <td>01</td>\n",
       "      <td>Import</td>\n",
       "    </tr>\n",
       "    <tr>\n",
       "      <th>1</th>\n",
       "      <td>201901</td>\n",
       "      <td>X</td>\n",
       "      <td>Myanmar</td>\n",
       "      <td>99121436</td>\n",
       "      <td>NaN</td>\n",
       "      <td>9.912144e+07</td>\n",
       "      <td>2019</td>\n",
       "      <td>01</td>\n",
       "      <td>Export</td>\n",
       "    </tr>\n",
       "    <tr>\n",
       "      <th>2</th>\n",
       "      <td>201902</td>\n",
       "      <td>M</td>\n",
       "      <td>Myanmar</td>\n",
       "      <td>18979044</td>\n",
       "      <td>1.897904e+07</td>\n",
       "      <td>NaN</td>\n",
       "      <td>2019</td>\n",
       "      <td>02</td>\n",
       "      <td>Import</td>\n",
       "    </tr>\n",
       "    <tr>\n",
       "      <th>3</th>\n",
       "      <td>201902</td>\n",
       "      <td>X</td>\n",
       "      <td>Myanmar</td>\n",
       "      <td>67096024</td>\n",
       "      <td>NaN</td>\n",
       "      <td>6.709602e+07</td>\n",
       "      <td>2019</td>\n",
       "      <td>02</td>\n",
       "      <td>Export</td>\n",
       "    </tr>\n",
       "    <tr>\n",
       "      <th>4</th>\n",
       "      <td>201903</td>\n",
       "      <td>M</td>\n",
       "      <td>Myanmar</td>\n",
       "      <td>64397415</td>\n",
       "      <td>6.439742e+07</td>\n",
       "      <td>NaN</td>\n",
       "      <td>2019</td>\n",
       "      <td>03</td>\n",
       "      <td>Import</td>\n",
       "    </tr>\n",
       "    <tr>\n",
       "      <th>...</th>\n",
       "      <td>...</td>\n",
       "      <td>...</td>\n",
       "      <td>...</td>\n",
       "      <td>...</td>\n",
       "      <td>...</td>\n",
       "      <td>...</td>\n",
       "      <td>...</td>\n",
       "      <td>...</td>\n",
       "      <td>...</td>\n",
       "    </tr>\n",
       "    <tr>\n",
       "      <th>2018</th>\n",
       "      <td>202011</td>\n",
       "      <td>M</td>\n",
       "      <td>Venezuela</td>\n",
       "      <td>162596431</td>\n",
       "      <td>1.625964e+08</td>\n",
       "      <td>0.000000e+00</td>\n",
       "      <td>2020</td>\n",
       "      <td>11</td>\n",
       "      <td>Import</td>\n",
       "    </tr>\n",
       "    <tr>\n",
       "      <th>2019</th>\n",
       "      <td>202012</td>\n",
       "      <td>X</td>\n",
       "      <td>Venezuela</td>\n",
       "      <td>13118469</td>\n",
       "      <td>0.000000e+00</td>\n",
       "      <td>1.311847e+07</td>\n",
       "      <td>2020</td>\n",
       "      <td>12</td>\n",
       "      <td>Export</td>\n",
       "    </tr>\n",
       "    <tr>\n",
       "      <th>2020</th>\n",
       "      <td>202012</td>\n",
       "      <td>M</td>\n",
       "      <td>Venezuela</td>\n",
       "      <td>5425111</td>\n",
       "      <td>5.425111e+06</td>\n",
       "      <td>0.000000e+00</td>\n",
       "      <td>2020</td>\n",
       "      <td>12</td>\n",
       "      <td>Import</td>\n",
       "    </tr>\n",
       "    <tr>\n",
       "      <th>2021</th>\n",
       "      <td>202101</td>\n",
       "      <td>X</td>\n",
       "      <td>Venezuela</td>\n",
       "      <td>6190582</td>\n",
       "      <td>0.000000e+00</td>\n",
       "      <td>6.190583e+06</td>\n",
       "      <td>2021</td>\n",
       "      <td>01</td>\n",
       "      <td>Export</td>\n",
       "    </tr>\n",
       "    <tr>\n",
       "      <th>2022</th>\n",
       "      <td>202101</td>\n",
       "      <td>M</td>\n",
       "      <td>Venezuela</td>\n",
       "      <td>9350647</td>\n",
       "      <td>9.350647e+06</td>\n",
       "      <td>0.000000e+00</td>\n",
       "      <td>2021</td>\n",
       "      <td>01</td>\n",
       "      <td>Import</td>\n",
       "    </tr>\n",
       "  </tbody>\n",
       "</table>\n",
       "<p>2023 rows × 9 columns</p>\n",
       "</div>"
      ],
      "text/plain": [
       "      period rgDesc    ptTitle  TradeValue      CIFValue      FOBValue  year  \\\n",
       "0     201901      M    Myanmar    47039674  4.703967e+07           NaN  2019   \n",
       "1     201901      X    Myanmar    99121436           NaN  9.912144e+07  2019   \n",
       "2     201902      M    Myanmar    18979044  1.897904e+07           NaN  2019   \n",
       "3     201902      X    Myanmar    67096024           NaN  6.709602e+07  2019   \n",
       "4     201903      M    Myanmar    64397415  6.439742e+07           NaN  2019   \n",
       "...      ...    ...        ...         ...           ...           ...   ...   \n",
       "2018  202011      M  Venezuela   162596431  1.625964e+08  0.000000e+00  2020   \n",
       "2019  202012      X  Venezuela    13118469  0.000000e+00  1.311847e+07  2020   \n",
       "2020  202012      M  Venezuela     5425111  5.425111e+06  0.000000e+00  2020   \n",
       "2021  202101      X  Venezuela     6190582  0.000000e+00  6.190583e+06  2021   \n",
       "2022  202101      M  Venezuela     9350647  9.350647e+06  0.000000e+00  2021   \n",
       "\n",
       "     month type of export  \n",
       "0       01         Import  \n",
       "1       01         Export  \n",
       "2       02         Import  \n",
       "3       02         Export  \n",
       "4       03         Import  \n",
       "...    ...            ...  \n",
       "2018    11         Import  \n",
       "2019    12         Export  \n",
       "2020    12         Import  \n",
       "2021    01         Export  \n",
       "2022    01         Import  \n",
       "\n",
       "[2023 rows x 9 columns]"
      ]
     },
     "execution_count": 17,
     "metadata": {},
     "output_type": "execute_result"
    }
   ],
   "source": [
    "#for ptTitle we just have to change the name of the columns\n",
    "data"
   ]
  },
  {
   "cell_type": "code",
   "execution_count": 18,
   "id": "legal-cause",
   "metadata": {},
   "outputs": [
    {
     "data": {
      "text/plain": [
       "count    2.023000e+03\n",
       "mean     5.530701e+08\n",
       "std      9.047355e+08\n",
       "min      1.316000e+03\n",
       "25%      5.444350e+07\n",
       "50%      2.650761e+08\n",
       "75%      6.434054e+08\n",
       "max      6.683258e+09\n",
       "Name: TradeValue, dtype: float64"
      ]
     },
     "metadata": {},
     "output_type": "display_data"
    }
   ],
   "source": [
    "#lets check trade value\n",
    "display(data['TradeValue'].describe())\n",
    "#let's normalise and simplyfy the aata"
   ]
  },
  {
   "cell_type": "code",
   "execution_count": 19,
   "id": "protecting-rally",
   "metadata": {},
   "outputs": [
    {
     "data": {
      "text/plain": [
       "0        47039674\n",
       "1        99121436\n",
       "2        18979044\n",
       "3        67096024\n",
       "4        64397415\n",
       "          ...    \n",
       "2018    162596431\n",
       "2019     13118469\n",
       "2020      5425111\n",
       "2021      6190582\n",
       "2022      9350647\n",
       "Name: TradeValue, Length: 2023, dtype: int64"
      ]
     },
     "execution_count": 19,
     "metadata": {},
     "output_type": "execute_result"
    }
   ],
   "source": [
    "round(data['TradeValue'],1)"
   ]
  },
  {
   "cell_type": "code",
   "execution_count": 20,
   "id": "proud-emperor",
   "metadata": {},
   "outputs": [],
   "source": [
    "#Under CIF terms of delivery in export business, Cost Insurance and Freight included in the selling cost of goods.\n",
    "#we can drop this column too because the cost of delivery on exprt will get accounted but not for our problem statement\n",
    "drop_cols.append('CIFValue')"
   ]
  },
  {
   "cell_type": "code",
   "execution_count": 21,
   "id": "elect-energy",
   "metadata": {},
   "outputs": [],
   "source": [
    "#same with FOBValue too, delivery charges for the import not necessary\n",
    "drop_cols.append('FOBValue')"
   ]
  },
  {
   "cell_type": "code",
   "execution_count": 22,
   "id": "usual-mercury",
   "metadata": {
    "scrolled": true
   },
   "outputs": [],
   "source": [
    "clean_data=data.drop(drop_cols,axis=1)"
   ]
  },
  {
   "cell_type": "code",
   "execution_count": 23,
   "id": "exterior-analysis",
   "metadata": {},
   "outputs": [],
   "source": [
    "clean_data.columns=['Country','TradeValue','Year','Month','TransactionType']"
   ]
  },
  {
   "cell_type": "code",
   "execution_count": 24,
   "id": "toxic-brake",
   "metadata": {},
   "outputs": [
    {
     "data": {
      "text/html": [
       "<div>\n",
       "<style scoped>\n",
       "    .dataframe tbody tr th:only-of-type {\n",
       "        vertical-align: middle;\n",
       "    }\n",
       "\n",
       "    .dataframe tbody tr th {\n",
       "        vertical-align: top;\n",
       "    }\n",
       "\n",
       "    .dataframe thead th {\n",
       "        text-align: right;\n",
       "    }\n",
       "</style>\n",
       "<table border=\"1\" class=\"dataframe\">\n",
       "  <thead>\n",
       "    <tr style=\"text-align: right;\">\n",
       "      <th></th>\n",
       "      <th>Country</th>\n",
       "      <th>TradeValue</th>\n",
       "      <th>Year</th>\n",
       "      <th>Month</th>\n",
       "      <th>TransactionType</th>\n",
       "    </tr>\n",
       "  </thead>\n",
       "  <tbody>\n",
       "    <tr>\n",
       "      <th>0</th>\n",
       "      <td>Myanmar</td>\n",
       "      <td>47039674</td>\n",
       "      <td>2019</td>\n",
       "      <td>01</td>\n",
       "      <td>Import</td>\n",
       "    </tr>\n",
       "    <tr>\n",
       "      <th>1</th>\n",
       "      <td>Myanmar</td>\n",
       "      <td>99121436</td>\n",
       "      <td>2019</td>\n",
       "      <td>01</td>\n",
       "      <td>Export</td>\n",
       "    </tr>\n",
       "    <tr>\n",
       "      <th>2</th>\n",
       "      <td>Myanmar</td>\n",
       "      <td>18979044</td>\n",
       "      <td>2019</td>\n",
       "      <td>02</td>\n",
       "      <td>Import</td>\n",
       "    </tr>\n",
       "    <tr>\n",
       "      <th>3</th>\n",
       "      <td>Myanmar</td>\n",
       "      <td>67096024</td>\n",
       "      <td>2019</td>\n",
       "      <td>02</td>\n",
       "      <td>Export</td>\n",
       "    </tr>\n",
       "    <tr>\n",
       "      <th>4</th>\n",
       "      <td>Myanmar</td>\n",
       "      <td>64397415</td>\n",
       "      <td>2019</td>\n",
       "      <td>03</td>\n",
       "      <td>Import</td>\n",
       "    </tr>\n",
       "    <tr>\n",
       "      <th>...</th>\n",
       "      <td>...</td>\n",
       "      <td>...</td>\n",
       "      <td>...</td>\n",
       "      <td>...</td>\n",
       "      <td>...</td>\n",
       "    </tr>\n",
       "    <tr>\n",
       "      <th>2018</th>\n",
       "      <td>Venezuela</td>\n",
       "      <td>162596431</td>\n",
       "      <td>2020</td>\n",
       "      <td>11</td>\n",
       "      <td>Import</td>\n",
       "    </tr>\n",
       "    <tr>\n",
       "      <th>2019</th>\n",
       "      <td>Venezuela</td>\n",
       "      <td>13118469</td>\n",
       "      <td>2020</td>\n",
       "      <td>12</td>\n",
       "      <td>Export</td>\n",
       "    </tr>\n",
       "    <tr>\n",
       "      <th>2020</th>\n",
       "      <td>Venezuela</td>\n",
       "      <td>5425111</td>\n",
       "      <td>2020</td>\n",
       "      <td>12</td>\n",
       "      <td>Import</td>\n",
       "    </tr>\n",
       "    <tr>\n",
       "      <th>2021</th>\n",
       "      <td>Venezuela</td>\n",
       "      <td>6190582</td>\n",
       "      <td>2021</td>\n",
       "      <td>01</td>\n",
       "      <td>Export</td>\n",
       "    </tr>\n",
       "    <tr>\n",
       "      <th>2022</th>\n",
       "      <td>Venezuela</td>\n",
       "      <td>9350647</td>\n",
       "      <td>2021</td>\n",
       "      <td>01</td>\n",
       "      <td>Import</td>\n",
       "    </tr>\n",
       "  </tbody>\n",
       "</table>\n",
       "<p>2023 rows × 5 columns</p>\n",
       "</div>"
      ],
      "text/plain": [
       "        Country  TradeValue  Year Month TransactionType\n",
       "0       Myanmar    47039674  2019    01          Import\n",
       "1       Myanmar    99121436  2019    01          Export\n",
       "2       Myanmar    18979044  2019    02          Import\n",
       "3       Myanmar    67096024  2019    02          Export\n",
       "4       Myanmar    64397415  2019    03          Import\n",
       "...         ...         ...   ...   ...             ...\n",
       "2018  Venezuela   162596431  2020    11          Import\n",
       "2019  Venezuela    13118469  2020    12          Export\n",
       "2020  Venezuela     5425111  2020    12          Import\n",
       "2021  Venezuela     6190582  2021    01          Export\n",
       "2022  Venezuela     9350647  2021    01          Import\n",
       "\n",
       "[2023 rows x 5 columns]"
      ]
     },
     "execution_count": 24,
     "metadata": {},
     "output_type": "execute_result"
    }
   ],
   "source": [
    "clean_data"
   ]
  },
  {
   "cell_type": "code",
   "execution_count": 25,
   "id": "horizontal-invalid",
   "metadata": {},
   "outputs": [],
   "source": [
    "clean_data.to_csv('data/preprocessed_data.csv')"
   ]
  }
 ],
 "metadata": {
  "kernelspec": {
   "display_name": "Python 3",
   "language": "python",
   "name": "python3"
  },
  "language_info": {
   "codemirror_mode": {
    "name": "ipython",
    "version": 3
   },
   "file_extension": ".py",
   "mimetype": "text/x-python",
   "name": "python",
   "nbconvert_exporter": "python",
   "pygments_lexer": "ipython3",
   "version": "3.8.5"
  }
 },
 "nbformat": 4,
 "nbformat_minor": 5
}
