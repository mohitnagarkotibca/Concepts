{
 "cells": [
  {
   "cell_type": "markdown",
   "id": "fifth-porcelain",
   "metadata": {
    "papermill": {
     "duration": 0.01956,
     "end_time": "2021-04-13T13:45:54.725497",
     "exception": false,
     "start_time": "2021-04-13T13:45:54.705937",
     "status": "completed"
    },
    "tags": []
   },
   "source": [
    "![image](data:image/jpeg;base64,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)"
   ]
  },
  {
   "cell_type": "markdown",
   "id": "arctic-hartford",
   "metadata": {
    "papermill": {
     "duration": 0.01834,
     "end_time": "2021-04-13T13:45:54.763048",
     "exception": false,
     "start_time": "2021-04-13T13:45:54.744708",
     "status": "completed"
    },
    "tags": []
   },
   "source": [
    "**There are many factors that affect international trade. We see many and many factors, including transport factors in themselves and among us are shipping factors, and these were the factors that have a strong influence on that trade and we also see that one of those factors is that it is the high and very high cost, and as we also see transportation methods It was a very influential factor, as we have seen how much the cost that reached when the ship stopped in the Suez Canal occurred, and it was one of the most important cases. But if we look recently, we will see that these factors have become on the side and the factor of this virus called Covid 19, this virus has killed a lot and made most of the trade stand and most of the Asnirad and export stand in all parts of the world.**"
   ]
  },
  {
   "cell_type": "markdown",
   "id": "smart-percentage",
   "metadata": {
    "papermill": {
     "duration": 0.018314,
     "end_time": "2021-04-13T13:45:54.799894",
     "exception": false,
     "start_time": "2021-04-13T13:45:54.781580",
     "status": "completed"
    },
    "tags": []
   },
   "source": [
    "# import package"
   ]
  },
  {
   "cell_type": "code",
   "execution_count": 1,
   "id": "certified-variance",
   "metadata": {
    "execution": {
     "iopub.execute_input": "2021-04-13T13:45:54.841552Z",
     "iopub.status.busy": "2021-04-13T13:45:54.840369Z",
     "iopub.status.idle": "2021-04-13T13:45:55.784758Z",
     "shell.execute_reply": "2021-04-13T13:45:55.783680Z"
    },
    "papermill": {
     "duration": 0.966327,
     "end_time": "2021-04-13T13:45:55.784984",
     "exception": false,
     "start_time": "2021-04-13T13:45:54.818657",
     "status": "completed"
    },
    "tags": []
   },
   "outputs": [],
   "source": [
    "import numpy as np\n",
    "import pandas as pd\n",
    "import os\n",
    "import matplotlib.pyplot as plt\n",
    "import seaborn as sns"
   ]
  },
  {
   "cell_type": "markdown",
   "id": "backed-fairy",
   "metadata": {
    "papermill": {
     "duration": 0.018559,
     "end_time": "2021-04-13T13:45:55.824448",
     "exception": false,
     "start_time": "2021-04-13T13:45:55.805889",
     "status": "completed"
    },
    "tags": []
   },
   "source": [
    "import data"
   ]
  },
  {
   "cell_type": "code",
   "execution_count": 2,
   "id": "eligible-click",
   "metadata": {
    "execution": {
     "iopub.execute_input": "2021-04-13T13:45:55.868871Z",
     "iopub.status.busy": "2021-04-13T13:45:55.868255Z",
     "iopub.status.idle": "2021-04-13T13:45:56.181198Z",
     "shell.execute_reply": "2021-04-13T13:45:56.179577Z"
    },
    "papermill": {
     "duration": 0.336469,
     "end_time": "2021-04-13T13:45:56.181359",
     "exception": false,
     "start_time": "2021-04-13T13:45:55.844890",
     "status": "completed"
    },
    "tags": []
   },
   "outputs": [],
   "source": [
    "df=pd.read_csv('../input/effectsofcovid19ontradeat24march2021/effects-of-covid-19-on-trade-at-24-march-2021-provisional.csv')"
   ]
  },
  {
   "cell_type": "code",
   "execution_count": 3,
   "id": "specified-richardson",
   "metadata": {
    "execution": {
     "iopub.execute_input": "2021-04-13T13:45:56.234283Z",
     "iopub.status.busy": "2021-04-13T13:45:56.233371Z",
     "iopub.status.idle": "2021-04-13T13:45:56.257345Z",
     "shell.execute_reply": "2021-04-13T13:45:56.257861Z"
    },
    "papermill": {
     "duration": 0.057472,
     "end_time": "2021-04-13T13:45:56.258035",
     "exception": false,
     "start_time": "2021-04-13T13:45:56.200563",
     "status": "completed"
    },
    "tags": []
   },
   "outputs": [
    {
     "data": {
      "text/html": [
       "<div>\n",
       "<style scoped>\n",
       "    .dataframe tbody tr th:only-of-type {\n",
       "        vertical-align: middle;\n",
       "    }\n",
       "\n",
       "    .dataframe tbody tr th {\n",
       "        vertical-align: top;\n",
       "    }\n",
       "\n",
       "    .dataframe thead th {\n",
       "        text-align: right;\n",
       "    }\n",
       "</style>\n",
       "<table border=\"1\" class=\"dataframe\">\n",
       "  <thead>\n",
       "    <tr style=\"text-align: right;\">\n",
       "      <th></th>\n",
       "      <th>Direction</th>\n",
       "      <th>Year</th>\n",
       "      <th>Date</th>\n",
       "      <th>Weekday</th>\n",
       "      <th>Country</th>\n",
       "      <th>Commodity</th>\n",
       "      <th>Transport_Mode</th>\n",
       "      <th>Measure</th>\n",
       "      <th>Value</th>\n",
       "      <th>Cumulative</th>\n",
       "    </tr>\n",
       "  </thead>\n",
       "  <tbody>\n",
       "    <tr>\n",
       "      <th>0</th>\n",
       "      <td>Exports</td>\n",
       "      <td>2015</td>\n",
       "      <td>01/01/2015</td>\n",
       "      <td>Thursday</td>\n",
       "      <td>All</td>\n",
       "      <td>All</td>\n",
       "      <td>All</td>\n",
       "      <td>$</td>\n",
       "      <td>104000000</td>\n",
       "      <td>104000000</td>\n",
       "    </tr>\n",
       "    <tr>\n",
       "      <th>1</th>\n",
       "      <td>Exports</td>\n",
       "      <td>2015</td>\n",
       "      <td>02/01/2015</td>\n",
       "      <td>Friday</td>\n",
       "      <td>All</td>\n",
       "      <td>All</td>\n",
       "      <td>All</td>\n",
       "      <td>$</td>\n",
       "      <td>96000000</td>\n",
       "      <td>200000000</td>\n",
       "    </tr>\n",
       "    <tr>\n",
       "      <th>2</th>\n",
       "      <td>Exports</td>\n",
       "      <td>2015</td>\n",
       "      <td>03/01/2015</td>\n",
       "      <td>Saturday</td>\n",
       "      <td>All</td>\n",
       "      <td>All</td>\n",
       "      <td>All</td>\n",
       "      <td>$</td>\n",
       "      <td>61000000</td>\n",
       "      <td>262000000</td>\n",
       "    </tr>\n",
       "    <tr>\n",
       "      <th>3</th>\n",
       "      <td>Exports</td>\n",
       "      <td>2015</td>\n",
       "      <td>04/01/2015</td>\n",
       "      <td>Sunday</td>\n",
       "      <td>All</td>\n",
       "      <td>All</td>\n",
       "      <td>All</td>\n",
       "      <td>$</td>\n",
       "      <td>74000000</td>\n",
       "      <td>336000000</td>\n",
       "    </tr>\n",
       "    <tr>\n",
       "      <th>4</th>\n",
       "      <td>Exports</td>\n",
       "      <td>2015</td>\n",
       "      <td>05/01/2015</td>\n",
       "      <td>Monday</td>\n",
       "      <td>All</td>\n",
       "      <td>All</td>\n",
       "      <td>All</td>\n",
       "      <td>$</td>\n",
       "      <td>105000000</td>\n",
       "      <td>442000000</td>\n",
       "    </tr>\n",
       "    <tr>\n",
       "      <th>5</th>\n",
       "      <td>Exports</td>\n",
       "      <td>2015</td>\n",
       "      <td>06/01/2015</td>\n",
       "      <td>Tuesday</td>\n",
       "      <td>All</td>\n",
       "      <td>All</td>\n",
       "      <td>All</td>\n",
       "      <td>$</td>\n",
       "      <td>76000000</td>\n",
       "      <td>518000000</td>\n",
       "    </tr>\n",
       "    <tr>\n",
       "      <th>6</th>\n",
       "      <td>Exports</td>\n",
       "      <td>2015</td>\n",
       "      <td>07/01/2015</td>\n",
       "      <td>Wednesday</td>\n",
       "      <td>All</td>\n",
       "      <td>All</td>\n",
       "      <td>All</td>\n",
       "      <td>$</td>\n",
       "      <td>59000000</td>\n",
       "      <td>577000000</td>\n",
       "    </tr>\n",
       "    <tr>\n",
       "      <th>7</th>\n",
       "      <td>Exports</td>\n",
       "      <td>2015</td>\n",
       "      <td>08/01/2015</td>\n",
       "      <td>Thursday</td>\n",
       "      <td>All</td>\n",
       "      <td>All</td>\n",
       "      <td>All</td>\n",
       "      <td>$</td>\n",
       "      <td>111000000</td>\n",
       "      <td>688000000</td>\n",
       "    </tr>\n",
       "    <tr>\n",
       "      <th>8</th>\n",
       "      <td>Exports</td>\n",
       "      <td>2015</td>\n",
       "      <td>09/01/2015</td>\n",
       "      <td>Friday</td>\n",
       "      <td>All</td>\n",
       "      <td>All</td>\n",
       "      <td>All</td>\n",
       "      <td>$</td>\n",
       "      <td>98000000</td>\n",
       "      <td>786000000</td>\n",
       "    </tr>\n",
       "    <tr>\n",
       "      <th>9</th>\n",
       "      <td>Exports</td>\n",
       "      <td>2015</td>\n",
       "      <td>10/01/2015</td>\n",
       "      <td>Saturday</td>\n",
       "      <td>All</td>\n",
       "      <td>All</td>\n",
       "      <td>All</td>\n",
       "      <td>$</td>\n",
       "      <td>89000000</td>\n",
       "      <td>875000000</td>\n",
       "    </tr>\n",
       "  </tbody>\n",
       "</table>\n",
       "</div>"
      ],
      "text/plain": [
       "  Direction  Year        Date    Weekday Country Commodity Transport_Mode  \\\n",
       "0   Exports  2015  01/01/2015   Thursday     All       All            All   \n",
       "1   Exports  2015  02/01/2015     Friday     All       All            All   \n",
       "2   Exports  2015  03/01/2015   Saturday     All       All            All   \n",
       "3   Exports  2015  04/01/2015     Sunday     All       All            All   \n",
       "4   Exports  2015  05/01/2015     Monday     All       All            All   \n",
       "5   Exports  2015  06/01/2015    Tuesday     All       All            All   \n",
       "6   Exports  2015  07/01/2015  Wednesday     All       All            All   \n",
       "7   Exports  2015  08/01/2015   Thursday     All       All            All   \n",
       "8   Exports  2015  09/01/2015     Friday     All       All            All   \n",
       "9   Exports  2015  10/01/2015   Saturday     All       All            All   \n",
       "\n",
       "  Measure      Value  Cumulative  \n",
       "0       $  104000000   104000000  \n",
       "1       $   96000000   200000000  \n",
       "2       $   61000000   262000000  \n",
       "3       $   74000000   336000000  \n",
       "4       $  105000000   442000000  \n",
       "5       $   76000000   518000000  \n",
       "6       $   59000000   577000000  \n",
       "7       $  111000000   688000000  \n",
       "8       $   98000000   786000000  \n",
       "9       $   89000000   875000000  "
      ]
     },
     "execution_count": 3,
     "metadata": {},
     "output_type": "execute_result"
    }
   ],
   "source": [
    "df.head(10)"
   ]
  },
  {
   "cell_type": "markdown",
   "id": "necessary-rebel",
   "metadata": {
    "papermill": {
     "duration": 0.019443,
     "end_time": "2021-04-13T13:45:56.297649",
     "exception": false,
     "start_time": "2021-04-13T13:45:56.278206",
     "status": "completed"
    },
    "tags": []
   },
   "source": [
    "information about data"
   ]
  },
  {
   "cell_type": "code",
   "execution_count": 4,
   "id": "downtown-commonwealth",
   "metadata": {
    "execution": {
     "iopub.execute_input": "2021-04-13T13:45:56.418375Z",
     "iopub.status.busy": "2021-04-13T13:45:56.344726Z",
     "iopub.status.idle": "2021-04-13T13:45:56.441762Z",
     "shell.execute_reply": "2021-04-13T13:45:56.440872Z"
    },
    "papermill": {
     "duration": 0.122898,
     "end_time": "2021-04-13T13:45:56.442007",
     "exception": false,
     "start_time": "2021-04-13T13:45:56.319109",
     "status": "completed"
    },
    "tags": []
   },
   "outputs": [
    {
     "name": "stdout",
     "output_type": "stream",
     "text": [
      "<class 'pandas.core.frame.DataFrame'>\n",
      "RangeIndex: 99739 entries, 0 to 99738\n",
      "Data columns (total 10 columns):\n",
      " #   Column          Non-Null Count  Dtype \n",
      "---  ------          --------------  ----- \n",
      " 0   Direction       99739 non-null  object\n",
      " 1   Year            99739 non-null  int64 \n",
      " 2   Date            99739 non-null  object\n",
      " 3   Weekday         99739 non-null  object\n",
      " 4   Country         99739 non-null  object\n",
      " 5   Commodity       99739 non-null  object\n",
      " 6   Transport_Mode  99739 non-null  object\n",
      " 7   Measure         99739 non-null  object\n",
      " 8   Value           99739 non-null  int64 \n",
      " 9   Cumulative      99739 non-null  int64 \n",
      "dtypes: int64(3), object(7)\n",
      "memory usage: 7.6+ MB\n"
     ]
    }
   ],
   "source": [
    "df.info()"
   ]
  },
  {
   "cell_type": "code",
   "execution_count": 5,
   "id": "connected-vermont",
   "metadata": {
    "execution": {
     "iopub.execute_input": "2021-04-13T13:45:56.508069Z",
     "iopub.status.busy": "2021-04-13T13:45:56.506821Z",
     "iopub.status.idle": "2021-04-13T13:45:56.538965Z",
     "shell.execute_reply": "2021-04-13T13:45:56.539697Z"
    },
    "papermill": {
     "duration": 0.062954,
     "end_time": "2021-04-13T13:45:56.539908",
     "exception": false,
     "start_time": "2021-04-13T13:45:56.476954",
     "status": "completed"
    },
    "tags": []
   },
   "outputs": [
    {
     "data": {
      "text/html": [
       "<div>\n",
       "<style scoped>\n",
       "    .dataframe tbody tr th:only-of-type {\n",
       "        vertical-align: middle;\n",
       "    }\n",
       "\n",
       "    .dataframe tbody tr th {\n",
       "        vertical-align: top;\n",
       "    }\n",
       "\n",
       "    .dataframe thead th {\n",
       "        text-align: right;\n",
       "    }\n",
       "</style>\n",
       "<table border=\"1\" class=\"dataframe\">\n",
       "  <thead>\n",
       "    <tr style=\"text-align: right;\">\n",
       "      <th></th>\n",
       "      <th>Year</th>\n",
       "      <th>Value</th>\n",
       "      <th>Cumulative</th>\n",
       "    </tr>\n",
       "  </thead>\n",
       "  <tbody>\n",
       "    <tr>\n",
       "      <th>count</th>\n",
       "      <td>99739.000000</td>\n",
       "      <td>9.973900e+04</td>\n",
       "      <td>9.973900e+04</td>\n",
       "    </tr>\n",
       "    <tr>\n",
       "      <th>mean</th>\n",
       "      <td>2017.628480</td>\n",
       "      <td>2.835161e+07</td>\n",
       "      <td>4.954444e+09</td>\n",
       "    </tr>\n",
       "    <tr>\n",
       "      <th>std</th>\n",
       "      <td>1.800477</td>\n",
       "      <td>5.131301e+07</td>\n",
       "      <td>9.482433e+09</td>\n",
       "    </tr>\n",
       "    <tr>\n",
       "      <th>min</th>\n",
       "      <td>2015.000000</td>\n",
       "      <td>0.000000e+00</td>\n",
       "      <td>0.000000e+00</td>\n",
       "    </tr>\n",
       "    <tr>\n",
       "      <th>25%</th>\n",
       "      <td>2016.000000</td>\n",
       "      <td>1.000000e+06</td>\n",
       "      <td>1.050000e+08</td>\n",
       "    </tr>\n",
       "    <tr>\n",
       "      <th>50%</th>\n",
       "      <td>2018.000000</td>\n",
       "      <td>8.000000e+06</td>\n",
       "      <td>1.331000e+09</td>\n",
       "    </tr>\n",
       "    <tr>\n",
       "      <th>75%</th>\n",
       "      <td>2019.000000</td>\n",
       "      <td>2.700000e+07</td>\n",
       "      <td>4.561500e+09</td>\n",
       "    </tr>\n",
       "    <tr>\n",
       "      <th>max</th>\n",
       "      <td>2021.000000</td>\n",
       "      <td>5.490000e+08</td>\n",
       "      <td>6.436600e+10</td>\n",
       "    </tr>\n",
       "  </tbody>\n",
       "</table>\n",
       "</div>"
      ],
      "text/plain": [
       "               Year         Value    Cumulative\n",
       "count  99739.000000  9.973900e+04  9.973900e+04\n",
       "mean    2017.628480  2.835161e+07  4.954444e+09\n",
       "std        1.800477  5.131301e+07  9.482433e+09\n",
       "min     2015.000000  0.000000e+00  0.000000e+00\n",
       "25%     2016.000000  1.000000e+06  1.050000e+08\n",
       "50%     2018.000000  8.000000e+06  1.331000e+09\n",
       "75%     2019.000000  2.700000e+07  4.561500e+09\n",
       "max     2021.000000  5.490000e+08  6.436600e+10"
      ]
     },
     "execution_count": 5,
     "metadata": {},
     "output_type": "execute_result"
    }
   ],
   "source": [
    "df.describe()"
   ]
  },
  {
   "cell_type": "code",
   "execution_count": 6,
   "id": "visible-business",
   "metadata": {
    "execution": {
     "iopub.execute_input": "2021-04-13T13:45:56.601838Z",
     "iopub.status.busy": "2021-04-13T13:45:56.601186Z",
     "iopub.status.idle": "2021-04-13T13:45:56.606391Z",
     "shell.execute_reply": "2021-04-13T13:45:56.605670Z"
    },
    "papermill": {
     "duration": 0.041505,
     "end_time": "2021-04-13T13:45:56.606551",
     "exception": false,
     "start_time": "2021-04-13T13:45:56.565046",
     "status": "completed"
    },
    "tags": []
   },
   "outputs": [
    {
     "data": {
      "text/plain": [
       "Index(['Direction', 'Year', 'Date', 'Weekday', 'Country', 'Commodity',\n",
       "       'Transport_Mode', 'Measure', 'Value', 'Cumulative'],\n",
       "      dtype='object')"
      ]
     },
     "execution_count": 6,
     "metadata": {},
     "output_type": "execute_result"
    }
   ],
   "source": [
    "df.columns"
   ]
  },
  {
   "cell_type": "code",
   "execution_count": 7,
   "id": "drawn-gateway",
   "metadata": {
    "execution": {
     "iopub.execute_input": "2021-04-13T13:45:56.736593Z",
     "iopub.status.busy": "2021-04-13T13:45:56.735558Z",
     "iopub.status.idle": "2021-04-13T13:45:56.757807Z",
     "shell.execute_reply": "2021-04-13T13:45:56.757169Z"
    },
    "papermill": {
     "duration": 0.126887,
     "end_time": "2021-04-13T13:45:56.757950",
     "exception": false,
     "start_time": "2021-04-13T13:45:56.631063",
     "status": "completed"
    },
    "tags": []
   },
   "outputs": [
    {
     "data": {
      "text/html": [
       "<div>\n",
       "<style scoped>\n",
       "    .dataframe tbody tr th:only-of-type {\n",
       "        vertical-align: middle;\n",
       "    }\n",
       "\n",
       "    .dataframe tbody tr th {\n",
       "        vertical-align: top;\n",
       "    }\n",
       "\n",
       "    .dataframe thead th {\n",
       "        text-align: right;\n",
       "    }\n",
       "</style>\n",
       "<table border=\"1\" class=\"dataframe\">\n",
       "  <thead>\n",
       "    <tr style=\"text-align: right;\">\n",
       "      <th></th>\n",
       "      <th>Direction</th>\n",
       "      <th>Year</th>\n",
       "      <th>Date</th>\n",
       "      <th>Weekday</th>\n",
       "      <th>Country</th>\n",
       "      <th>Commodity</th>\n",
       "      <th>Transport_Mode</th>\n",
       "      <th>Measure</th>\n",
       "      <th>Value</th>\n",
       "      <th>Cumulative</th>\n",
       "    </tr>\n",
       "  </thead>\n",
       "  <tbody>\n",
       "    <tr>\n",
       "      <th>0</th>\n",
       "      <td>False</td>\n",
       "      <td>False</td>\n",
       "      <td>False</td>\n",
       "      <td>False</td>\n",
       "      <td>False</td>\n",
       "      <td>False</td>\n",
       "      <td>False</td>\n",
       "      <td>False</td>\n",
       "      <td>False</td>\n",
       "      <td>False</td>\n",
       "    </tr>\n",
       "    <tr>\n",
       "      <th>1</th>\n",
       "      <td>False</td>\n",
       "      <td>False</td>\n",
       "      <td>False</td>\n",
       "      <td>False</td>\n",
       "      <td>False</td>\n",
       "      <td>False</td>\n",
       "      <td>False</td>\n",
       "      <td>False</td>\n",
       "      <td>False</td>\n",
       "      <td>False</td>\n",
       "    </tr>\n",
       "    <tr>\n",
       "      <th>2</th>\n",
       "      <td>False</td>\n",
       "      <td>False</td>\n",
       "      <td>False</td>\n",
       "      <td>False</td>\n",
       "      <td>False</td>\n",
       "      <td>False</td>\n",
       "      <td>False</td>\n",
       "      <td>False</td>\n",
       "      <td>False</td>\n",
       "      <td>False</td>\n",
       "    </tr>\n",
       "    <tr>\n",
       "      <th>3</th>\n",
       "      <td>False</td>\n",
       "      <td>False</td>\n",
       "      <td>False</td>\n",
       "      <td>False</td>\n",
       "      <td>False</td>\n",
       "      <td>False</td>\n",
       "      <td>False</td>\n",
       "      <td>False</td>\n",
       "      <td>False</td>\n",
       "      <td>False</td>\n",
       "    </tr>\n",
       "    <tr>\n",
       "      <th>4</th>\n",
       "      <td>False</td>\n",
       "      <td>False</td>\n",
       "      <td>False</td>\n",
       "      <td>False</td>\n",
       "      <td>False</td>\n",
       "      <td>False</td>\n",
       "      <td>False</td>\n",
       "      <td>False</td>\n",
       "      <td>False</td>\n",
       "      <td>False</td>\n",
       "    </tr>\n",
       "    <tr>\n",
       "      <th>...</th>\n",
       "      <td>...</td>\n",
       "      <td>...</td>\n",
       "      <td>...</td>\n",
       "      <td>...</td>\n",
       "      <td>...</td>\n",
       "      <td>...</td>\n",
       "      <td>...</td>\n",
       "      <td>...</td>\n",
       "      <td>...</td>\n",
       "      <td>...</td>\n",
       "    </tr>\n",
       "    <tr>\n",
       "      <th>99734</th>\n",
       "      <td>False</td>\n",
       "      <td>False</td>\n",
       "      <td>False</td>\n",
       "      <td>False</td>\n",
       "      <td>False</td>\n",
       "      <td>False</td>\n",
       "      <td>False</td>\n",
       "      <td>False</td>\n",
       "      <td>False</td>\n",
       "      <td>False</td>\n",
       "    </tr>\n",
       "    <tr>\n",
       "      <th>99735</th>\n",
       "      <td>False</td>\n",
       "      <td>False</td>\n",
       "      <td>False</td>\n",
       "      <td>False</td>\n",
       "      <td>False</td>\n",
       "      <td>False</td>\n",
       "      <td>False</td>\n",
       "      <td>False</td>\n",
       "      <td>False</td>\n",
       "      <td>False</td>\n",
       "    </tr>\n",
       "    <tr>\n",
       "      <th>99736</th>\n",
       "      <td>False</td>\n",
       "      <td>False</td>\n",
       "      <td>False</td>\n",
       "      <td>False</td>\n",
       "      <td>False</td>\n",
       "      <td>False</td>\n",
       "      <td>False</td>\n",
       "      <td>False</td>\n",
       "      <td>False</td>\n",
       "      <td>False</td>\n",
       "    </tr>\n",
       "    <tr>\n",
       "      <th>99737</th>\n",
       "      <td>False</td>\n",
       "      <td>False</td>\n",
       "      <td>False</td>\n",
       "      <td>False</td>\n",
       "      <td>False</td>\n",
       "      <td>False</td>\n",
       "      <td>False</td>\n",
       "      <td>False</td>\n",
       "      <td>False</td>\n",
       "      <td>False</td>\n",
       "    </tr>\n",
       "    <tr>\n",
       "      <th>99738</th>\n",
       "      <td>False</td>\n",
       "      <td>False</td>\n",
       "      <td>False</td>\n",
       "      <td>False</td>\n",
       "      <td>False</td>\n",
       "      <td>False</td>\n",
       "      <td>False</td>\n",
       "      <td>False</td>\n",
       "      <td>False</td>\n",
       "      <td>False</td>\n",
       "    </tr>\n",
       "  </tbody>\n",
       "</table>\n",
       "<p>99739 rows × 10 columns</p>\n",
       "</div>"
      ],
      "text/plain": [
       "       Direction   Year   Date  Weekday  Country  Commodity  Transport_Mode  \\\n",
       "0          False  False  False    False    False      False           False   \n",
       "1          False  False  False    False    False      False           False   \n",
       "2          False  False  False    False    False      False           False   \n",
       "3          False  False  False    False    False      False           False   \n",
       "4          False  False  False    False    False      False           False   \n",
       "...          ...    ...    ...      ...      ...        ...             ...   \n",
       "99734      False  False  False    False    False      False           False   \n",
       "99735      False  False  False    False    False      False           False   \n",
       "99736      False  False  False    False    False      False           False   \n",
       "99737      False  False  False    False    False      False           False   \n",
       "99738      False  False  False    False    False      False           False   \n",
       "\n",
       "       Measure  Value  Cumulative  \n",
       "0        False  False       False  \n",
       "1        False  False       False  \n",
       "2        False  False       False  \n",
       "3        False  False       False  \n",
       "4        False  False       False  \n",
       "...        ...    ...         ...  \n",
       "99734    False  False       False  \n",
       "99735    False  False       False  \n",
       "99736    False  False       False  \n",
       "99737    False  False       False  \n",
       "99738    False  False       False  \n",
       "\n",
       "[99739 rows x 10 columns]"
      ]
     },
     "execution_count": 7,
     "metadata": {},
     "output_type": "execute_result"
    }
   ],
   "source": [
    "df.isnull()"
   ]
  },
  {
   "cell_type": "code",
   "execution_count": 8,
   "id": "victorian-judges",
   "metadata": {
    "execution": {
     "iopub.execute_input": "2021-04-13T13:45:56.878333Z",
     "iopub.status.busy": "2021-04-13T13:45:56.876906Z",
     "iopub.status.idle": "2021-04-13T13:45:56.888316Z",
     "shell.execute_reply": "2021-04-13T13:45:56.889111Z"
    },
    "papermill": {
     "duration": 0.108977,
     "end_time": "2021-04-13T13:45:56.889354",
     "exception": false,
     "start_time": "2021-04-13T13:45:56.780377",
     "status": "completed"
    },
    "tags": []
   },
   "outputs": [
    {
     "data": {
      "text/plain": [
       "Direction         99739\n",
       "Year              99739\n",
       "Date              99739\n",
       "Weekday           99739\n",
       "Country           99739\n",
       "Commodity         99739\n",
       "Transport_Mode    99739\n",
       "Measure           99739\n",
       "Value             99739\n",
       "Cumulative        99739\n",
       "dtype: int64"
      ]
     },
     "execution_count": 8,
     "metadata": {},
     "output_type": "execute_result"
    }
   ],
   "source": [
    "df.count()"
   ]
  },
  {
   "cell_type": "code",
   "execution_count": 9,
   "id": "relative-decrease",
   "metadata": {
    "execution": {
     "iopub.execute_input": "2021-04-13T13:45:56.954337Z",
     "iopub.status.busy": "2021-04-13T13:45:56.953660Z",
     "iopub.status.idle": "2021-04-13T13:45:56.960453Z",
     "shell.execute_reply": "2021-04-13T13:45:56.959925Z"
    },
    "papermill": {
     "duration": 0.041506,
     "end_time": "2021-04-13T13:45:56.960587",
     "exception": false,
     "start_time": "2021-04-13T13:45:56.919081",
     "status": "completed"
    },
    "tags": []
   },
   "outputs": [
    {
     "data": {
      "text/plain": [
       "array(['Exports', 'Imports', 'Reimports'], dtype=object)"
      ]
     },
     "execution_count": 9,
     "metadata": {},
     "output_type": "execute_result"
    }
   ],
   "source": [
    "df['Direction'].unique()"
   ]
  },
  {
   "cell_type": "code",
   "execution_count": 10,
   "id": "floppy-acrylic",
   "metadata": {
    "execution": {
     "iopub.execute_input": "2021-04-13T13:45:57.010661Z",
     "iopub.status.busy": "2021-04-13T13:45:57.010006Z",
     "iopub.status.idle": "2021-04-13T13:45:57.107353Z",
     "shell.execute_reply": "2021-04-13T13:45:57.108051Z"
    },
    "papermill": {
     "duration": 0.12456,
     "end_time": "2021-04-13T13:45:57.108293",
     "exception": false,
     "start_time": "2021-04-13T13:45:56.983733",
     "status": "completed"
    },
    "tags": []
   },
   "outputs": [
    {
     "data": {
      "text/plain": [
       "Direction         0.0\n",
       "Year              0.0\n",
       "Date              0.0\n",
       "Weekday           0.0\n",
       "Country           0.0\n",
       "Commodity         0.0\n",
       "Transport_Mode    0.0\n",
       "Measure           0.0\n",
       "Value             0.0\n",
       "Cumulative        0.0\n",
       "dtype: float64"
      ]
     },
     "execution_count": 10,
     "metadata": {},
     "output_type": "execute_result"
    }
   ],
   "source": [
    "percent_missing = df.isnull().sum() * 100 / len(df)\n",
    "missing_value_df = pd.DataFrame({#'column_name': train.columns,\n",
    "                                 'percent_missing': percent_missing})\n",
    "percent_missing"
   ]
  },
  {
   "cell_type": "code",
   "execution_count": 11,
   "id": "suitable-suite",
   "metadata": {
    "execution": {
     "iopub.execute_input": "2021-04-13T13:45:57.162503Z",
     "iopub.status.busy": "2021-04-13T13:45:57.161890Z",
     "iopub.status.idle": "2021-04-13T13:45:57.238091Z",
     "shell.execute_reply": "2021-04-13T13:45:57.238564Z"
    },
    "papermill": {
     "duration": 0.102941,
     "end_time": "2021-04-13T13:45:57.238748",
     "exception": false,
     "start_time": "2021-04-13T13:45:57.135807",
     "status": "completed"
    },
    "tags": []
   },
   "outputs": [
    {
     "data": {
      "text/plain": [
       "Direction         0.0\n",
       "Year              0.0\n",
       "Date              0.0\n",
       "Weekday           0.0\n",
       "Country           0.0\n",
       "Commodity         0.0\n",
       "Transport_Mode    0.0\n",
       "Measure           0.0\n",
       "Value             0.0\n",
       "Cumulative        0.0\n",
       "dtype: float64"
      ]
     },
     "execution_count": 11,
     "metadata": {},
     "output_type": "execute_result"
    }
   ],
   "source": [
    "df.isna().mean()"
   ]
  },
  {
   "cell_type": "code",
   "execution_count": 12,
   "id": "cardiovascular-virgin",
   "metadata": {
    "execution": {
     "iopub.execute_input": "2021-04-13T13:45:57.289781Z",
     "iopub.status.busy": "2021-04-13T13:45:57.289061Z",
     "iopub.status.idle": "2021-04-13T13:45:57.373754Z",
     "shell.execute_reply": "2021-04-13T13:45:57.373119Z"
    },
    "papermill": {
     "duration": 0.111365,
     "end_time": "2021-04-13T13:45:57.373908",
     "exception": false,
     "start_time": "2021-04-13T13:45:57.262543",
     "status": "completed"
    },
    "tags": []
   },
   "outputs": [
    {
     "data": {
      "text/plain": [
       "array([2015, 2016, 2017, 2018, 2019, 2020, 2021])"
      ]
     },
     "execution_count": 12,
     "metadata": {},
     "output_type": "execute_result"
    }
   ],
   "source": [
    "def replace(Year):\n",
    "    if Year == '>4':\n",
    "        return 5\n",
    "    elif Year == 'never':\n",
    "        return 0\n",
    "\n",
    "    else:\n",
    "        return Year\n",
    "\n",
    "df.Year = df.Year.map(replace)\n",
    "df['Year'].unique()"
   ]
  },
  {
   "cell_type": "code",
   "execution_count": 13,
   "id": "accessible-multiple",
   "metadata": {
    "execution": {
     "iopub.execute_input": "2021-04-13T13:45:57.427224Z",
     "iopub.status.busy": "2021-04-13T13:45:57.426516Z",
     "iopub.status.idle": "2021-04-13T13:45:57.607820Z",
     "shell.execute_reply": "2021-04-13T13:45:57.608784Z"
    },
    "papermill": {
     "duration": 0.209867,
     "end_time": "2021-04-13T13:45:57.608984",
     "exception": false,
     "start_time": "2021-04-13T13:45:57.399117",
     "status": "completed"
    },
    "tags": []
   },
   "outputs": [
    {
     "data": {
      "image/png": "[encoded data removed]",
      "text/plain": [
       "<Figure size 720x360 with 1 Axes>"
      ]
     },
     "metadata": {},
     "output_type": "display_data"
    }
   ],
   "source": [
    "values = df['Year'].value_counts().values.tolist()\n",
    "labels = df['Year'].value_counts().index\n",
    "plt.figure(figsize= (10,5))\n",
    "plt.title('Comparing labels of Year feature')\n",
    "plt.pie(x = values, labels = labels, autopct='%1.1f%%', pctdistance= .5)\n",
    "plt.show()"
   ]
  },
  {
   "cell_type": "code",
   "execution_count": 14,
   "id": "weighted-footage",
   "metadata": {
    "execution": {
     "iopub.execute_input": "2021-04-13T13:45:57.738512Z",
     "iopub.status.busy": "2021-04-13T13:45:57.689589Z",
     "iopub.status.idle": "2021-04-13T13:45:57.886822Z",
     "shell.execute_reply": "2021-04-13T13:45:57.886293Z"
    },
    "papermill": {
     "duration": 0.251921,
     "end_time": "2021-04-13T13:45:57.886967",
     "exception": false,
     "start_time": "2021-04-13T13:45:57.635046",
     "status": "completed"
    },
    "tags": []
   },
   "outputs": [
    {
     "data": {
      "image/png": "[encoded data removed]",
      "text/plain": [
       "<Figure size 720x360 with 1 Axes>"
      ]
     },
     "metadata": {},
     "output_type": "display_data"
    }
   ],
   "source": [
    "values = df['Country'].value_counts().values.tolist()\n",
    "labels = df['Country'].value_counts().index\n",
    "plt.figure(figsize= (10,5))\n",
    "plt.title('Comparing labels of Country feature')\n",
    "plt.pie(x = values, labels = labels, autopct='%1.1f%%', pctdistance= .5)\n",
    "plt.show()"
   ]
  },
  {
   "cell_type": "code",
   "execution_count": 15,
   "id": "union-display",
   "metadata": {
    "execution": {
     "iopub.execute_input": "2021-04-13T13:45:57.997113Z",
     "iopub.status.busy": "2021-04-13T13:45:57.994585Z",
     "iopub.status.idle": "2021-04-13T13:45:58.183913Z",
     "shell.execute_reply": "2021-04-13T13:45:58.183365Z"
    },
    "papermill": {
     "duration": 0.269758,
     "end_time": "2021-04-13T13:45:58.184058",
     "exception": false,
     "start_time": "2021-04-13T13:45:57.914300",
     "status": "completed"
    },
    "tags": []
   },
   "outputs": [
    {
     "data": {
      "image/png": "[encoded data removed]",
      "text/plain": [
       "<Figure size 720x360 with 1 Axes>"
      ]
     },
     "metadata": {},
     "output_type": "display_data"
    }
   ],
   "source": [
    "values = df['Commodity'].value_counts().values.tolist()\n",
    "labels = df['Commodity'].value_counts().index\n",
    "plt.figure(figsize= (10,5))\n",
    "plt.title('Comparing labels of Commodity feature')\n",
    "plt.pie(x = values, labels = labels, autopct='%1.1f%%', pctdistance= .5)\n",
    "plt.show()"
   ]
  },
  {
   "cell_type": "code",
   "execution_count": 16,
   "id": "consecutive-naples",
   "metadata": {
    "execution": {
     "iopub.execute_input": "2021-04-13T13:45:58.270490Z",
     "iopub.status.busy": "2021-04-13T13:45:58.260072Z",
     "iopub.status.idle": "2021-04-13T13:45:58.405895Z",
     "shell.execute_reply": "2021-04-13T13:45:58.405361Z"
    },
    "papermill": {
     "duration": 0.193283,
     "end_time": "2021-04-13T13:45:58.406039",
     "exception": false,
     "start_time": "2021-04-13T13:45:58.212756",
     "status": "completed"
    },
    "tags": []
   },
   "outputs": [
    {
     "data": {
      "image/png": "[encoded data removed]",
      "text/plain": [
       "<Figure size 720x360 with 1 Axes>"
      ]
     },
     "metadata": {},
     "output_type": "display_data"
    }
   ],
   "source": [
    "values = df['Transport_Mode'].value_counts().values.tolist()\n",
    "labels = df['Transport_Mode'].value_counts().index\n",
    "plt.figure(figsize= (10,5))\n",
    "plt.title('Comparing labels of Transport_Mode feature')\n",
    "plt.pie(x = values, labels = labels, autopct='%1.1f%%', pctdistance= .5)\n",
    "plt.show()"
   ]
  },
  {
   "cell_type": "code",
   "execution_count": 17,
   "id": "exterior-headline",
   "metadata": {
    "execution": {
     "iopub.execute_input": "2021-04-13T13:45:58.472434Z",
     "iopub.status.busy": "2021-04-13T13:45:58.471290Z",
     "iopub.status.idle": "2021-04-13T13:45:58.770542Z",
     "shell.execute_reply": "2021-04-13T13:45:58.768673Z"
    },
    "papermill": {
     "duration": 0.33486,
     "end_time": "2021-04-13T13:45:58.770769",
     "exception": false,
     "start_time": "2021-04-13T13:45:58.435909",
     "status": "completed"
    },
    "tags": []
   },
   "outputs": [
    {
     "data": {
      "text/plain": [
       "<AxesSubplot:>"
      ]
     },
     "execution_count": 17,
     "metadata": {},
     "output_type": "execute_result"
    },
    {
     "data": {
      "image/png": "[encoded data removed]",
      "text/plain": [
       "<Figure size 432x288 with 2 Axes>"
      ]
     },
     "metadata": {
      "needs_background": "light"
     },
     "output_type": "display_data"
    }
   ],
   "source": [
    "sns.heatmap(df.corr(), annot = True, vmin=-1, vmax=1, center= 10,\n",
    "            cmap= 'Blues_r', linewidths=3, linecolor='black')"
   ]
  },
  {
   "cell_type": "code",
   "execution_count": 18,
   "id": "speaking-inside",
   "metadata": {
    "execution": {
     "iopub.execute_input": "2021-04-13T13:45:58.859691Z",
     "iopub.status.busy": "2021-04-13T13:45:58.858924Z",
     "iopub.status.idle": "2021-04-13T13:45:59.155011Z",
     "shell.execute_reply": "2021-04-13T13:45:59.155602Z"
    },
    "papermill": {
     "duration": 0.346013,
     "end_time": "2021-04-13T13:45:59.155771",
     "exception": false,
     "start_time": "2021-04-13T13:45:58.809758",
     "status": "completed"
    },
    "tags": []
   },
   "outputs": [
    {
     "data": {
      "text/plain": [
       "<AxesSubplot:xlabel='Weekday'>"
      ]
     },
     "execution_count": 18,
     "metadata": {},
     "output_type": "execute_result"
    },
    {
     "data": {
      "image/png": "[encoded data removed]",
      "text/plain": [
       "<Figure size 432x288 with 1 Axes>"
      ]
     },
     "metadata": {
      "needs_background": "light"
     },
     "output_type": "display_data"
    }
   ],
   "source": [
    "table = pd.pivot_table(df,index=['Weekday'])\n",
    "table\n",
    "table.plot(kind='bar')"
   ]
  },
  {
   "cell_type": "code",
   "execution_count": 19,
   "id": "automated-headset",
   "metadata": {
    "execution": {
     "iopub.execute_input": "2021-04-13T13:45:59.223903Z",
     "iopub.status.busy": "2021-04-13T13:45:59.223207Z",
     "iopub.status.idle": "2021-04-13T13:45:59.546509Z",
     "shell.execute_reply": "2021-04-13T13:45:59.547059Z"
    },
    "papermill": {
     "duration": 0.359413,
     "end_time": "2021-04-13T13:45:59.547478",
     "exception": false,
     "start_time": "2021-04-13T13:45:59.188065",
     "status": "completed"
    },
    "tags": []
   },
   "outputs": [
    {
     "data": {
      "text/plain": [
       "<AxesSubplot:xlabel='Country'>"
      ]
     },
     "execution_count": 19,
     "metadata": {},
     "output_type": "execute_result"
    },
    {
     "data": {
      "image/png": "[encoded data removed]",
      "text/plain": [
       "<Figure size 432x288 with 1 Axes>"
      ]
     },
     "metadata": {
      "needs_background": "light"
     },
     "output_type": "display_data"
    }
   ],
   "source": [
    "table = pd.pivot_table(df,index=['Country'])\n",
    "table\n",
    "table.plot(kind='bar')"
   ]
  },
  {
   "cell_type": "code",
   "execution_count": 20,
   "id": "integral-twins",
   "metadata": {
    "execution": {
     "iopub.execute_input": "2021-04-13T13:45:59.618670Z",
     "iopub.status.busy": "2021-04-13T13:45:59.618040Z",
     "iopub.status.idle": "2021-04-13T13:45:59.942014Z",
     "shell.execute_reply": "2021-04-13T13:45:59.942518Z"
    },
    "papermill": {
     "duration": 0.361444,
     "end_time": "2021-04-13T13:45:59.942686",
     "exception": false,
     "start_time": "2021-04-13T13:45:59.581242",
     "status": "completed"
    },
    "tags": []
   },
   "outputs": [
    {
     "data": {
      "text/plain": [
       "<AxesSubplot:xlabel='Commodity'>"
      ]
     },
     "execution_count": 20,
     "metadata": {},
     "output_type": "execute_result"
    },
    {
     "data": {
      "image/png": "[encoded data removed]",
      "text/plain": [
       "<Figure size 432x288 with 1 Axes>"
      ]
     },
     "metadata": {
      "needs_background": "light"
     },
     "output_type": "display_data"
    }
   ],
   "source": [
    "table = pd.pivot_table(df,index=['Commodity'])\n",
    "table\n",
    "table.plot(kind='bar')"
   ]
  },
  {
   "cell_type": "code",
   "execution_count": 21,
   "id": "ignored-jurisdiction",
   "metadata": {
    "execution": {
     "iopub.execute_input": "2021-04-13T13:46:00.018915Z",
     "iopub.status.busy": "2021-04-13T13:46:00.018147Z",
     "iopub.status.idle": "2021-04-13T13:46:00.031637Z",
     "shell.execute_reply": "2021-04-13T13:46:00.032145Z"
    },
    "papermill": {
     "duration": 0.054487,
     "end_time": "2021-04-13T13:46:00.032329",
     "exception": false,
     "start_time": "2021-04-13T13:45:59.977842",
     "status": "completed"
    },
    "tags": []
   },
   "outputs": [
    {
     "data": {
      "text/html": [
       "<div>\n",
       "<style scoped>\n",
       "    .dataframe tbody tr th:only-of-type {\n",
       "        vertical-align: middle;\n",
       "    }\n",
       "\n",
       "    .dataframe tbody tr th {\n",
       "        vertical-align: top;\n",
       "    }\n",
       "\n",
       "    .dataframe thead th {\n",
       "        text-align: right;\n",
       "    }\n",
       "</style>\n",
       "<table border=\"1\" class=\"dataframe\">\n",
       "  <thead>\n",
       "    <tr style=\"text-align: right;\">\n",
       "      <th></th>\n",
       "      <th>Direction</th>\n",
       "      <th>Year</th>\n",
       "      <th>Date</th>\n",
       "      <th>Weekday</th>\n",
       "      <th>Country</th>\n",
       "      <th>Commodity</th>\n",
       "      <th>Transport_Mode</th>\n",
       "      <th>Measure</th>\n",
       "      <th>Value</th>\n",
       "      <th>Cumulative</th>\n",
       "    </tr>\n",
       "  </thead>\n",
       "  <tbody>\n",
       "    <tr>\n",
       "      <th>0</th>\n",
       "      <td>Exports</td>\n",
       "      <td>2015</td>\n",
       "      <td>01/01/2015</td>\n",
       "      <td>Thursday</td>\n",
       "      <td>All</td>\n",
       "      <td>All</td>\n",
       "      <td>All</td>\n",
       "      <td>$</td>\n",
       "      <td>104000000</td>\n",
       "      <td>104000000</td>\n",
       "    </tr>\n",
       "  </tbody>\n",
       "</table>\n",
       "</div>"
      ],
      "text/plain": [
       "  Direction  Year        Date   Weekday Country Commodity Transport_Mode  \\\n",
       "0   Exports  2015  01/01/2015  Thursday     All       All            All   \n",
       "\n",
       "  Measure      Value  Cumulative  \n",
       "0       $  104000000   104000000  "
      ]
     },
     "execution_count": 21,
     "metadata": {},
     "output_type": "execute_result"
    }
   ],
   "source": [
    "df.head(1)"
   ]
  },
  {
   "cell_type": "code",
   "execution_count": 22,
   "id": "pacific-reaction",
   "metadata": {
    "execution": {
     "iopub.execute_input": "2021-04-13T13:46:00.109469Z",
     "iopub.status.busy": "2021-04-13T13:46:00.108444Z",
     "iopub.status.idle": "2021-04-13T13:46:00.374312Z",
     "shell.execute_reply": "2021-04-13T13:46:00.374840Z"
    },
    "papermill": {
     "duration": 0.305722,
     "end_time": "2021-04-13T13:46:00.375012",
     "exception": false,
     "start_time": "2021-04-13T13:46:00.069290",
     "status": "completed"
    },
    "tags": []
   },
   "outputs": [
    {
     "data": {
      "text/plain": [
       "<AxesSubplot:xlabel='Weekday,Country'>"
      ]
     },
     "execution_count": 22,
     "metadata": {},
     "output_type": "execute_result"
    },
    {
     "data": {
      "image/png": "[encoded data removed]",
      "text/plain": [
       "<Figure size 432x288 with 1 Axes>"
      ]
     },
     "metadata": {
      "needs_background": "light"
     },
     "output_type": "display_data"
    }
   ],
   "source": [
    "table = pd.pivot_table(df,index=['Weekday','Country'])\n",
    "table\n",
    "table.plot(kind='line')"
   ]
  },
  {
   "cell_type": "code",
   "execution_count": 23,
   "id": "packed-density",
   "metadata": {
    "execution": {
     "iopub.execute_input": "2021-04-13T13:46:00.454870Z",
     "iopub.status.busy": "2021-04-13T13:46:00.453930Z",
     "iopub.status.idle": "2021-04-13T13:46:00.729763Z",
     "shell.execute_reply": "2021-04-13T13:46:00.730327Z"
    },
    "papermill": {
     "duration": 0.317404,
     "end_time": "2021-04-13T13:46:00.730505",
     "exception": false,
     "start_time": "2021-04-13T13:46:00.413101",
     "status": "completed"
    },
    "tags": []
   },
   "outputs": [
    {
     "data": {
      "text/plain": [
       "<AxesSubplot:xlabel='Weekday,Commodity'>"
      ]
     },
     "execution_count": 23,
     "metadata": {},
     "output_type": "execute_result"
    },
    {
     "data": {
      "image/png": "[encoded data removed]",
      "text/plain": [
       "<Figure size 432x288 with 1 Axes>"
      ]
     },
     "metadata": {
      "needs_background": "light"
     },
     "output_type": "display_data"
    }
   ],
   "source": [
    "table = pd.pivot_table(df,index=['Weekday','Commodity'])\n",
    "table\n",
    "table.plot(kind='line')"
   ]
  },
  {
   "cell_type": "code",
   "execution_count": null,
   "id": "offshore-binary",
   "metadata": {
    "papermill": {
     "duration": 0.038956,
     "end_time": "2021-04-13T13:46:00.812590",
     "exception": false,
     "start_time": "2021-04-13T13:46:00.773634",
     "status": "completed"
    },
    "tags": []
   },
   "outputs": [],
   "source": []
  }
 ],
 "metadata": {
  "kernelspec": {
   "display_name": "Python 3",
   "language": "python",
   "name": "python3"
  },
  "language_info": {
   "codemirror_mode": {
    "name": "ipython",
    "version": 3
   },
   "file_extension": ".py",
   "mimetype": "text/x-python",
   "name": "python",
   "nbconvert_exporter": "python",
   "pygments_lexer": "ipython3",
   "version": "3.7.9"
  },
  "papermill": {
   "default_parameters": {},
   "duration": 13.007389,
   "end_time": "2021-04-13T13:46:01.563955",
   "environment_variables": {},
   "exception": null,
   "input_path": "__notebook__.ipynb",
   "output_path": "__notebook__.ipynb",
   "parameters": {},
   "start_time": "2021-04-13T13:45:48.556566",
   "version": "2.3.2"
  }
 },
 "nbformat": 4,
 "nbformat_minor": 5
}
