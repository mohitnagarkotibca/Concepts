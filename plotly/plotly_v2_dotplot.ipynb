{
 "cells": [
  {
   "cell_type": "code",
   "execution_count": 2,
   "metadata": {},
   "outputs": [],
   "source": [
    "import pandas as pd\n",
    "data= pd.read_csv('census_district.csv')"
   ]
  },
  {
   "cell_type": "code",
   "execution_count": 4,
   "metadata": {},
   "outputs": [
    {
     "data": {
      "text/plain": [
       "Index(['District code', 'State name', 'District name', 'Population', 'Male',\n",
       "       'Female', 'Literate', 'Male_Literate', 'Female_Literate', 'SC',\n",
       "       ...\n",
       "       'Power_Parity_Rs_90000_150000', 'Power_Parity_Rs_45000_150000',\n",
       "       'Power_Parity_Rs_150000_240000', 'Power_Parity_Rs_240000_330000',\n",
       "       'Power_Parity_Rs_150000_330000', 'Power_Parity_Rs_330000_425000',\n",
       "       'Power_Parity_Rs_425000_545000', 'Power_Parity_Rs_330000_545000',\n",
       "       'Power_Parity_Above_Rs_545000', 'Total_Power_Parity'],\n",
       "      dtype='object', length=118)"
      ]
     },
     "execution_count": 4,
     "metadata": {},
     "output_type": "execute_result"
    }
   ],
   "source": [
    "data.columns"
   ]
  },
  {
   "cell_type": "code",
   "execution_count": 43,
   "metadata": {},
   "outputs": [
    {
     "data": {
      "text/plain": [
       "int64     116\n",
       "object      2\n",
       "dtype: int64"
      ]
     },
     "execution_count": 43,
     "metadata": {},
     "output_type": "execute_result"
    }
   ],
   "source": [
    "data.dtypes.value_counts()"
   ]
  },
  {
   "cell_type": "code",
   "execution_count": 14,
   "metadata": {},
   "outputs": [],
   "source": [
    "#satewise mean population\n",
    "state_population = round(data.groupby('State name')['Population'].mean(),2)"
   ]
  },
  {
   "cell_type": "code",
   "execution_count": 15,
   "metadata": {},
   "outputs": [],
   "source": [
    "import plotly.graph_objects as go"
   ]
  },
  {
   "cell_type": "code",
   "execution_count": 58,
   "metadata": {},
   "outputs": [],
   "source": [
    "fig= go.Figure(\n",
    "    data= go.Scatter(\n",
    "                     x= state_population.values,\n",
    "                     y= state_population.index,\n",
    "                    text= state_population.index,\n",
    "                    marker= {'size':state_population.values/50000,'showscale':True,'line_width':2},\n",
    "                    mode='markers'\n",
    "    ),\n",
    "    layout={\n",
    "            'title':'about to be given',\n",
    "            'yaxis_title':'Indian States',\n",
    "            'xaxis_title':'Population',\n",
    "            'plot_bgcolor':'rgb(150, 160, 170)',# the figure where the plot is drawn\n",
    "#             'paper_bgcolor':'rgb(100, 110, 120)'# behind plot\n",
    "    }\n",
    ")\n",
    "fig.show(renderer='browser')"
   ]
  },
  {
   "cell_type": "code",
   "execution_count": 29,
   "metadata": {},
   "outputs": [],
   "source": [
    "import numpy as np"
   ]
  },
  {
   "cell_type": "code",
   "execution_count": null,
   "metadata": {},
   "outputs": [],
   "source": []
  },
  {
   "cell_type": "code",
   "execution_count": null,
   "metadata": {},
   "outputs": [],
   "source": []
  }
 ],
 "metadata": {
  "kernelspec": {
   "display_name": "Python 3",
   "language": "python",
   "name": "python3"
  },
  "language_info": {
   "codemirror_mode": {
    "name": "ipython",
    "version": 3
   },
   "file_extension": ".py",
   "mimetype": "text/x-python",
   "name": "python",
   "nbconvert_exporter": "python",
   "pygments_lexer": "ipython3",
   "version": "3.7.3"
  }
 },
 "nbformat": 4,
 "nbformat_minor": 4
}
