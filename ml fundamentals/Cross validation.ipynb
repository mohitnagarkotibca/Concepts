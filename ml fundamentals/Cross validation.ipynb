{
 "cells": [
  {
   "cell_type": "code",
   "execution_count": 1,
   "metadata": {},
   "outputs": [],
   "source": [
    "from sklearn.datasets import load_iris\n",
    "from sklearn.model_selection import train_test_split\n",
    "from sklearn.neighbors import KNeighborsClassifier\n",
    "from sklearn import metrics"
   ]
  },
  {
   "cell_type": "code",
   "execution_count": 2,
   "metadata": {},
   "outputs": [],
   "source": [
    "iris = load_iris()\n",
    "# create X (features) and y (response)\n",
    "X = iris.data\n",
    "y = iris.target"
   ]
  },
  {
   "cell_type": "code",
   "execution_count": 3,
   "metadata": {},
   "outputs": [
    {
     "name": "stdout",
     "output_type": "stream",
     "text": [
      "0.9736842105263158\n"
     ]
    }
   ],
   "source": [
    "# use train/test split with different random_state values\n",
    "X_train, X_test, y_train, y_test = train_test_split(X, y, random_state=4)\n",
    "\n",
    "# check classification accuracy of KNN with K=5\n",
    "knn = KNeighborsClassifier(n_neighbors=5)\n",
    "knn.fit(X_train, y_train)\n",
    "y_pred = knn.predict(X_test)\n",
    "print(metrics.accuracy_score(y_test, y_pred))"
   ]
  },
  {
   "cell_type": "markdown",
   "metadata": {},
   "source": [
    "\n",
    "\n",
    "Question: What if we created a bunch of train/test splits, calculated the testing accuracy for each, and averaged the results together?\n",
    "\n",
    "Answer: That's the essense of cross-validation!\n",
    "\n",
    "\n",
    "Steps for K-fold cross-validation\n",
    "\n",
    "    Split the dataset into K equal partitions (or \"folds\").\n",
    "    Use fold 1 as the testing set and the union of the other folds as the training set.\n",
    "    Calculate testing accuracy.\n",
    "    Repeat steps 2 and 3 K times, using a different fold as the testing set each time.\n",
    "    Use the average testing accuracy as the estimate of out-of-sample accuracy.\n",
    "\n",
    "in leyman terms, we are selecting a number (K), and we are dividing the datset in to K chunks.\n",
    "and in a lopp K time, we are training our model K-1 times and testing the score using the 1 chunk we left in K-1.\n",
    "\n",
    "after the loop gets ended we are summing the K scores and diving it by K.\n",
    "and thus getting the average score\n"
   ]
  },
  {
   "cell_type": "code",
   "execution_count": 4,
   "metadata": {},
   "outputs": [
    {
     "name": "stdout",
     "output_type": "stream",
     "text": [
      "Iteration \t Training set observations \t Testing set observations\n",
      "    1     \t \t [2 3 4 5 6 7 8 9] \t \t  [0 1]   \n",
      "    2     \t \t [0 1 4 5 6 7 8 9] \t \t  [2 3]   \n",
      "    3     \t \t [0 1 2 3 6 7 8 9] \t \t  [4 5]   \n",
      "    4     \t \t [0 1 2 3 4 5 8 9] \t \t  [6 7]   \n",
      "    5     \t \t [0 1 2 3 4 5 6 7] \t \t  [8 9]   \n"
     ]
    }
   ],
   "source": [
    "from sklearn.model_selection import KFold\n",
    "kf = KFold(n_splits=5, shuffle=False).split(range(10))\n",
    "\n",
    "# print the contents of each training and testing set\n",
    "print('{} {:^1} {}'.format('Iteration','\\t Training set observations',     '\\t Testing set observations'))\n",
    "for iteration, data in enumerate(kf, start=1):\n",
    "    print('{:^9} \\t \\t {} \\t \\t{:^10}'.format(iteration, data[0], str(data[1])))"
   ]
  },
  {
   "cell_type": "markdown",
   "metadata": {},
   "source": [
    "\n",
    "Comparing cross-validation to train/test split\n",
    "\n",
    "Advantages of cross-validation:\n",
    "\n",
    "    More accurate estimate of out-of-sample accuracy\n",
    "    More \"efficient\" use of data (every observation is used for both training and testing)\n",
    "\n",
    "Advantages of train/test split:\n",
    "\n",
    "    Runs K times faster than K-fold cross-validation\n",
    "    Simpler to examine the detailed results of the testing process\n",
    "\n",
    "For classification problems, stratified sampling is recommended for creating the folds\n",
    "\n",
    "    Each response class should be represented with equal proportions in each of the K folds\n",
    "    scikit-learn's cross_val_score function does this by default\n",
    "\n"
   ]
  },
  {
   "cell_type": "code",
   "execution_count": 5,
   "metadata": {},
   "outputs": [
    {
     "name": "stdout",
     "output_type": "stream",
     "text": [
      "[1.         0.93333333 1.         1.         0.86666667 0.93333333\n",
      " 0.93333333 1.         1.         1.        ]\n",
      "--------------------\n",
      "0.9666666666666668\n"
     ]
    }
   ],
   "source": [
    "from sklearn.model_selection import cross_val_score\n",
    "knn = KNeighborsClassifier(n_neighbors=5)\n",
    "scores = cross_val_score(knn, X, y, cv=10, scoring='accuracy')\n",
    "print(scores)\n",
    "print('-'*20)\n",
    "print(scores.mean())"
   ]
  },
  {
   "cell_type": "code",
   "execution_count": 8,
   "metadata": {},
   "outputs": [
    {
     "name": "stdout",
     "output_type": "stream",
     "text": [
      "[0.96, 0.9533333333333334, 0.9666666666666666, 0.9666666666666666, 0.9666666666666668, 0.9666666666666668, 0.9666666666666668, 0.9666666666666668, 0.9733333333333334, 0.9666666666666668, 0.9666666666666668, 0.9733333333333334, 0.9800000000000001, 0.9733333333333334, 0.9733333333333334, 0.9733333333333334, 0.9733333333333334, 0.9800000000000001, 0.9733333333333334, 0.9800000000000001, 0.9666666666666666, 0.9666666666666666, 0.9733333333333334, 0.96, 0.9666666666666666, 0.96, 0.9666666666666666, 0.9533333333333334, 0.9533333333333334, 0.9533333333333334]\n"
     ]
    }
   ],
   "source": [
    "# search for an optimal value of K for KNN\n",
    "k_range = list(range(1, 31))\n",
    "k_scores = []\n",
    "for k in k_range:\n",
    "    knn = KNeighborsClassifier(n_neighbors=k)\n",
    "    scores = cross_val_score(knn, X, y, cv=10, scoring='accuracy')\n",
    "    k_scores.append(scores.mean())\n",
    "print(k_scores)"
   ]
  },
  {
   "cell_type": "code",
   "execution_count": 11,
   "metadata": {},
   "outputs": [
    {
     "data": {
      "text/plain": [
       "Text(0, 0.5, 'Accuracy')"
      ]
     },
     "execution_count": 11,
     "metadata": {},
     "output_type": "execute_result"
    },
    {
     "data": {
      "image/png": "[encoded data removed]",
      "text/plain": [
       "<Figure size 432x288 with 1 Axes>"
      ]
     },
     "metadata": {
      "needs_background": "light"
     },
     "output_type": "display_data"
    }
   ],
   "source": [
    "import matplotlib.pyplot as plt\n",
    "plt.plot(k_scores)\n",
    "plt.xlabel('Kscores')\n",
    "plt.ylabel('Accuracy')"
   ]
  },
  {
   "cell_type": "markdown",
   "metadata": {},
   "source": [
    "Improvements to cross-validation\n",
    "\n",
    "Repeated cross-validation\n",
    "\n",
    "    Repeat cross-validation multiple times (with different random splits of the data) and average the results\n",
    "    More reliable estimate of out-of-sample performance by reducing the variance associated with a single trial of cross-validation\n",
    "\n",
    "Creating a hold-out set\n",
    "\n",
    "    \"Hold out\" a portion of the data before beginning the model building process\n",
    "    Locate the best model using cross-validation on the remaining data, and test it using the hold-out set\n",
    "    More reliable estimate of out-of-sample performance since hold-out set is truly out-of-sample\n",
    "\n",
    "Feature engineering and selection within cross-validation iterations\n",
    "\n",
    "    Normally, feature engineering and selection occurs before cross-validation\n",
    "    Instead, perform all feature engineering and selection within each cross-validation iteration\n",
    "    More reliable estimate of out-of-sample performance since it better mimics the application of the model to out-of-sample data\n",
    "\n"
   ]
  },
  {
   "cell_type": "code",
   "execution_count": null,
   "metadata": {},
   "outputs": [],
   "source": []
  }
 ],
 "metadata": {
  "kernelspec": {
   "display_name": "Python 3",
   "language": "python",
   "name": "python3"
  },
  "language_info": {
   "codemirror_mode": {
    "name": "ipython",
    "version": 3
   },
   "file_extension": ".py",
   "mimetype": "text/x-python",
   "name": "python",
   "nbconvert_exporter": "python",
   "pygments_lexer": "ipython3",
   "version": "3.7.3"
  }
 },
 "nbformat": 4,
 "nbformat_minor": 4
}
