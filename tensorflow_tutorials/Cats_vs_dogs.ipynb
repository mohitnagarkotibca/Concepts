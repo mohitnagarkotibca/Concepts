{
 "cells": [
  {
   "cell_type": "code",
   "execution_count": 1,
   "id": "assured-venice",
   "metadata": {},
   "outputs": [],
   "source": [
    "import numpy as np\n",
    "import tensorflow as tf\n",
    "from tensorflow import keras\n",
    "from tensorflow.keras import Sequential\n",
    "from tensorflow.keras.layers import Activation, Dense,Flatten, BatchNormalization,Conv2D, MaxPool2D\n",
    "from tensorflow.keras.optimizers import Adam"
   ]
  },
  {
   "cell_type": "code",
   "execution_count": 2,
   "id": "beginning-retention",
   "metadata": {},
   "outputs": [],
   "source": [
    "from tensorflow.keras.preprocessing.image import ImageDataGenerator\n",
    "from sklearn.metrics import confusion_matrix\n",
    "import itertools\n",
    "import os\n",
    "import shutil\n",
    "import random\n",
    "import glob\n",
    "import matplotlib.pyplot as plt\n",
    "import warnings\n",
    "warnings.simplefilter(action='ignore',category=FutureWarning)\n",
    "\n",
    "%matplotlib inline"
   ]
  },
  {
   "cell_type": "code",
   "execution_count": 3,
   "id": "relative-queens",
   "metadata": {},
   "outputs": [
    {
     "data": {
      "text/plain": [
       "'C:\\\\Users\\\\hp\\\\Desktop\\\\Concepts\\\\tensorflow_tutorials'"
      ]
     },
     "execution_count": 3,
     "metadata": {},
     "output_type": "execute_result"
    }
   ],
   "source": [
    "os.getcwd()"
   ]
  },
  {
   "cell_type": "code",
   "execution_count": 4,
   "id": "handmade-religion",
   "metadata": {},
   "outputs": [],
   "source": [
    "#changing directory\n",
    "# os.chdir('..')\n",
    "os.chdir('data/')"
   ]
  },
  {
   "cell_type": "code",
   "execution_count": 5,
   "id": "super-twenty",
   "metadata": {},
   "outputs": [
    {
     "data": {
      "text/plain": [
       "['cat.10.jpg',\n",
       " 'cat.102.jpg',\n",
       " 'cat.1025.jpg',\n",
       " 'cat.1026.jpg',\n",
       " 'cat.1036.jpg',\n",
       " 'cat.1043.jpg',\n",
       " 'cat.105.jpg',\n",
       " 'cat.1054.jpg',\n",
       " 'cat.1075.jpg',\n",
       " 'cat.1080.jpg',\n",
       " 'cat.1092.jpg',\n",
       " 'cat.1104.jpg',\n",
       " 'cat.1105.jpg',\n",
       " 'cat.1108.jpg',\n",
       " 'cat.1121.jpg',\n",
       " 'cat.1123.jpg',\n",
       " 'cat.1125.jpg',\n",
       " 'cat.1126.jpg',\n",
       " 'cat.1131.jpg',\n",
       " 'cat.1137.jpg',\n",
       " 'cat.1156.jpg',\n",
       " 'cat.1163.jpg',\n",
       " 'cat.1179.jpg',\n",
       " 'cat.1207.jpg',\n",
       " 'cat.1208.jpg',\n",
       " 'cat.1210.jpg',\n",
       " 'cat.1214.jpg',\n",
       " 'cat.1218.jpg',\n",
       " 'cat.1220.jpg',\n",
       " 'cat.1228.jpg',\n",
       " 'cat.1242.jpg',\n",
       " 'cat.1245.jpg',\n",
       " 'cat.1252.jpg',\n",
       " 'cat.1254.jpg',\n",
       " 'cat.1263.jpg',\n",
       " 'cat.1268.jpg',\n",
       " 'cat.1276.jpg',\n",
       " 'cat.1283.jpg',\n",
       " 'cat.1286.jpg',\n",
       " 'cat.1297.jpg',\n",
       " 'cat.1308.jpg',\n",
       " 'cat.1316.jpg',\n",
       " 'cat.1320.jpg',\n",
       " 'cat.1331.jpg',\n",
       " 'cat.1337.jpg',\n",
       " 'cat.1341.jpg',\n",
       " 'cat.1354.jpg',\n",
       " 'cat.1358.jpg',\n",
       " 'cat.1363.jpg',\n",
       " 'cat.1364.jpg',\n",
       " 'cat.1367.jpg',\n",
       " 'cat.138.jpg',\n",
       " 'cat.140.jpg',\n",
       " 'cat.1400.jpg',\n",
       " 'cat.1404.jpg',\n",
       " 'cat.1419.jpg',\n",
       " 'cat.1429.jpg',\n",
       " 'cat.1441.jpg',\n",
       " 'cat.1444.jpg',\n",
       " 'cat.1445.jpg',\n",
       " 'cat.1467.jpg',\n",
       " 'cat.1487.jpg',\n",
       " 'cat.1491.jpg',\n",
       " 'cat.1498.jpg',\n",
       " 'cat.1506.jpg',\n",
       " 'cat.1508.jpg',\n",
       " 'cat.1514.jpg',\n",
       " 'cat.1516.jpg',\n",
       " 'cat.1527.jpg',\n",
       " 'cat.1543.jpg',\n",
       " 'cat.1548.jpg',\n",
       " 'cat.155.jpg',\n",
       " 'cat.156.jpg',\n",
       " 'cat.1567.jpg',\n",
       " 'cat.1571.jpg',\n",
       " 'cat.1572.jpg',\n",
       " 'cat.1574.jpg',\n",
       " 'cat.1583.jpg',\n",
       " 'cat.1587.jpg',\n",
       " 'cat.1590.jpg',\n",
       " 'cat.1597.jpg',\n",
       " 'cat.1607.jpg',\n",
       " 'cat.1609.jpg',\n",
       " 'cat.1625.jpg',\n",
       " 'cat.163.jpg',\n",
       " 'cat.1647.jpg',\n",
       " 'cat.1650.jpg',\n",
       " 'cat.1655.jpg',\n",
       " 'cat.1656.jpg',\n",
       " 'cat.1658.jpg',\n",
       " 'cat.1666.jpg',\n",
       " 'cat.1670.jpg',\n",
       " 'cat.1671.jpg',\n",
       " 'cat.1673.jpg',\n",
       " 'cat.1679.jpg',\n",
       " 'cat.1688.jpg',\n",
       " 'cat.169.jpg',\n",
       " 'cat.1698.jpg',\n",
       " 'cat.1704.jpg',\n",
       " 'cat.1709.jpg',\n",
       " 'cat.1714.jpg',\n",
       " 'cat.1723.jpg',\n",
       " 'cat.1725.jpg',\n",
       " 'cat.1731.jpg',\n",
       " 'cat.1768.jpg',\n",
       " 'cat.1771.jpg',\n",
       " 'cat.1783.jpg',\n",
       " 'cat.180.jpg',\n",
       " 'cat.1812.jpg',\n",
       " 'cat.1815.jpg',\n",
       " 'cat.1817.jpg',\n",
       " 'cat.1818.jpg',\n",
       " 'cat.1848.jpg',\n",
       " 'cat.186.jpg',\n",
       " 'cat.1864.jpg',\n",
       " 'cat.1874.jpg',\n",
       " 'cat.1875.jpg',\n",
       " 'cat.1878.jpg',\n",
       " 'cat.189.jpg',\n",
       " 'cat.1894.jpg',\n",
       " 'cat.1895.jpg',\n",
       " 'cat.191.jpg',\n",
       " 'cat.1912.jpg',\n",
       " 'cat.1932.jpg',\n",
       " 'cat.1939.jpg',\n",
       " 'cat.1940.jpg',\n",
       " 'cat.1957.jpg',\n",
       " 'cat.1959.jpg',\n",
       " 'cat.1961.jpg',\n",
       " 'cat.1964.jpg',\n",
       " 'cat.1975.jpg',\n",
       " 'cat.198.jpg',\n",
       " 'cat.2007.jpg',\n",
       " 'cat.201.jpg',\n",
       " 'cat.2010.jpg',\n",
       " 'cat.2015.jpg',\n",
       " 'cat.2019.jpg',\n",
       " 'cat.2030.jpg',\n",
       " 'cat.2032.jpg',\n",
       " 'cat.2037.jpg',\n",
       " 'cat.2040.jpg',\n",
       " 'cat.2046.jpg',\n",
       " 'cat.205.jpg',\n",
       " 'cat.2051.jpg',\n",
       " 'cat.2053.jpg',\n",
       " 'cat.2058.jpg',\n",
       " 'cat.2077.jpg',\n",
       " 'cat.2081.jpg',\n",
       " 'cat.2085.jpg',\n",
       " 'cat.2100.jpg',\n",
       " 'cat.2102.jpg',\n",
       " 'cat.211.jpg',\n",
       " 'cat.2145.jpg',\n",
       " 'cat.2154.jpg',\n",
       " 'cat.2156.jpg',\n",
       " 'cat.216.jpg',\n",
       " 'cat.217.jpg',\n",
       " 'cat.2178.jpg',\n",
       " 'cat.2181.jpg',\n",
       " 'cat.2188.jpg',\n",
       " 'cat.2202.jpg',\n",
       " 'cat.2204.jpg',\n",
       " 'cat.2206.jpg',\n",
       " 'cat.2212.jpg',\n",
       " 'cat.2232.jpg',\n",
       " 'cat.2234.jpg',\n",
       " 'cat.2268.jpg',\n",
       " 'cat.2283.jpg',\n",
       " 'cat.2291.jpg',\n",
       " 'cat.2292.jpg',\n",
       " 'cat.2294.jpg',\n",
       " 'cat.2297.jpg',\n",
       " 'cat.2307.jpg',\n",
       " 'cat.2317.jpg',\n",
       " 'cat.2319.jpg',\n",
       " 'cat.2322.jpg',\n",
       " 'cat.2327.jpg',\n",
       " 'cat.2337.jpg',\n",
       " 'cat.2347.jpg',\n",
       " 'cat.2363.jpg',\n",
       " 'cat.2371.jpg',\n",
       " 'cat.2394.jpg',\n",
       " 'cat.2397.jpg',\n",
       " 'cat.2398.jpg',\n",
       " 'cat.2412.jpg',\n",
       " 'cat.2416.jpg',\n",
       " 'cat.2429.jpg',\n",
       " 'cat.2433.jpg',\n",
       " 'cat.2436.jpg',\n",
       " 'cat.2440.jpg',\n",
       " 'cat.2449.jpg',\n",
       " 'cat.2466.jpg',\n",
       " 'cat.2471.jpg',\n",
       " 'cat.2473.jpg',\n",
       " 'cat.2482.jpg',\n",
       " 'cat.2498.jpg',\n",
       " 'cat.25.jpg',\n",
       " 'cat.2500.jpg',\n",
       " 'cat.2504.jpg',\n",
       " 'cat.2506.jpg',\n",
       " 'cat.2508.jpg',\n",
       " 'cat.251.jpg',\n",
       " 'cat.2513.jpg',\n",
       " 'cat.2515.jpg',\n",
       " 'cat.2516.jpg',\n",
       " 'cat.2517.jpg',\n",
       " 'cat.2527.jpg',\n",
       " 'cat.2529.jpg',\n",
       " 'cat.2538.jpg',\n",
       " 'cat.2542.jpg',\n",
       " 'cat.255.jpg',\n",
       " 'cat.2559.jpg',\n",
       " 'cat.2569.jpg',\n",
       " 'cat.2571.jpg',\n",
       " 'cat.2580.jpg',\n",
       " 'cat.2584.jpg',\n",
       " 'cat.2609.jpg',\n",
       " 'cat.2611.jpg',\n",
       " 'cat.2615.jpg',\n",
       " 'cat.2650.jpg',\n",
       " 'cat.2657.jpg',\n",
       " 'cat.2660.jpg',\n",
       " 'cat.2665.jpg',\n",
       " 'cat.2667.jpg',\n",
       " 'cat.267.jpg',\n",
       " 'cat.2674.jpg',\n",
       " 'cat.2676.jpg',\n",
       " 'cat.2693.jpg',\n",
       " 'cat.2703.jpg',\n",
       " 'cat.2708.jpg',\n",
       " 'cat.2712.jpg',\n",
       " 'cat.2717.jpg',\n",
       " 'cat.2718.jpg',\n",
       " 'cat.273.jpg',\n",
       " 'cat.2733.jpg',\n",
       " 'cat.2737.jpg',\n",
       " 'cat.274.jpg',\n",
       " 'cat.2759.jpg',\n",
       " 'cat.2761.jpg',\n",
       " 'cat.2764.jpg',\n",
       " 'cat.277.jpg',\n",
       " 'cat.2785.jpg',\n",
       " 'cat.2794.jpg',\n",
       " 'cat.28.jpg',\n",
       " 'cat.2805.jpg',\n",
       " 'cat.2810.jpg',\n",
       " 'cat.2812.jpg',\n",
       " 'cat.2827.jpg',\n",
       " 'cat.2830.jpg',\n",
       " 'cat.2840.jpg',\n",
       " 'cat.2844.jpg',\n",
       " 'cat.2856.jpg',\n",
       " 'cat.2863.jpg',\n",
       " 'cat.2876.jpg',\n",
       " 'cat.2888.jpg',\n",
       " 'cat.2902.jpg',\n",
       " 'cat.293.jpg',\n",
       " 'cat.2934.jpg',\n",
       " 'cat.2939.jpg',\n",
       " 'cat.2957.jpg',\n",
       " 'cat.2965.jpg',\n",
       " 'cat.2978.jpg',\n",
       " 'cat.2993.jpg',\n",
       " 'cat.30.jpg',\n",
       " 'cat.3000.jpg',\n",
       " 'cat.3015.jpg',\n",
       " 'cat.3023.jpg',\n",
       " 'cat.3025.jpg',\n",
       " 'cat.3032.jpg',\n",
       " 'cat.3035.jpg',\n",
       " 'cat.306.jpg',\n",
       " 'cat.3069.jpg',\n",
       " 'cat.308.jpg',\n",
       " 'cat.3080.jpg',\n",
       " 'cat.3094.jpg',\n",
       " 'cat.3098.jpg',\n",
       " 'cat.310.jpg',\n",
       " 'cat.3106.jpg',\n",
       " 'cat.3109.jpg',\n",
       " 'cat.3122.jpg',\n",
       " 'cat.3130.jpg',\n",
       " 'cat.3132.jpg',\n",
       " 'cat.3137.jpg',\n",
       " 'cat.3153.jpg',\n",
       " 'cat.3158.jpg',\n",
       " 'cat.316.jpg',\n",
       " 'cat.3166.jpg',\n",
       " 'cat.3190.jpg',\n",
       " 'cat.3192.jpg',\n",
       " 'cat.3198.jpg',\n",
       " 'cat.3199.jpg',\n",
       " 'cat.3215.jpg',\n",
       " 'cat.3228.jpg',\n",
       " 'cat.3231.jpg',\n",
       " 'cat.3240.jpg',\n",
       " 'cat.325.jpg',\n",
       " 'cat.3251.jpg',\n",
       " 'cat.3252.jpg',\n",
       " 'cat.3267.jpg',\n",
       " 'cat.3270.jpg',\n",
       " 'cat.3273.jpg',\n",
       " 'cat.3275.jpg',\n",
       " 'cat.3279.jpg',\n",
       " 'cat.3292.jpg',\n",
       " 'cat.3293.jpg',\n",
       " 'cat.3304.jpg',\n",
       " 'cat.3306.jpg',\n",
       " 'cat.3308.jpg',\n",
       " 'cat.3310.jpg',\n",
       " 'cat.332.jpg',\n",
       " 'cat.3327.jpg',\n",
       " 'cat.3328.jpg',\n",
       " 'cat.3333.jpg',\n",
       " 'cat.3337.jpg',\n",
       " 'cat.3339.jpg',\n",
       " 'cat.3346.jpg',\n",
       " 'cat.3369.jpg',\n",
       " 'cat.3375.jpg',\n",
       " 'cat.3377.jpg',\n",
       " 'cat.338.jpg',\n",
       " 'cat.3391.jpg',\n",
       " 'cat.3398.jpg',\n",
       " 'cat.34.jpg',\n",
       " 'cat.340.jpg',\n",
       " 'cat.3400.jpg',\n",
       " 'cat.342.jpg',\n",
       " 'cat.3440.jpg',\n",
       " 'cat.3447.jpg',\n",
       " 'cat.3448.jpg',\n",
       " 'cat.345.jpg',\n",
       " 'cat.3451.jpg',\n",
       " 'cat.3453.jpg',\n",
       " 'cat.3454.jpg',\n",
       " 'cat.3455.jpg',\n",
       " 'cat.3456.jpg',\n",
       " 'cat.346.jpg',\n",
       " 'cat.3474.jpg',\n",
       " 'cat.3503.jpg',\n",
       " 'cat.3510.jpg',\n",
       " 'cat.3518.jpg',\n",
       " 'cat.3532.jpg',\n",
       " 'cat.3536.jpg',\n",
       " 'cat.3543.jpg',\n",
       " 'cat.3546.jpg',\n",
       " 'cat.3551.jpg',\n",
       " 'cat.3553.jpg',\n",
       " 'cat.3555.jpg',\n",
       " 'cat.3560.jpg',\n",
       " 'cat.3564.jpg',\n",
       " 'cat.3571.jpg',\n",
       " 'cat.3576.jpg',\n",
       " 'cat.3578.jpg',\n",
       " 'cat.3580.jpg',\n",
       " 'cat.3583.jpg',\n",
       " 'cat.3585.jpg',\n",
       " 'cat.3588.jpg',\n",
       " 'cat.359.jpg',\n",
       " 'cat.3596.jpg',\n",
       " 'cat.3601.jpg',\n",
       " 'cat.3611.jpg',\n",
       " 'cat.3622.jpg',\n",
       " 'cat.3626.jpg',\n",
       " 'cat.363.jpg',\n",
       " 'cat.3634.jpg',\n",
       " 'cat.3637.jpg',\n",
       " 'cat.3651.jpg',\n",
       " 'cat.3657.jpg',\n",
       " 'cat.3658.jpg',\n",
       " 'cat.3675.jpg',\n",
       " 'cat.3681.jpg',\n",
       " 'cat.3684.jpg',\n",
       " 'cat.3686.jpg',\n",
       " 'cat.3694.jpg',\n",
       " 'cat.3696.jpg',\n",
       " 'cat.37.jpg',\n",
       " 'cat.3701.jpg',\n",
       " 'cat.3704.jpg',\n",
       " 'cat.3709.jpg',\n",
       " 'cat.3716.jpg',\n",
       " 'cat.3719.jpg',\n",
       " 'cat.3720.jpg',\n",
       " 'cat.3724.jpg',\n",
       " 'cat.3738.jpg',\n",
       " 'cat.3739.jpg',\n",
       " 'cat.374.jpg',\n",
       " 'cat.3742.jpg',\n",
       " 'cat.3749.jpg',\n",
       " 'cat.3754.jpg',\n",
       " 'cat.3759.jpg',\n",
       " 'cat.3766.jpg',\n",
       " 'cat.3776.jpg',\n",
       " 'cat.3785.jpg',\n",
       " 'cat.3795.jpg',\n",
       " 'cat.3796.jpg',\n",
       " 'cat.380.jpg',\n",
       " 'cat.3829.jpg',\n",
       " 'cat.3833.jpg',\n",
       " 'cat.3837.jpg',\n",
       " 'cat.3849.jpg',\n",
       " 'cat.3858.jpg',\n",
       " 'cat.3869.jpg',\n",
       " 'cat.3873.jpg',\n",
       " 'cat.3875.jpg',\n",
       " 'cat.3890.jpg',\n",
       " 'cat.3892.jpg',\n",
       " 'cat.3894.jpg',\n",
       " 'cat.3897.jpg',\n",
       " 'cat.3898.jpg',\n",
       " 'cat.3904.jpg',\n",
       " 'cat.391.jpg',\n",
       " 'cat.3912.jpg',\n",
       " 'cat.3916.jpg',\n",
       " 'cat.3924.jpg',\n",
       " 'cat.393.jpg',\n",
       " 'cat.3969.jpg',\n",
       " 'cat.3970.jpg',\n",
       " 'cat.3971.jpg',\n",
       " 'cat.3975.jpg',\n",
       " 'cat.3993.jpg',\n",
       " 'cat.404.jpg',\n",
       " 'cat.410.jpg',\n",
       " 'cat.42.jpg',\n",
       " 'cat.427.jpg',\n",
       " 'cat.435.jpg',\n",
       " 'cat.437.jpg',\n",
       " 'cat.45.jpg',\n",
       " 'cat.463.jpg',\n",
       " 'cat.475.jpg',\n",
       " 'cat.486.jpg',\n",
       " 'cat.496.jpg',\n",
       " 'cat.50.jpg',\n",
       " 'cat.505.jpg',\n",
       " 'cat.507.jpg',\n",
       " 'cat.509.jpg',\n",
       " 'cat.514.jpg',\n",
       " 'cat.516.jpg',\n",
       " 'cat.525.jpg',\n",
       " 'cat.542.jpg',\n",
       " 'cat.546.jpg',\n",
       " 'cat.548.jpg',\n",
       " 'cat.553.jpg',\n",
       " 'cat.577.jpg',\n",
       " 'cat.585.jpg',\n",
       " 'cat.605.jpg',\n",
       " 'cat.627.jpg',\n",
       " 'cat.629.jpg',\n",
       " 'cat.646.jpg',\n",
       " 'cat.647.jpg',\n",
       " 'cat.65.jpg',\n",
       " 'cat.651.jpg',\n",
       " 'cat.659.jpg',\n",
       " 'cat.668.jpg',\n",
       " 'cat.671.jpg',\n",
       " 'cat.679.jpg',\n",
       " 'cat.682.jpg',\n",
       " 'cat.685.jpg',\n",
       " 'cat.697.jpg',\n",
       " 'cat.700.jpg',\n",
       " 'cat.703.jpg',\n",
       " 'cat.707.jpg',\n",
       " 'cat.711.jpg',\n",
       " 'cat.719.jpg',\n",
       " 'cat.72.jpg',\n",
       " 'cat.729.jpg',\n",
       " 'cat.739.jpg',\n",
       " 'cat.762.jpg',\n",
       " 'cat.768.jpg',\n",
       " 'cat.77.jpg',\n",
       " 'cat.770.jpg',\n",
       " 'cat.772.jpg',\n",
       " 'cat.776.jpg',\n",
       " 'cat.804.jpg',\n",
       " 'cat.805.jpg',\n",
       " 'cat.809.jpg',\n",
       " 'cat.812.jpg',\n",
       " 'cat.817.jpg',\n",
       " 'cat.846.jpg',\n",
       " 'cat.854.jpg',\n",
       " 'cat.856.jpg',\n",
       " 'cat.859.jpg',\n",
       " 'cat.863.jpg',\n",
       " 'cat.869.jpg',\n",
       " 'cat.871.jpg',\n",
       " 'cat.882.jpg',\n",
       " 'cat.886.jpg',\n",
       " 'cat.889.jpg',\n",
       " 'cat.920.jpg',\n",
       " 'cat.929.jpg',\n",
       " 'cat.940.jpg',\n",
       " 'cat.943.jpg',\n",
       " 'cat.949.jpg',\n",
       " 'cat.957.jpg',\n",
       " 'cat.963.jpg',\n",
       " 'cat.966.jpg',\n",
       " 'cat.968.jpg',\n",
       " 'cat.97.jpg',\n",
       " 'cat.972.jpg',\n",
       " 'cat.977.jpg',\n",
       " 'cat.978.jpg',\n",
       " 'cat.992.jpg']"
      ]
     },
     "execution_count": 5,
     "metadata": {},
     "output_type": "execute_result"
    }
   ],
   "source": [
    "os.listdir('train/cat')"
   ]
  },
  {
   "cell_type": "code",
   "execution_count": 5,
   "id": "excellent-insight",
   "metadata": {},
   "outputs": [
    {
     "name": "stdout",
     "output_type": "stream",
     "text": [
      "Working fine\n"
     ]
    }
   ],
   "source": [
    "if os.path.isdir('train/cat')== False:\n",
    "    os.makedirs('train/dog')\n",
    "    os.makedirs('train/cat')\n",
    "    os.makedirs('valid/dog')\n",
    "    os.makedirs('valid/cat')\n",
    "    os.makedirs('test/dog')\n",
    "    os.makedirs('test/cat')\n",
    "else:\n",
    "    print('Working fine')\n",
    "    "
   ]
  },
  {
   "cell_type": "code",
   "execution_count": 8,
   "id": "tracked-diana",
   "metadata": {},
   "outputs": [
    {
     "data": {
      "text/plain": [
       "['.gitignore',\n",
       " '.ipynb_checkpoints',\n",
       " '0_basic.ipynb',\n",
       " '0_basic.py',\n",
       " '1_basics.ipynb',\n",
       " '1_deep-neural-networks.ipynb',\n",
       " '2_stochastic-gradient-descent.ipynb',\n",
       " 'Cats_vs_dogs.ipynb',\n",
       " 'data',\n",
       " 'mnist_data_neural_network.ipynb',\n",
       " 'Untitled.ipynb']"
      ]
     },
     "execution_count": 8,
     "metadata": {},
     "output_type": "execute_result"
    }
   ],
   "source": [
    "os.listdir()"
   ]
  },
  {
   "cell_type": "code",
   "execution_count": 6,
   "id": "blessed-gregory",
   "metadata": {},
   "outputs": [
    {
     "data": {
      "text/plain": [
       "['cats\\\\cat.1.jpg',\n",
       " 'cats\\\\cat.100.jpg',\n",
       " 'cats\\\\cat.1000.jpg',\n",
       " 'cats\\\\cat.1002.jpg']"
      ]
     },
     "execution_count": 6,
     "metadata": {},
     "output_type": "execute_result"
    }
   ],
   "source": [
    "glob.glob('cats/cat*')[:4]"
   ]
  },
  {
   "cell_type": "markdown",
   "id": "accomplished-quest",
   "metadata": {},
   "source": [
    "## Creating Training dataset"
   ]
  },
  {
   "cell_type": "code",
   "execution_count": 61,
   "id": "prospective-salon",
   "metadata": {},
   "outputs": [
    {
     "name": "stdout",
     "output_type": "stream",
     "text": [
      "500\n"
     ]
    }
   ],
   "source": [
    "for c in random.sample(glob.glob('cats/cat*'),500):\n",
    "    shutil.move(c,'train/cat/')\n",
    "print(len(os.listdir('train/cat')))"
   ]
  },
  {
   "cell_type": "code",
   "execution_count": 76,
   "id": "cross-gather",
   "metadata": {},
   "outputs": [
    {
     "name": "stdout",
     "output_type": "stream",
     "text": [
      "Before Moving :  0 images.\n",
      "after Moving :  500 images.\n"
     ]
    }
   ],
   "source": [
    "print('Before Moving : ',len(os.listdir('train/dog')),'images.')\n",
    "for d in random.sample(glob.glob('dogs/dog*'),500):\n",
    "    shutil.move(d,'train/dog')\n",
    "print('after Moving : ',len(os.listdir('train/dog')),'images.')"
   ]
  },
  {
   "cell_type": "markdown",
   "id": "crucial-valve",
   "metadata": {},
   "source": [
    "## Creating Valid Dataset"
   ]
  },
  {
   "cell_type": "code",
   "execution_count": 77,
   "id": "worldwide-thumb",
   "metadata": {},
   "outputs": [
    {
     "name": "stdout",
     "output_type": "stream",
     "text": [
      "before Moving :  0 images.\n",
      "after Moving :  100 images.\n"
     ]
    }
   ],
   "source": [
    "print('before Moving : ',len(os.listdir('valid/cat')),'images.')\n",
    "for c in random.sample(glob.glob('cats/cat*'),100):\n",
    "    shutil.move(c,'valid/cat/')\n",
    "print('after Moving : ',len(os.listdir('valid/cat')),'images.')"
   ]
  },
  {
   "cell_type": "code",
   "execution_count": 83,
   "id": "korean-evidence",
   "metadata": {},
   "outputs": [
    {
     "name": "stdout",
     "output_type": "stream",
     "text": [
      "before Moving :  0 images.\n",
      "after Moving :  100 images.\n"
     ]
    }
   ],
   "source": [
    "print('before Moving : ',len(os.listdir('valid/dog/')),'images.')\n",
    "for c in random.sample(glob.glob('dogs/dog*'),100):\n",
    "    shutil.move(c,'valid/dog/')\n",
    "print('after Moving : ',len(os.listdir('valid/dog/')),'images.')"
   ]
  },
  {
   "cell_type": "markdown",
   "id": "relevant-belly",
   "metadata": {},
   "source": [
    "## Creating Test Dataset"
   ]
  },
  {
   "cell_type": "code",
   "execution_count": 84,
   "id": "average-effort",
   "metadata": {},
   "outputs": [
    {
     "name": "stdout",
     "output_type": "stream",
     "text": [
      "before Moving :  0 images.\n",
      "after Moving :  100 images.\n"
     ]
    }
   ],
   "source": [
    "print('before Moving : ',len(os.listdir('test/cat')),'images.')\n",
    "for c in random.sample(glob.glob('cats/cat*'),100):\n",
    "    shutil.move(c,'test/cat/')\n",
    "print('after Moving : ',len(os.listdir('test/cat')),'images.')"
   ]
  },
  {
   "cell_type": "code",
   "execution_count": 86,
   "id": "integral-postage",
   "metadata": {},
   "outputs": [
    {
     "name": "stdout",
     "output_type": "stream",
     "text": [
      "before Moving :  0 images.\n",
      "after Moving :  100 images.\n"
     ]
    }
   ],
   "source": [
    "print('before Moving : ',len(os.listdir('test/dog')),'images.')\n",
    "for c in random.sample(glob.glob('cats/cat*'),100):\n",
    "    shutil.move(c,'test/dog/')\n",
    "print('after Moving : ',len(os.listdir('test/dog')),'images.')"
   ]
  },
  {
   "cell_type": "code",
   "execution_count": 7,
   "id": "disabled-vintage",
   "metadata": {},
   "outputs": [],
   "source": [
    "train_path= 'train/'\n",
    "valid_path= 'valid/'\n",
    "test_path = 'test/'"
   ]
  },
  {
   "cell_type": "code",
   "execution_count": 8,
   "id": "about-lounge",
   "metadata": {},
   "outputs": [
    {
     "name": "stdout",
     "output_type": "stream",
     "text": [
      "Found 1000 images belonging to 2 classes.\n"
     ]
    }
   ],
   "source": [
    "train_batches= ImageDataGenerator(preprocessing_function=tf.keras.applications.vgg16.preprocess_input)\\\n",
    ".flow_from_directory(directory= train_path,target_size=(224,224),classes=['cat','dog'],batch_size=10)"
   ]
  },
  {
   "cell_type": "code",
   "execution_count": 9,
   "id": "yellow-filling",
   "metadata": {},
   "outputs": [
    {
     "name": "stdout",
     "output_type": "stream",
     "text": [
      "Found 200 images belonging to 2 classes.\n"
     ]
    }
   ],
   "source": [
    "valid_batch= ImageDataGenerator(preprocessing_function=tf.keras.applications.vgg16.preprocess_input)\\\n",
    ".flow_from_directory(directory= valid_path,target_size=(224,224),classes=['cat','dog'],batch_size=10)"
   ]
  },
  {
   "cell_type": "code",
   "execution_count": 10,
   "id": "immune-terrace",
   "metadata": {},
   "outputs": [
    {
     "name": "stdout",
     "output_type": "stream",
     "text": [
      "Found 200 images belonging to 2 classes.\n"
     ]
    }
   ],
   "source": [
    "test_batch= ImageDataGenerator(preprocessing_function=tf.keras.applications.vgg16.preprocess_input)\\\n",
    ".flow_from_directory(directory= test_path,target_size=(224,224),classes=['cat','dog'],batch_size=10)"
   ]
  },
  {
   "cell_type": "code",
   "execution_count": 12,
   "id": "unknown-integrity",
   "metadata": {},
   "outputs": [
    {
     "data": {
      "text/plain": [
       "array([0, 0, 0, 0, 0, 0, 0, 0, 0, 0, 0, 0, 0, 0, 0, 0, 0, 0, 0, 0])"
      ]
     },
     "execution_count": 12,
     "metadata": {},
     "output_type": "execute_result"
    }
   ],
   "source": [
    "train_batches.classes[:20]"
   ]
  },
  {
   "cell_type": "code",
   "execution_count": 11,
   "id": "random-alexander",
   "metadata": {},
   "outputs": [
    {
     "name": "stderr",
     "output_type": "stream",
     "text": [
      "Clipping input data to the valid range for imshow with RGB data ([0..1] for floats or [0..255] for integers).\n"
     ]
    },
    {
     "data": {
      "image/png": "[encoded data removed]",
      "text/plain": [
       "<Figure size 432x288 with 1 Axes>"
      ]
     },
     "metadata": {
      "needs_background": "light"
     },
     "output_type": "display_data"
    }
   ],
   "source": [
    "# ImageDataGenerator basically substract the mean of every color i.e RGB from each pixel\n",
    "for img in train_batches:\n",
    "    plt.imshow(img[0][0,:,:,:])\n",
    "    break"
   ]
  },
  {
   "cell_type": "code",
   "execution_count": 12,
   "id": "unnecessary-creek",
   "metadata": {},
   "outputs": [],
   "source": [
    "imgs,labels= next(train_batches)"
   ]
  },
  {
   "cell_type": "code",
   "execution_count": 22,
   "id": "accessory-james",
   "metadata": {},
   "outputs": [],
   "source": [
    "model= Sequential([\n",
    "    Conv2D(filters= 32, kernel_size= (3,3),kernel_regularizer=keras.regularizers.l1(0.001),activation='relu',padding='same',input_shape=(224,224,3)),\n",
    "    MaxPool2D(pool_size=(2,2),strides=2),\n",
    "    Conv2D(filters=64, kernel_size=(3,3), activation='relu',padding='same'),\n",
    "    MaxPool2D(pool_size=(2,2),strides=2),\n",
    "    Flatten(),\n",
    "    Dense(units=2,activation='softmax')\n",
    "])"
   ]
  },
  {
   "cell_type": "code",
   "execution_count": 19,
   "id": "talented-indicator",
   "metadata": {},
   "outputs": [
    {
     "name": "stdout",
     "output_type": "stream",
     "text": [
      "Model: \"sequential_1\"\n",
      "_________________________________________________________________\n",
      "Layer (type)                 Output Shape              Param #   \n",
      "=================================================================\n",
      "conv2d_2 (Conv2D)            (None, 224, 224, 32)      896       \n",
      "_________________________________________________________________\n",
      "max_pooling2d_2 (MaxPooling2 (None, 112, 112, 32)      0         \n",
      "_________________________________________________________________\n",
      "conv2d_3 (Conv2D)            (None, 112, 112, 64)      18496     \n",
      "_________________________________________________________________\n",
      "max_pooling2d_3 (MaxPooling2 (None, 56, 56, 64)        0         \n",
      "_________________________________________________________________\n",
      "flatten_1 (Flatten)          (None, 200704)            0         \n",
      "_________________________________________________________________\n",
      "dense_1 (Dense)              (None, 2)                 401410    \n",
      "=================================================================\n",
      "Total params: 420,802\n",
      "Trainable params: 420,802\n",
      "Non-trainable params: 0\n",
      "_________________________________________________________________\n"
     ]
    }
   ],
   "source": [
    "model.summary()"
   ]
  },
  {
   "cell_type": "code",
   "execution_count": 23,
   "id": "after-lyric",
   "metadata": {},
   "outputs": [],
   "source": [
    "model.compile(\n",
    "    optimizer=Adam(learning_rate=0.001),\n",
    "    loss= 'categorical_crossentropy',\n",
    "    metrics=['accuracy']\n",
    ")"
   ]
  },
  {
   "cell_type": "code",
   "execution_count": 21,
   "id": "guided-while",
   "metadata": {},
   "outputs": [
    {
     "name": "stdout",
     "output_type": "stream",
     "text": [
      "Epoch 1/10\n",
      "100/100 [==============================] - 76s 759ms/step - loss: 39.9113 - accuracy: 0.5330 - val_loss: 0.7429 - val_accuracy: 0.5250\n",
      "Epoch 2/10\n",
      "100/100 [==============================] - 83s 831ms/step - loss: 0.5966 - accuracy: 0.6910 - val_loss: 0.7377 - val_accuracy: 0.6050\n",
      "Epoch 3/10\n",
      "100/100 [==============================] - 73s 734ms/step - loss: 0.4325 - accuracy: 0.8260 - val_loss: 0.7324 - val_accuracy: 0.6650\n",
      "Epoch 4/10\n",
      "100/100 [==============================] - 78s 778ms/step - loss: 0.1756 - accuracy: 0.9520 - val_loss: 0.8345 - val_accuracy: 0.6350\n",
      "Epoch 5/10\n",
      "100/100 [==============================] - 79s 790ms/step - loss: 0.0583 - accuracy: 0.9950 - val_loss: 1.3685 - val_accuracy: 0.5750\n",
      "Epoch 6/10\n",
      "100/100 [==============================] - 89s 895ms/step - loss: 0.0284 - accuracy: 0.9980 - val_loss: 1.6024 - val_accuracy: 0.5800\n",
      "Epoch 7/10\n",
      "100/100 [==============================] - 77s 773ms/step - loss: 0.0201 - accuracy: 0.9980 - val_loss: 1.2954 - val_accuracy: 0.6000\n",
      "Epoch 8/10\n",
      "100/100 [==============================] - 78s 782ms/step - loss: 0.0184 - accuracy: 0.9980 - val_loss: 1.2893 - val_accuracy: 0.6250\n",
      "Epoch 9/10\n",
      "100/100 [==============================] - 74s 739ms/step - loss: 0.0096 - accuracy: 1.0000 - val_loss: 1.4972 - val_accuracy: 0.6000\n",
      "Epoch 10/10\n",
      "100/100 [==============================] - 79s 787ms/step - loss: 0.0069 - accuracy: 1.0000 - val_loss: 1.6028 - val_accuracy: 0.6000\n"
     ]
    },
    {
     "data": {
      "text/plain": [
       "<tensorflow.python.keras.callbacks.History at 0x93d82326d0>"
      ]
     },
     "execution_count": 21,
     "metadata": {},
     "output_type": "execute_result"
    }
   ],
   "source": [
    "#l2 regularizer\n",
    "model.fit(\n",
    "    x= train_batches,\n",
    "    validation_data= valid_batch,\n",
    "    epochs=10,\n",
    "    verbose=True\n",
    ")"
   ]
  },
  {
   "cell_type": "code",
   "execution_count": 24,
   "id": "fifteen-nicholas",
   "metadata": {
    "scrolled": false
   },
   "outputs": [
    {
     "name": "stdout",
     "output_type": "stream",
     "text": [
      "Epoch 1/10\n",
      "100/100 [==============================] - 80s 803ms/step - loss: 44.1407 - accuracy: 0.5590 - val_loss: 0.7502 - val_accuracy: 0.5450\n",
      "Epoch 2/10\n",
      "100/100 [==============================] - 76s 761ms/step - loss: 0.7338 - accuracy: 0.6070 - val_loss: 0.7420 - val_accuracy: 0.5500\n",
      "Epoch 3/10\n",
      "100/100 [==============================] - 73s 732ms/step - loss: 0.6853 - accuracy: 0.6730 - val_loss: 0.7287 - val_accuracy: 0.5850\n",
      "Epoch 4/10\n",
      "100/100 [==============================] - 74s 740ms/step - loss: 0.5849 - accuracy: 0.7460 - val_loss: 0.7358 - val_accuracy: 0.5550\n",
      "Epoch 5/10\n",
      "100/100 [==============================] - 74s 739ms/step - loss: 0.4415 - accuracy: 0.8550 - val_loss: 0.7875 - val_accuracy: 0.5850\n",
      "Epoch 6/10\n",
      "100/100 [==============================] - 74s 738ms/step - loss: 0.3096 - accuracy: 0.9080 - val_loss: 0.9028 - val_accuracy: 0.5800\n",
      "Epoch 7/10\n",
      "100/100 [==============================] - 72s 723ms/step - loss: 0.1990 - accuracy: 0.9660 - val_loss: 1.1845 - val_accuracy: 0.5700\n",
      "Epoch 8/10\n",
      "100/100 [==============================] - 75s 750ms/step - loss: 0.1516 - accuracy: 0.9760 - val_loss: 1.2108 - val_accuracy: 0.5750\n",
      "Epoch 9/10\n",
      "100/100 [==============================] - 74s 738ms/step - loss: 0.1048 - accuracy: 0.9890 - val_loss: 1.7075 - val_accuracy: 0.5700\n",
      "Epoch 10/10\n",
      "100/100 [==============================] - 77s 774ms/step - loss: 0.0785 - accuracy: 0.9990 - val_loss: 2.0725 - val_accuracy: 0.5600\n"
     ]
    },
    {
     "data": {
      "text/plain": [
       "<tensorflow.python.keras.callbacks.History at 0x93d7fee370>"
      ]
     },
     "execution_count": 24,
     "metadata": {},
     "output_type": "execute_result"
    }
   ],
   "source": [
    "#l1 regularizer\n",
    "model.fit(\n",
    "    x= train_batches,\n",
    "    validation_data= valid_batch,\n",
    "    epochs=10,\n",
    "    verbose=True\n",
    ")"
   ]
  },
  {
   "cell_type": "code",
   "execution_count": 27,
   "id": "nuclear-cheat",
   "metadata": {},
   "outputs": [],
   "source": [
    "from tensorflow.keras.layers import Dropout"
   ]
  },
  {
   "cell_type": "code",
   "execution_count": null,
   "id": "practical-seeker",
   "metadata": {},
   "outputs": [],
   "source": [
    "Dropout(.1)"
   ]
  },
  {
   "cell_type": "code",
   "execution_count": null,
   "id": "extreme-birth",
   "metadata": {},
   "outputs": [],
   "source": []
  }
 ],
 "metadata": {
  "kernelspec": {
   "display_name": "Python 3",
   "language": "python",
   "name": "python3"
  },
  "language_info": {
   "codemirror_mode": {
    "name": "ipython",
    "version": 3
   },
   "file_extension": ".py",
   "mimetype": "text/x-python",
   "name": "python",
   "nbconvert_exporter": "python",
   "pygments_lexer": "ipython3",
   "version": "3.8.5"
  }
 },
 "nbformat": 4,
 "nbformat_minor": 5
}
