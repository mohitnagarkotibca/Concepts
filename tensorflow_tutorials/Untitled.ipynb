{
 "cells": [
  {
   "cell_type": "code",
   "execution_count": 1,
   "id": "ceramic-conditions",
   "metadata": {},
   "outputs": [],
   "source": [
    "import tensorflow as tf\n",
    "import numpy as np\n",
    "import pandas as pd\n",
    "import matplotlib.pyplot as plt\n",
    "import tensorflow\n",
    "from tensorflow import keras\n",
    "from tensorflow.keras.models import Sequential\n",
    "from tensorflow.keras.layers import Activation, Dense, BatchNormalization, Conv2D\n",
    "from tensorflow.keras.optimizers import Adam\n",
    "from tensorflow.keras.metrics import categorical_crossentropy\n",
    "from tensorflow.keras.preprocessing.image import ImageDataGenerator"
   ]
  },
  {
   "cell_type": "code",
   "execution_count": 2,
   "id": "patent-tragedy",
   "metadata": {},
   "outputs": [],
   "source": [
    "train= pd.read_csv('data/train.csv')\n",
    "test= pd.read_csv('data/test.csv')"
   ]
  },
  {
   "cell_type": "code",
   "execution_count": 3,
   "id": "assumed-forum",
   "metadata": {},
   "outputs": [],
   "source": [
    "\n",
    "X= train.drop('label',axis=1)\n",
    "y= train['label']\n"
   ]
  },
  {
   "cell_type": "code",
   "execution_count": 4,
   "id": "conscious-daisy",
   "metadata": {},
   "outputs": [],
   "source": [
    "def display_image(X,i):    \n",
    "    plt.imshow(np.matrix(X.iloc[i].values.reshape(28,28,1)))\n",
    "    plt.show()"
   ]
  },
  {
   "cell_type": "code",
   "execution_count": 5,
   "id": "scientific-friendly",
   "metadata": {},
   "outputs": [],
   "source": [
    "\n",
    "from sklearn.model_selection import train_test_split\n",
    "\n",
    "train_x,val_x,train_y,val_y= train_test_split(X,y)"
   ]
  },
  {
   "cell_type": "code",
   "execution_count": 6,
   "id": "accompanied-curve",
   "metadata": {},
   "outputs": [],
   "source": [
    "\n",
    "model= tf.keras.Sequential([\n",
    "    Dense(units=32,input_shape=(784,), activation='relu'),\n",
    "    Dense(units=32, activation='relu'),\n",
    "    Dense(units=32, activation='relu'),\n",
    "    Dense(units=10, activation='softmax')\n",
    "])\n"
   ]
  },
  {
   "cell_type": "code",
   "execution_count": 7,
   "id": "clear-canada",
   "metadata": {},
   "outputs": [],
   "source": [
    "model.compile(\n",
    "    optimizer='adam',\n",
    "    loss='sparse_categorical_crossentropy',\n",
    "    metrics=['accuracy']\n",
    ")"
   ]
  },
  {
   "cell_type": "code",
   "execution_count": 8,
   "id": "competent-vertical",
   "metadata": {},
   "outputs": [
    {
     "name": "stdout",
     "output_type": "stream",
     "text": [
      "Epoch 1/10\n",
      "788/788 [==============================] - 3s 4ms/step - loss: 2.1206 - accuracy: 0.6367 - val_loss: 0.7140 - val_accuracy: 0.8110\n",
      "Epoch 2/10\n",
      "788/788 [==============================] - 2s 2ms/step - loss: 0.5474 - accuracy: 0.8471 - val_loss: 0.4822 - val_accuracy: 0.8684\n",
      "Epoch 3/10\n",
      "788/788 [==============================] - 2s 2ms/step - loss: 0.4161 - accuracy: 0.8839 - val_loss: 0.4408 - val_accuracy: 0.8833\n",
      "Epoch 4/10\n",
      "788/788 [==============================] - 2s 2ms/step - loss: 0.3677 - accuracy: 0.8957 - val_loss: 0.4045 - val_accuracy: 0.8914\n",
      "Epoch 5/10\n",
      "788/788 [==============================] - 2s 2ms/step - loss: 0.3127 - accuracy: 0.9098 - val_loss: 0.3912 - val_accuracy: 0.8986\n",
      "Epoch 6/10\n",
      "788/788 [==============================] - 2s 2ms/step - loss: 0.2955 - accuracy: 0.9153 - val_loss: 0.3696 - val_accuracy: 0.9013\n",
      "Epoch 7/10\n",
      "788/788 [==============================] - 1s 2ms/step - loss: 0.2610 - accuracy: 0.9246 - val_loss: 0.3207 - val_accuracy: 0.9148\n",
      "Epoch 8/10\n",
      "788/788 [==============================] - 2s 2ms/step - loss: 0.2471 - accuracy: 0.9287 - val_loss: 0.3194 - val_accuracy: 0.9119\n",
      "Epoch 9/10\n",
      "788/788 [==============================] - 2s 3ms/step - loss: 0.2268 - accuracy: 0.9332 - val_loss: 0.3137 - val_accuracy: 0.9173\n",
      "Epoch 10/10\n",
      "788/788 [==============================] - 2s 2ms/step - loss: 0.2195 - accuracy: 0.9347 - val_loss: 0.2802 - val_accuracy: 0.9259\n",
      "329/329 [==============================] - 0s 1ms/step - loss: 0.2644 - accuracy: 0.9289\n"
     ]
    },
    {
     "data": {
      "text/plain": [
       "[0.26436999440193176, 0.928857147693634]"
      ]
     },
     "execution_count": 8,
     "metadata": {},
     "output_type": "execute_result"
    }
   ],
   "source": [
    "model.fit(x= train_x,y= train_y,validation_split=0.2,epochs=10)\n",
    "model.evaluate(x= val_x,y= val_y)\n"
   ]
  },
  {
   "cell_type": "code",
   "execution_count": 9,
   "id": "hollow-driver",
   "metadata": {},
   "outputs": [],
   "source": [
    "answers= model.predict(val_x)\n",
    "predictions= np.argmax(answers, axis=-1)"
   ]
  },
  {
   "cell_type": "code",
   "execution_count": 10,
   "id": "owned-cannon",
   "metadata": {},
   "outputs": [],
   "source": [
    "li=[]\n",
    "for i in range(1000):\n",
    "    if val_y.iloc[i] != predictions[i]:\n",
    "        li.append(val_y.iloc[i])"
   ]
  },
  {
   "cell_type": "code",
   "execution_count": 11,
   "id": "meaning-observer",
   "metadata": {},
   "outputs": [],
   "source": [
    "li= pd.Series(li)"
   ]
  },
  {
   "cell_type": "code",
   "execution_count": 12,
   "id": "elegant-carter",
   "metadata": {},
   "outputs": [],
   "source": [
    "from sklearn.metrics import confusion_matrix"
   ]
  },
  {
   "cell_type": "code",
   "execution_count": 16,
   "id": "invalid-cylinder",
   "metadata": {},
   "outputs": [],
   "source": [
    "import itertools\n",
    "def plot_confusion_matrix(cm, classes,\n",
    "                          normalize=False,\n",
    "                          title='Confusion matrix',\n",
    "                          cmap=plt.cm.Blues):\n",
    "\n",
    "    plt.imshow(cm, interpolation='nearest', cmap=cmap)\n",
    "    plt.title(title)\n",
    "    plt.colorbar()\n",
    "    tick_marks = np.arange(len(classes))\n",
    "    plt.xticks(tick_marks, classes, rotation=45)\n",
    "    plt.yticks(tick_marks, classes)\n",
    "\n",
    "    if normalize:\n",
    "        cm = cm.astype('float') / cm.sum(axis=1)[:, np.newaxis]\n",
    "        print(\"Normalized confusion matrix\")\n",
    "    else:\n",
    "        print('Confusion matrix, without normalization')\n",
    "\n",
    "    print(cm)\n",
    "\n",
    "    thresh = cm.max() / 2.\n",
    "    for i, j in itertools.product(range(cm.shape[0]), range(cm.shape[1])):\n",
    "        plt.text(j, i, cm[i, j],\n",
    "                 horizontalalignment=\"center\",\n",
    "                 color=\"white\" if cm[i, j] > thresh else \"black\")\n",
    "\n",
    "    plt.tight_layout()\n",
    "    plt.ylabel('True label')\n",
    "    plt.xlabel('Predicted label')"
   ]
  },
  {
   "cell_type": "code",
   "execution_count": 17,
   "id": "indirect-school",
   "metadata": {},
   "outputs": [
    {
     "name": "stdout",
     "output_type": "stream",
     "text": [
      "Confusion matrix, without normalization\n",
      "[[ 946    0    1    2    5   17    4    2   11    2]\n",
      " [   0 1177    4    5    2    1    1    1    6    0]\n",
      " [   4    6 1012   13   17    3    6   13   21    2]\n",
      " [   2    4   26  980    2   27    2    8   34    2]\n",
      " [   4    6    1    2  961    2    7    4    6   34]\n",
      " [   4   20    6   41    2  807   13    1   20    3]\n",
      " [   4    1    7    0    3   30  985    0   13    1]\n",
      " [   2   15   12    4    6    0    0 1012    3   19]\n",
      " [   0   13   15   26    3   13    1    1  975    6]\n",
      " [   7    6    1   22   23    8    2   21   27  898]]\n"
     ]
    },
    {
     "data": {
      "image/png": "[encoded data removed]",
      "text/plain": [
       "<Figure size 432x288 with 2 Axes>"
      ]
     },
     "metadata": {
      "needs_background": "light"
     },
     "output_type": "display_data"
    }
   ],
   "source": [
    "classes1=['0','1','2','3','4','5','6','7','8','9']\n",
    "plot_confusion_matrix(confusion_matrix(y_true= val_y,y_pred= predictions),classes= classes1)"
   ]
  },
  {
   "cell_type": "code",
   "execution_count": null,
   "id": "underlying-forest",
   "metadata": {},
   "outputs": [],
   "source": []
  },
  {
   "cell_type": "code",
   "execution_count": null,
   "id": "responsible-ghost",
   "metadata": {},
   "outputs": [],
   "source": []
  },
  {
   "cell_type": "code",
   "execution_count": null,
   "id": "useful-rugby",
   "metadata": {},
   "outputs": [],
   "source": []
  }
 ],
 "metadata": {
  "kernelspec": {
   "display_name": "Python 3",
   "language": "python",
   "name": "python3"
  },
  "language_info": {
   "codemirror_mode": {
    "name": "ipython",
    "version": 3
   },
   "file_extension": ".py",
   "mimetype": "text/x-python",
   "name": "python",
   "nbconvert_exporter": "python",
   "pygments_lexer": "ipython3",
   "version": "3.8.5"
  }
 },
 "nbformat": 4,
 "nbformat_minor": 5
}
