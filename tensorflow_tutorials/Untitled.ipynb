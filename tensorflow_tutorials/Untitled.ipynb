{
 "cells": [
  {
   "cell_type": "code",
   "execution_count": 19,
   "id": "opening-lighter",
   "metadata": {},
   "outputs": [],
   "source": [
    "import pandas as pd\n",
    "import tensorflow as tf\n",
    "import numpy as np\n",
    "import matplotlib.pyplot as plt"
   ]
  },
  {
   "cell_type": "code",
   "execution_count": 2,
   "id": "established-communist",
   "metadata": {},
   "outputs": [],
   "source": [
    "train= pd.read_csv('data/mnist/train.csv')\n",
    "test = pd.read_csv('data/mnist/test.csv')"
   ]
  },
  {
   "cell_type": "code",
   "execution_count": 12,
   "id": "fabulous-destination",
   "metadata": {},
   "outputs": [],
   "source": [
    "X= train.drop('label',axis=1)\n",
    "y= train['label']"
   ]
  },
  {
   "cell_type": "code",
   "execution_count": 24,
   "id": "korean-mainstream",
   "metadata": {},
   "outputs": [
    {
     "data": {
      "text/plain": [
       "<matplotlib.image.AxesImage at 0xfa10e21490>"
      ]
     },
     "execution_count": 24,
     "metadata": {},
     "output_type": "execute_result"
    },
    {
     "data": {
      "image/png": "[encoded data removed]",
      "text/plain": [
       "<Figure size 432x288 with 1 Axes>"
      ]
     },
     "metadata": {
      "needs_background": "light"
     },
     "output_type": "display_data"
    }
   ],
   "source": [
    "plt.imshow(X.iloc[1].values.reshape(28,28))"
   ]
  },
  {
   "cell_type": "code",
   "execution_count": 70,
   "id": "later-formula",
   "metadata": {},
   "outputs": [],
   "source": [
    "from sklearn.model_selection import train_test_split\n",
    "x= np.squeeze([z.reshape((28,28)) for z in X.values])\n",
    "train_x,val_x,train_y,val_y= train_test_split(x,y)"
   ]
  },
  {
   "cell_type": "code",
   "execution_count": 76,
   "id": "positive-string",
   "metadata": {},
   "outputs": [
    {
     "data": {
      "text/plain": [
       "(28, 28)"
      ]
     },
     "execution_count": 76,
     "metadata": {},
     "output_type": "execute_result"
    }
   ],
   "source": [
    "train_x[0].shape"
   ]
  },
  {
   "cell_type": "code",
   "execution_count": null,
   "id": "threatened-intelligence",
   "metadata": {},
   "outputs": [],
   "source": []
  },
  {
   "cell_type": "code",
   "execution_count": 100,
   "id": "young-darkness",
   "metadata": {},
   "outputs": [],
   "source": [
    "model = tf.keras.Sequential()\n",
    "\n",
    "model.add(tf.keras.layers.Conv2D(32, kernel_size = 3, activation='relu', input_shape = (28, 28, 1)))\n",
    "model.add(tf.keras.layers.Conv2D(32, kernel_size = 3, activation='relu'))\n",
    "model.add(tf.keras.layers.Conv2D(32, kernel_size = 5, strides=2, padding='same', activation='relu'))\n",
    "model.add(tf.keras.layers.Conv2D(64, kernel_size = 3, activation='relu'))\n",
    "model.add(tf.keras.layers.Conv2D(64, kernel_size = 3, activation='relu'))\n",
    "model.add(tf.keras.layers.Conv2D(64, kernel_size = 5, strides=2, padding='same', activation='relu'))\n",
    "model.add(tf.keras.layers.Conv2D(128, kernel_size = 4, activation='relu'))\n",
    "model.add(tf.keras.layers.Flatten())\n",
    "# model.add(Dropout(0.5))\n",
    "# model.add(Dense(10, activation='softmax'))"
   ]
  },
  {
   "cell_type": "code",
   "execution_count": 101,
   "id": "alien-sally",
   "metadata": {},
   "outputs": [
    {
     "name": "stdout",
     "output_type": "stream",
     "text": [
      "Model: \"sequential_18\"\n",
      "_________________________________________________________________\n",
      "Layer (type)                 Output Shape              Param #   \n",
      "=================================================================\n",
      "conv2d_68 (Conv2D)           (None, 26, 26, 32)        320       \n",
      "_________________________________________________________________\n",
      "conv2d_69 (Conv2D)           (None, 24, 24, 32)        9248      \n",
      "_________________________________________________________________\n",
      "conv2d_70 (Conv2D)           (None, 12, 12, 32)        25632     \n",
      "_________________________________________________________________\n",
      "conv2d_71 (Conv2D)           (None, 10, 10, 64)        18496     \n",
      "_________________________________________________________________\n",
      "conv2d_72 (Conv2D)           (None, 8, 8, 64)          36928     \n",
      "_________________________________________________________________\n",
      "conv2d_73 (Conv2D)           (None, 4, 4, 64)          102464    \n",
      "_________________________________________________________________\n",
      "conv2d_74 (Conv2D)           (None, 1, 1, 128)         131200    \n",
      "_________________________________________________________________\n",
      "flatten_3 (Flatten)          (None, 128)               0         \n",
      "=================================================================\n",
      "Total params: 324,288\n",
      "Trainable params: 324,288\n",
      "Non-trainable params: 0\n",
      "_________________________________________________________________\n"
     ]
    }
   ],
   "source": [
    "model.summary()"
   ]
  },
  {
   "cell_type": "code",
   "execution_count": null,
   "id": "polished-clinton",
   "metadata": {},
   "outputs": [],
   "source": [
    "\n",
    "\n",
    "# setting for early stopping\n",
    "\n",
    "from tensorflow import keras\n",
    "\n",
    "callbacks = [\n",
    "    keras.callbacks.EarlyStopping(\n",
    "        # Stop training when `val_loss` is no longer improving\n",
    "        monitor='val_loss',\n",
    "        # \"no longer improving\" being defined as \"no better than 1e-2 less\"\n",
    "        min_delta=1e-5,\n",
    "        # \"no longer improving\" being further defined as \"for at least 2 epochs\"\n",
    "        patience=15,\n",
    "        verbose=1)\n",
    "]\n",
    "\n"
   ]
  },
  {
   "cell_type": "code",
   "execution_count": null,
   "id": "elementary-agency",
   "metadata": {},
   "outputs": [],
   "source": [
    "plt.plot(history.history['loss'],label='train_loss')\n",
    "plt.plot(history.history['val_loss'],label='val_loss')\n",
    "plt.xlabel('No. epoch')\n",
    "plt.legend()\n",
    "plt.show()\n",
    "\n",
    "plt.figure()\n",
    "\n",
    "plt.plot(history.history['accuracy'],label='train_accuracy')\n",
    "plt.plot(history.history['val_accuracy'],label='test_accuracy')\n",
    "plt.xlabel('No. epoch')\n",
    "plt.legend()\n",
    "plt.show()"
   ]
  },
  {
   "cell_type": "code",
   "execution_count": null,
   "id": "terminal-freight",
   "metadata": {},
   "outputs": [],
   "source": [
    "\n",
    "\n",
    "scores = model.evaluate(x_test, y_test, verbose = 10 )\n",
    "print ( scores )\n",
    "\n",
    "\n",
    "\n",
    "predictions=model.predict(test_2d)\n",
    "pre=predictions.argmax(axis=-1)\n",
    "\n",
    "\n",
    "\n",
    "submission = pd.Series(pre,name=\"Label\")\n",
    "submission = pd.concat([pd.Series(range(1,28001),name = \"ImageId\"),submission],axis = 1)\n",
    "submission.to_csv(\"final_submission_lenet5.csv\",index=False)\n",
    "submission.head()\n",
    "\n"
   ]
  }
 ],
 "metadata": {
  "kernelspec": {
   "display_name": "Python 3",
   "language": "python",
   "name": "python3"
  },
  "language_info": {
   "codemirror_mode": {
    "name": "ipython",
    "version": 3
   },
   "file_extension": ".py",
   "mimetype": "text/x-python",
   "name": "python",
   "nbconvert_exporter": "python",
   "pygments_lexer": "ipython3",
   "version": "3.8.5"
  }
 },
 "nbformat": 4,
 "nbformat_minor": 5
}
