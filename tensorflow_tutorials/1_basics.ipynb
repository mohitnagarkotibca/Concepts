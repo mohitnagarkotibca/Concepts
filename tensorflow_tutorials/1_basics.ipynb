{
 "cells": [
  {
   "cell_type": "markdown",
   "id": "fossil-genealogy",
   "metadata": {},
   "source": [
    "## Writing and running programs in TensorFlow has the following steps:\n",
    "1. Create Tensors (variables) that are not yet executed/evaluated.\n",
    "2. Write operations between those Tensors.\n",
    "3. Initialize your Tensors.\n",
    "4. Create a Session.\n",
    "5. Run the Session. This will run the operations you'd written above."
   ]
  },
  {
   "cell_type": "code",
   "execution_count": 1,
   "id": "conscious-volunteer",
   "metadata": {},
   "outputs": [],
   "source": [
    "import tensorflow as tf\n",
    "import numpy as np\n",
    "import pandas as pd\n",
    "import matplotlib.pyplot as plt"
   ]
  },
  {
   "cell_type": "code",
   "execution_count": 2,
   "id": "extra-perspective",
   "metadata": {},
   "outputs": [
    {
     "name": "stdout",
     "output_type": "stream",
     "text": [
      "Your TensorFlow version: 2.3.0\n"
     ]
    }
   ],
   "source": [
    "print(('Your TensorFlow version: {0}').format(tf.__version__))"
   ]
  },
  {
   "cell_type": "code",
   "execution_count": 3,
   "id": "bulgarian-enforcement",
   "metadata": {},
   "outputs": [],
   "source": [
    "data= pd.read_csv('data/iris.csv')"
   ]
  },
  {
   "cell_type": "code",
   "execution_count": 4,
   "id": "convinced-skating",
   "metadata": {},
   "outputs": [],
   "source": [
    "X= data.drop(['Id','Species'],axis=1)\n",
    "y= data['Species'].map({'Iris-virginica':0,'Iris-versicolor':1,'Iris-setosa':2})"
   ]
  },
  {
   "cell_type": "code",
   "execution_count": 5,
   "id": "technological-lease",
   "metadata": {},
   "outputs": [],
   "source": [
    "from sklearn.model_selection import train_test_split"
   ]
  },
  {
   "cell_type": "code",
   "execution_count": 6,
   "id": "apparent-pattern",
   "metadata": {},
   "outputs": [],
   "source": [
    "train_x,val_x,train_y,val_y= train_test_split(X,y)"
   ]
  },
  {
   "cell_type": "code",
   "execution_count": 2,
   "id": "hawaiian-feeling",
   "metadata": {},
   "outputs": [],
   "source": [
    "import tensorflow\n",
    "from tensorflow import keras\n",
    "from tensorflow.keras.models import Sequential\n",
    "from tensorflow.keras.layers import Activation, Dense, BatchNormalization, Conv2D\n",
    "from tensorflow.keras.optimizers import Adam\n",
    "from tensorflow.keras.metrics import categorical_crossentropy\n",
    "from tensorflow.keras.preprocessing.image import ImageDataGenerator"
   ]
  },
  {
   "cell_type": "code",
   "execution_count": 24,
   "id": "fallen-cheat",
   "metadata": {},
   "outputs": [],
   "source": [
    "#1st dense layer is actually the second layer, we don't explict;y write the first layer\n",
    "# Dense: Fully Connected layers\n",
    "model= Sequential([\n",
    "    Dense(units=16, input_shape=(4,), activation='relu'),\n",
    "    Dense(units=32, activation='relu'),\n",
    "    Dense(units=3, activation='softmax')\n",
    "          ])"
   ]
  },
  {
   "cell_type": "code",
   "execution_count": 25,
   "id": "exposed-biotechnology",
   "metadata": {
    "collapsed": true,
    "jupyter": {
     "outputs_hidden": true
    }
   },
   "outputs": [
    {
     "name": "stdout",
     "output_type": "stream",
     "text": [
      "Model: \"sequential_4\"\n",
      "_________________________________________________________________\n",
      "Layer (type)                 Output Shape              Param #   \n",
      "=================================================================\n",
      "dense_12 (Dense)             (None, 16)                80        \n",
      "_________________________________________________________________\n",
      "dense_13 (Dense)             (None, 32)                544       \n",
      "_________________________________________________________________\n",
      "dense_14 (Dense)             (None, 3)                 99        \n",
      "=================================================================\n",
      "Total params: 723\n",
      "Trainable params: 723\n",
      "Non-trainable params: 0\n",
      "_________________________________________________________________\n"
     ]
    }
   ],
   "source": [
    "model.summary()"
   ]
  },
  {
   "cell_type": "code",
   "execution_count": 27,
   "id": "dried-conservation",
   "metadata": {},
   "outputs": [],
   "source": [
    "model.compile(optimizer=Adam(learning_rate=0.001), loss='sparse_categorical_crossentropy',metrics=['accuracy'])"
   ]
  },
  {
   "cell_type": "code",
   "execution_count": 30,
   "id": "elegant-proportion",
   "metadata": {},
   "outputs": [
    {
     "name": "stdout",
     "output_type": "stream",
     "text": [
      "Epoch 1/30\n",
      "12/12 [==============================] - 0s 1ms/step - loss: 0.2611 - accuracy: 0.9554\n",
      "Epoch 2/30\n",
      "12/12 [==============================] - 0s 2ms/step - loss: 0.2536 - accuracy: 0.9732\n",
      "Epoch 3/30\n",
      "12/12 [==============================] - 0s 2ms/step - loss: 0.2473 - accuracy: 0.9643\n",
      "Epoch 4/30\n",
      "12/12 [==============================] - 0s 2ms/step - loss: 0.2460 - accuracy: 0.9821\n",
      "Epoch 5/30\n",
      "12/12 [==============================] - 0s 2ms/step - loss: 0.2582 - accuracy: 0.8929\n",
      "Epoch 6/30\n",
      "12/12 [==============================] - 0s 2ms/step - loss: 0.2472 - accuracy: 0.9643\n",
      "Epoch 7/30\n",
      "12/12 [==============================] - 0s 2ms/step - loss: 0.2225 - accuracy: 0.9643\n",
      "Epoch 8/30\n",
      "12/12 [==============================] - 0s 2ms/step - loss: 0.2210 - accuracy: 0.9732\n",
      "Epoch 9/30\n",
      "12/12 [==============================] - 0s 2ms/step - loss: 0.2130 - accuracy: 0.9732\n",
      "Epoch 10/30\n",
      "12/12 [==============================] - 0s 2ms/step - loss: 0.2100 - accuracy: 0.9821\n",
      "Epoch 11/30\n",
      "12/12 [==============================] - 0s 2ms/step - loss: 0.2034 - accuracy: 0.9732\n",
      "Epoch 12/30\n",
      "12/12 [==============================] - 0s 2ms/step - loss: 0.1982 - accuracy: 0.9821\n",
      "Epoch 13/30\n",
      "12/12 [==============================] - 0s 2ms/step - loss: 0.1928 - accuracy: 0.9821\n",
      "Epoch 14/30\n",
      "12/12 [==============================] - 0s 2ms/step - loss: 0.1928 - accuracy: 0.9643\n",
      "Epoch 15/30\n",
      "12/12 [==============================] - 0s 1ms/step - loss: 0.1832 - accuracy: 0.9821\n",
      "Epoch 16/30\n",
      "12/12 [==============================] - 0s 2ms/step - loss: 0.1795 - accuracy: 0.9732\n",
      "Epoch 17/30\n",
      "12/12 [==============================] - 0s 2ms/step - loss: 0.1775 - accuracy: 0.9821\n",
      "Epoch 18/30\n",
      "12/12 [==============================] - 0s 1ms/step - loss: 0.1728 - accuracy: 0.9732\n",
      "Epoch 19/30\n",
      "12/12 [==============================] - 0s 2ms/step - loss: 0.1692 - accuracy: 0.9643\n",
      "Epoch 20/30\n",
      "12/12 [==============================] - 0s 2ms/step - loss: 0.1639 - accuracy: 0.9821\n",
      "Epoch 21/30\n",
      "12/12 [==============================] - 0s 2ms/step - loss: 0.1591 - accuracy: 0.9821\n",
      "Epoch 22/30\n",
      "12/12 [==============================] - 0s 2ms/step - loss: 0.1561 - accuracy: 0.9911\n",
      "Epoch 23/30\n",
      "12/12 [==============================] - 0s 2ms/step - loss: 0.1522 - accuracy: 0.9821\n",
      "Epoch 24/30\n",
      "12/12 [==============================] - 0s 2ms/step - loss: 0.1536 - accuracy: 0.9732\n",
      "Epoch 25/30\n",
      "12/12 [==============================] - 0s 2ms/step - loss: 0.1524 - accuracy: 0.9821\n",
      "Epoch 26/30\n",
      "12/12 [==============================] - 0s 2ms/step - loss: 0.1454 - accuracy: 0.9732\n",
      "Epoch 27/30\n",
      "12/12 [==============================] - 0s 2ms/step - loss: 0.1504 - accuracy: 0.9643\n",
      "Epoch 28/30\n",
      "12/12 [==============================] - 0s 1ms/step - loss: 0.1399 - accuracy: 0.9732\n",
      "Epoch 29/30\n",
      "12/12 [==============================] - 0s 2ms/step - loss: 0.1346 - accuracy: 0.9911\n",
      "Epoch 30/30\n",
      "12/12 [==============================] - 0s 2ms/step - loss: 0.1334 - accuracy: 0.9732\n"
     ]
    },
    {
     "data": {
      "text/plain": [
       "<tensorflow.python.keras.callbacks.History at 0xc9069e4940>"
      ]
     },
     "execution_count": 30,
     "metadata": {},
     "output_type": "execute_result"
    }
   ],
   "source": [
    "model.fit(\n",
    "    x= train_x,\n",
    "    y= train_y,\n",
    "    batch_size = 10,\n",
    "    epochs=30,\n",
    "    shuffle=True,\n",
    "    verbose=True\n",
    ")"
   ]
  },
  {
   "cell_type": "code",
   "execution_count": 31,
   "id": "liquid-privilege",
   "metadata": {},
   "outputs": [
    {
     "name": "stdout",
     "output_type": "stream",
     "text": [
      "4/4 [==============================] - 0s 1ms/step - loss: 0.1685 - accuracy: 0.9474\n"
     ]
    },
    {
     "data": {
      "text/plain": [
       "[0.16852200031280518, 0.9473684430122375]"
      ]
     },
     "execution_count": 31,
     "metadata": {},
     "output_type": "execute_result"
    }
   ],
   "source": [
    "model.evaluate(x= val_x,y= val_y,batch_size=10)"
   ]
  },
  {
   "cell_type": "code",
   "execution_count": 32,
   "id": "economic-catholic",
   "metadata": {},
   "outputs": [
    {
     "name": "stdout",
     "output_type": "stream",
     "text": [
      "Model: \"sequential_4\"\n",
      "_________________________________________________________________\n",
      "Layer (type)                 Output Shape              Param #   \n",
      "=================================================================\n",
      "dense_12 (Dense)             (None, 16)                80        \n",
      "_________________________________________________________________\n",
      "dense_13 (Dense)             (None, 32)                544       \n",
      "_________________________________________________________________\n",
      "dense_14 (Dense)             (None, 3)                 99        \n",
      "=================================================================\n",
      "Total params: 723\n",
      "Trainable params: 723\n",
      "Non-trainable params: 0\n",
      "_________________________________________________________________\n"
     ]
    }
   ],
   "source": [
    "model.summary()"
   ]
  },
  {
   "cell_type": "markdown",
   "id": "authorized-diabetes",
   "metadata": {},
   "source": [
    "## MNIST dataset"
   ]
  },
  {
   "cell_type": "code",
   "execution_count": 4,
   "id": "novel-management",
   "metadata": {},
   "outputs": [],
   "source": [
    "train= pd.read_csv('data/train.csv')\n",
    "test= pd.read_csv('data/test.csv')"
   ]
  },
  {
   "cell_type": "code",
   "execution_count": 13,
   "id": "married-square",
   "metadata": {},
   "outputs": [
    {
     "data": {
      "text/html": [
       "<div>\n",
       "<style scoped>\n",
       "    .dataframe tbody tr th:only-of-type {\n",
       "        vertical-align: middle;\n",
       "    }\n",
       "\n",
       "    .dataframe tbody tr th {\n",
       "        vertical-align: top;\n",
       "    }\n",
       "\n",
       "    .dataframe thead th {\n",
       "        text-align: right;\n",
       "    }\n",
       "</style>\n",
       "<table border=\"1\" class=\"dataframe\">\n",
       "  <thead>\n",
       "    <tr style=\"text-align: right;\">\n",
       "      <th></th>\n",
       "      <th>label</th>\n",
       "      <th>pixel0</th>\n",
       "      <th>pixel1</th>\n",
       "      <th>pixel2</th>\n",
       "      <th>pixel3</th>\n",
       "      <th>pixel4</th>\n",
       "      <th>pixel5</th>\n",
       "      <th>pixel6</th>\n",
       "      <th>pixel7</th>\n",
       "      <th>pixel8</th>\n",
       "      <th>...</th>\n",
       "      <th>pixel774</th>\n",
       "      <th>pixel775</th>\n",
       "      <th>pixel776</th>\n",
       "      <th>pixel777</th>\n",
       "      <th>pixel778</th>\n",
       "      <th>pixel779</th>\n",
       "      <th>pixel780</th>\n",
       "      <th>pixel781</th>\n",
       "      <th>pixel782</th>\n",
       "      <th>pixel783</th>\n",
       "    </tr>\n",
       "  </thead>\n",
       "  <tbody>\n",
       "    <tr>\n",
       "      <th>0</th>\n",
       "      <td>1</td>\n",
       "      <td>0</td>\n",
       "      <td>0</td>\n",
       "      <td>0</td>\n",
       "      <td>0</td>\n",
       "      <td>0</td>\n",
       "      <td>0</td>\n",
       "      <td>0</td>\n",
       "      <td>0</td>\n",
       "      <td>0</td>\n",
       "      <td>...</td>\n",
       "      <td>0</td>\n",
       "      <td>0</td>\n",
       "      <td>0</td>\n",
       "      <td>0</td>\n",
       "      <td>0</td>\n",
       "      <td>0</td>\n",
       "      <td>0</td>\n",
       "      <td>0</td>\n",
       "      <td>0</td>\n",
       "      <td>0</td>\n",
       "    </tr>\n",
       "    <tr>\n",
       "      <th>1</th>\n",
       "      <td>0</td>\n",
       "      <td>0</td>\n",
       "      <td>0</td>\n",
       "      <td>0</td>\n",
       "      <td>0</td>\n",
       "      <td>0</td>\n",
       "      <td>0</td>\n",
       "      <td>0</td>\n",
       "      <td>0</td>\n",
       "      <td>0</td>\n",
       "      <td>...</td>\n",
       "      <td>0</td>\n",
       "      <td>0</td>\n",
       "      <td>0</td>\n",
       "      <td>0</td>\n",
       "      <td>0</td>\n",
       "      <td>0</td>\n",
       "      <td>0</td>\n",
       "      <td>0</td>\n",
       "      <td>0</td>\n",
       "      <td>0</td>\n",
       "    </tr>\n",
       "    <tr>\n",
       "      <th>2</th>\n",
       "      <td>1</td>\n",
       "      <td>0</td>\n",
       "      <td>0</td>\n",
       "      <td>0</td>\n",
       "      <td>0</td>\n",
       "      <td>0</td>\n",
       "      <td>0</td>\n",
       "      <td>0</td>\n",
       "      <td>0</td>\n",
       "      <td>0</td>\n",
       "      <td>...</td>\n",
       "      <td>0</td>\n",
       "      <td>0</td>\n",
       "      <td>0</td>\n",
       "      <td>0</td>\n",
       "      <td>0</td>\n",
       "      <td>0</td>\n",
       "      <td>0</td>\n",
       "      <td>0</td>\n",
       "      <td>0</td>\n",
       "      <td>0</td>\n",
       "    </tr>\n",
       "    <tr>\n",
       "      <th>3</th>\n",
       "      <td>4</td>\n",
       "      <td>0</td>\n",
       "      <td>0</td>\n",
       "      <td>0</td>\n",
       "      <td>0</td>\n",
       "      <td>0</td>\n",
       "      <td>0</td>\n",
       "      <td>0</td>\n",
       "      <td>0</td>\n",
       "      <td>0</td>\n",
       "      <td>...</td>\n",
       "      <td>0</td>\n",
       "      <td>0</td>\n",
       "      <td>0</td>\n",
       "      <td>0</td>\n",
       "      <td>0</td>\n",
       "      <td>0</td>\n",
       "      <td>0</td>\n",
       "      <td>0</td>\n",
       "      <td>0</td>\n",
       "      <td>0</td>\n",
       "    </tr>\n",
       "    <tr>\n",
       "      <th>4</th>\n",
       "      <td>0</td>\n",
       "      <td>0</td>\n",
       "      <td>0</td>\n",
       "      <td>0</td>\n",
       "      <td>0</td>\n",
       "      <td>0</td>\n",
       "      <td>0</td>\n",
       "      <td>0</td>\n",
       "      <td>0</td>\n",
       "      <td>0</td>\n",
       "      <td>...</td>\n",
       "      <td>0</td>\n",
       "      <td>0</td>\n",
       "      <td>0</td>\n",
       "      <td>0</td>\n",
       "      <td>0</td>\n",
       "      <td>0</td>\n",
       "      <td>0</td>\n",
       "      <td>0</td>\n",
       "      <td>0</td>\n",
       "      <td>0</td>\n",
       "    </tr>\n",
       "  </tbody>\n",
       "</table>\n",
       "<p>5 rows × 785 columns</p>\n",
       "</div>"
      ],
      "text/plain": [
       "   label  pixel0  pixel1  pixel2  pixel3  pixel4  pixel5  pixel6  pixel7  \\\n",
       "0      1       0       0       0       0       0       0       0       0   \n",
       "1      0       0       0       0       0       0       0       0       0   \n",
       "2      1       0       0       0       0       0       0       0       0   \n",
       "3      4       0       0       0       0       0       0       0       0   \n",
       "4      0       0       0       0       0       0       0       0       0   \n",
       "\n",
       "   pixel8  ...  pixel774  pixel775  pixel776  pixel777  pixel778  pixel779  \\\n",
       "0       0  ...         0         0         0         0         0         0   \n",
       "1       0  ...         0         0         0         0         0         0   \n",
       "2       0  ...         0         0         0         0         0         0   \n",
       "3       0  ...         0         0         0         0         0         0   \n",
       "4       0  ...         0         0         0         0         0         0   \n",
       "\n",
       "   pixel780  pixel781  pixel782  pixel783  \n",
       "0         0         0         0         0  \n",
       "1         0         0         0         0  \n",
       "2         0         0         0         0  \n",
       "3         0         0         0         0  \n",
       "4         0         0         0         0  \n",
       "\n",
       "[5 rows x 785 columns]"
      ]
     },
     "execution_count": 13,
     "metadata": {},
     "output_type": "execute_result"
    }
   ],
   "source": [
    "train.head()"
   ]
  },
  {
   "cell_type": "code",
   "execution_count": 7,
   "id": "original-ethiopia",
   "metadata": {},
   "outputs": [],
   "source": [
    "X= train.drop('label',axis=1)\n",
    "y= train['label']"
   ]
  },
  {
   "cell_type": "code",
   "execution_count": 11,
   "id": "minor-display",
   "metadata": {},
   "outputs": [],
   "source": [
    "# if we want to flatten out the image\n",
    "features= X.values.reshape(-1,28,28,1)"
   ]
  },
  {
   "cell_type": "code",
   "execution_count": 14,
   "id": "official-jesus",
   "metadata": {},
   "outputs": [
    {
     "name": "stdout",
     "output_type": "stream",
     "text": [
      "Image of 0 :\n"
     ]
    },
    {
     "data": {
      "image/png": "[encoded data removed]",
      "text/plain": [
       "<Figure size 432x288 with 1 Axes>"
      ]
     },
     "metadata": {
      "needs_background": "light"
     },
     "output_type": "display_data"
    }
   ],
   "source": [
    "import matplotlib.pyplot as plt\n",
    "plt.imshow(features[1][:,:,0])\n",
    "print('Image of {} :'.format(y[1]))"
   ]
  },
  {
   "cell_type": "code",
   "execution_count": 15,
   "id": "russian-nicholas",
   "metadata": {},
   "outputs": [],
   "source": [
    "from sklearn.model_selection import train_test_split\n",
    "train_x,val_x,train_y,val_y= train_test_split(X,y)"
   ]
  },
  {
   "cell_type": "code",
   "execution_count": 2,
   "id": "known-newcastle",
   "metadata": {},
   "outputs": [],
   "source": [
    "import numpy as np\n",
    "import pandas as pd\n",
    "import tensorflow as tf\n",
    "from tensorflow import keras\n",
    "from tensorflow.keras.models import Sequential\n",
    "from tensorflow.keras.layers import Activation,Dense\n",
    "from tensorflow.keras.optimizers import Adam\n",
    "from tensorflow.keras.metrics import categorical_crossentropy"
   ]
  },
  {
   "cell_type": "code",
   "execution_count": 7,
   "id": "standing-direction",
   "metadata": {},
   "outputs": [],
   "source": [
    "model= Sequential([\n",
    "    Dense(units=16,input_shape=(784,),activation='relu'),\n",
    "    Dense(units=32, activation='relu'),\n",
    "    Dense(units=10, activation='softmax')\n",
    "])"
   ]
  },
  {
   "cell_type": "code",
   "execution_count": 17,
   "id": "dangerous-ending",
   "metadata": {},
   "outputs": [
    {
     "data": {
      "text/plain": [
       "(31500, 784)"
      ]
     },
     "execution_count": 17,
     "metadata": {},
     "output_type": "execute_result"
    }
   ],
   "source": [
    "train_x.shape"
   ]
  },
  {
   "cell_type": "markdown",
   "id": "average-panel",
   "metadata": {},
   "source": [
    "Loss can be seen as a distance between the true values of the problem and the values predicted by the model. \n",
    "Greater the loss is, more huge is the errors you made on the data.\n",
    "\n",
    "Accuracy can be seen as the number of error you made on the data.\n",
    "\n",
    "That means :\n",
    "- a low accuracy and huge loss means you made huge errors on a lot of data\n",
    "- a low accuracy but low loss means you made little errors on a lot of data\n",
    "- a great accuracy with low loss means you made low errors on a few data (best case)\n"
   ]
  },
  {
   "cell_type": "code",
   "execution_count": null,
   "id": "peaceful-engagement",
   "metadata": {},
   "outputs": [],
   "source": [
    "model."
   ]
  },
  {
   "cell_type": "code",
   "execution_count": null,
   "id": "coastal-consequence",
   "metadata": {},
   "outputs": [],
   "source": [
    "model.fit(\n",
    "    x= train_x,\n",
    "    y= train_y,\n",
    "    batch_size=10,\n",
    "    validation_split=0.1,\n",
    "    epochs=20,\n",
    "    shuffle=True,\n",
    "    verbose=True\n",
    ")"
   ]
  },
  {
   "cell_type": "code",
   "execution_count": null,
   "id": "excited-religious",
   "metadata": {},
   "outputs": [],
   "source": []
  },
  {
   "cell_type": "code",
   "execution_count": null,
   "id": "happy-family",
   "metadata": {},
   "outputs": [],
   "source": []
  },
  {
   "cell_type": "code",
   "execution_count": null,
   "id": "precise-mirror",
   "metadata": {},
   "outputs": [],
   "source": []
  },
  {
   "cell_type": "code",
   "execution_count": null,
   "id": "hourly-paste",
   "metadata": {},
   "outputs": [],
   "source": []
  },
  {
   "cell_type": "code",
   "execution_count": null,
   "id": "shaped-confirmation",
   "metadata": {},
   "outputs": [],
   "source": []
  },
  {
   "cell_type": "code",
   "execution_count": null,
   "id": "immediate-charter",
   "metadata": {},
   "outputs": [],
   "source": []
  },
  {
   "cell_type": "code",
   "execution_count": null,
   "id": "verified-dependence",
   "metadata": {},
   "outputs": [],
   "source": []
  },
  {
   "cell_type": "code",
   "execution_count": null,
   "id": "american-collapse",
   "metadata": {},
   "outputs": [],
   "source": []
  },
  {
   "cell_type": "code",
   "execution_count": null,
   "id": "conventional-korea",
   "metadata": {},
   "outputs": [],
   "source": []
  },
  {
   "cell_type": "code",
   "execution_count": null,
   "id": "annual-prerequisite",
   "metadata": {},
   "outputs": [],
   "source": []
  },
  {
   "cell_type": "code",
   "execution_count": null,
   "id": "requested-corrections",
   "metadata": {},
   "outputs": [],
   "source": []
  },
  {
   "cell_type": "code",
   "execution_count": null,
   "id": "unable-logging",
   "metadata": {},
   "outputs": [],
   "source": []
  }
 ],
 "metadata": {
  "kernelspec": {
   "display_name": "Python 3",
   "language": "python",
   "name": "python3"
  },
  "language_info": {
   "codemirror_mode": {
    "name": "ipython",
    "version": 3
   },
   "file_extension": ".py",
   "mimetype": "text/x-python",
   "name": "python",
   "nbconvert_exporter": "python",
   "pygments_lexer": "ipython3",
   "version": "3.8.5"
  }
 },
 "nbformat": 4,
 "nbformat_minor": 5
}
