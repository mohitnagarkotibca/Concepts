{
 "cells": [
  {
   "cell_type": "code",
   "execution_count": 1,
   "id": "judicial-advantage",
   "metadata": {},
   "outputs": [],
   "source": [
    "import tensorflow as tf"
   ]
  },
  {
   "cell_type": "code",
   "execution_count": 2,
   "id": "traditional-saver",
   "metadata": {},
   "outputs": [
    {
     "data": {
      "text/plain": [
       "'2.3.0'"
      ]
     },
     "execution_count": 2,
     "metadata": {},
     "output_type": "execute_result"
    }
   ],
   "source": [
    "tf.__version__"
   ]
  },
  {
   "cell_type": "code",
   "execution_count": 3,
   "id": "junior-times",
   "metadata": {},
   "outputs": [],
   "source": [
    "from tensorflow import keras\n",
    "from tensorflow.keras import layers"
   ]
  },
  {
   "cell_type": "code",
   "execution_count": 7,
   "id": "genuine-light",
   "metadata": {},
   "outputs": [],
   "source": [
    "from scipy.io import loadmat\n",
    "mnist = loadmat(\"data/mnist-original.mat\")\n",
    "x = mnist[\"data\"].T\n",
    "y = mnist[\"label\"][0]"
   ]
  },
  {
   "cell_type": "code",
   "execution_count": 13,
   "id": "composed-medium",
   "metadata": {},
   "outputs": [],
   "source": [
    "model= keras.Sequential(\n",
    "[\n",
    "    layers.Dense(512,activation='relu'),\n",
    "    layers.Dense(512,activation='relu'),\n",
    "    layers.Dense(10)\n",
    "])\n",
    "model.compile(\n",
    "    loss= keras.losses.SparseCategoricalCrossentropy(from_logits=True),\n",
    "    optimizer= keras.optimizers.Adam(lr=0.001),\n",
    "    metrics=['accuracy']\n",
    ")"
   ]
  },
  {
   "cell_type": "code",
   "execution_count": 15,
   "id": "accompanied-alliance",
   "metadata": {},
   "outputs": [],
   "source": [
    "from sklearn.model_selection import train_test_split"
   ]
  },
  {
   "cell_type": "code",
   "execution_count": 23,
   "id": "worth-while",
   "metadata": {},
   "outputs": [],
   "source": [
    "train_x,val_x,train_y,val_y= train_test_split(x,y)"
   ]
  },
  {
   "cell_type": "code",
   "execution_count": null,
   "id": "forward-detector",
   "metadata": {},
   "outputs": [
    {
     "name": "stdout",
     "output_type": "stream",
     "text": [
      "Epoch 1/5\n",
      "1313/1313 [==============================] - 15s 11ms/step - loss: 1.7229 - accuracy: 0.9048\n",
      "Epoch 2/5\n",
      "1313/1313 [==============================] - 14s 11ms/step - loss: 0.2140 - accuracy: 0.9502\n",
      "Epoch 3/5\n",
      "1037/1313 [======================>.......] - ETA: 3s - loss: 0.1586 - accuracy: 0.9594"
     ]
    }
   ],
   "source": [
    "model.fit(train_x,train_y,batch_size=40,epochs=5,verbose=True)\n",
    "model.evaluate(val_x,val_y,batch_size=40,verbose=True)"
   ]
  },
  {
   "cell_type": "code",
   "execution_count": null,
   "id": "particular-humanitarian",
   "metadata": {},
   "outputs": [],
   "source": []
  }
 ],
 "metadata": {
  "kernelspec": {
   "display_name": "Python 3",
   "language": "python",
   "name": "python3"
  },
  "language_info": {
   "codemirror_mode": {
    "name": "ipython",
    "version": 3
   },
   "file_extension": ".py",
   "mimetype": "text/x-python",
   "name": "python",
   "nbconvert_exporter": "python",
   "pygments_lexer": "ipython3",
   "version": "3.8.5"
  }
 },
 "nbformat": 4,
 "nbformat_minor": 5
}
